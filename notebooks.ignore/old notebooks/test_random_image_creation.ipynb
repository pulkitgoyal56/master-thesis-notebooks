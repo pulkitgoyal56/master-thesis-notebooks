{
 "cells": [
  {
   "cell_type": "code",
   "execution_count": 10,
   "id": "af5b23df-6628-4030-8cec-4d2dae40e59b",
   "metadata": {},
   "outputs": [],
   "source": [
    "DEVICE = 'cpu' # 'cuda' if torch.cuda.is_available() else 'cpu'"
   ]
  },
  {
   "cell_type": "code",
   "execution_count": 9,
   "id": "eca5a0b6-499e-4752-93f9-aae7ba62a769",
   "metadata": {},
   "outputs": [],
   "source": [
    "MODEL_NAME = 'clip'\n",
    "MODEL_VERSION='ViT-L/14'"
   ]
  },
  {
   "cell_type": "markdown",
   "id": "6bfbb1e6-46b9-4c19-8f1a-c1d297c03ed1",
   "metadata": {},
   "source": [
    "## MAIN"
   ]
  },
  {
   "cell_type": "markdown",
   "id": "9cdede83-477a-4deb-bae5-e3c3a9622481",
   "metadata": {
    "jp-MarkdownHeadingCollapsed": true
   },
   "source": [
    "### Imports"
   ]
  },
  {
   "cell_type": "markdown",
   "id": "ae065de7-b26a-45b1-afca-33c89b6668b1",
   "metadata": {
    "jp-MarkdownHeadingCollapsed": true
   },
   "source": [
    "#### Standard Imports"
   ]
  },
  {
   "cell_type": "code",
   "execution_count": 16,
   "id": "7bdf0cd0-1dc6-47bd-9f46-33b853bd7496",
   "metadata": {},
   "outputs": [],
   "source": [
    "import os\n",
    "import sys"
   ]
  },
  {
   "cell_type": "code",
   "execution_count": 17,
   "id": "3dbd9f60-839c-48fc-ba37-03b48761ad84",
   "metadata": {},
   "outputs": [],
   "source": [
    "import logging"
   ]
  },
  {
   "cell_type": "code",
   "execution_count": 18,
   "id": "9180fce1-22fb-4ae6-b61d-d616ed0d10e0",
   "metadata": {},
   "outputs": [],
   "source": [
    "from pathlib import Path"
   ]
  },
  {
   "cell_type": "code",
   "execution_count": 19,
   "id": "6ea15c66-4b2f-452e-ac11-3aadc2dbb7f7",
   "metadata": {},
   "outputs": [],
   "source": [
    "import gc"
   ]
  },
  {
   "cell_type": "code",
   "execution_count": 20,
   "id": "6004bb40-ab67-48cf-bde6-fbd09b32b096",
   "metadata": {},
   "outputs": [],
   "source": [
    "import pickle"
   ]
  },
  {
   "cell_type": "code",
   "execution_count": 21,
   "id": "9e921bb7-5dd9-4e5a-b5ab-939031c8d633",
   "metadata": {},
   "outputs": [],
   "source": [
    "from itertools import product\n",
    "from functools import reduce"
   ]
  },
  {
   "cell_type": "code",
   "execution_count": 22,
   "id": "7f67efd0-099a-43fa-963b-3af92e4a6f47",
   "metadata": {},
   "outputs": [],
   "source": [
    "import numpy as np"
   ]
  },
  {
   "cell_type": "code",
   "execution_count": 23,
   "id": "32b5322f-47df-4a52-a757-8a73febf4847",
   "metadata": {},
   "outputs": [],
   "source": [
    "import matplotlib.pyplot as plt"
   ]
  },
  {
   "cell_type": "code",
   "execution_count": 24,
   "id": "5ff57b96-ab89-41bb-9e66-ea606431d484",
   "metadata": {},
   "outputs": [],
   "source": [
    "import torch"
   ]
  },
  {
   "cell_type": "code",
   "execution_count": 25,
   "id": "f2fa669f-2e82-4914-b442-8bec96bd6e0b",
   "metadata": {},
   "outputs": [],
   "source": [
    "from PIL import Image, ImageDraw, ImageOps\n",
    "import skimage"
   ]
  },
  {
   "cell_type": "code",
   "execution_count": 26,
   "id": "1ecca009-109f-4135-9f33-b1d56712ebdd",
   "metadata": {},
   "outputs": [],
   "source": [
    "from tqdm.notebook import tqdm"
   ]
  },
  {
   "cell_type": "markdown",
   "id": "b5dc7a4d-9213-4f7a-baad-8d38c75bb85b",
   "metadata": {},
   "source": [
    "---"
   ]
  },
  {
   "cell_type": "code",
   "execution_count": 27,
   "id": "7b3b1900-b21e-41c7-8f6b-4eec5fd6e09a",
   "metadata": {},
   "outputs": [],
   "source": [
    "%load_ext rich"
   ]
  },
  {
   "cell_type": "markdown",
   "id": "54b58f65-e1f8-4ca0-bbc7-ab2c1b5bd0f7",
   "metadata": {
    "jp-MarkdownHeadingCollapsed": true
   },
   "source": [
    "#### Custom Imports"
   ]
  },
  {
   "cell_type": "code",
   "execution_count": 28,
   "id": "60ee3554-7019-4559-92c0-1bd501e59b12",
   "metadata": {},
   "outputs": [],
   "source": [
    "sys.path.append('..')"
   ]
  },
  {
   "cell_type": "markdown",
   "id": "f5a0b268-1b07-42d5-b835-df4faa6e7272",
   "metadata": {},
   "source": [
    "---"
   ]
  },
  {
   "cell_type": "code",
   "execution_count": 29,
   "id": "450e3ef6-1d1f-4629-ae63-ad963688cf0a",
   "metadata": {},
   "outputs": [],
   "source": [
    "# Autoreload Custom Modules\n",
    "%load_ext autoreload\n",
    "%autoreload 1"
   ]
  },
  {
   "cell_type": "markdown",
   "id": "ac7d3b92-5954-46ef-a30c-223e1e5c7f3b",
   "metadata": {},
   "source": [
    "---"
   ]
  },
  {
   "cell_type": "code",
   "execution_count": 30,
   "id": "133d4581-a27f-45cd-b427-995cdf2c8946",
   "metadata": {},
   "outputs": [],
   "source": [
    "from imagelib import Im\n",
    "%aimport imagelib"
   ]
  },
  {
   "cell_type": "code",
   "execution_count": 15,
   "id": "c48f9cf5-af6e-42c7-b34b-46b25adec676",
   "metadata": {},
   "outputs": [],
   "source": [
    "from rollout import Rollout, rollout\n",
    "%aimport rollout"
   ]
  },
  {
   "cell_type": "code",
   "execution_count": null,
   "id": "7fe5deaf-1e6f-4e24-bc0b-c92f4cda773c",
   "metadata": {},
   "outputs": [],
   "source": [
    "from inference import infer\n",
    "%aimport inference"
   ]
  },
  {
   "cell_type": "markdown",
   "id": "1c92137c-1c86-407b-8d84-301f91f8f5d4",
   "metadata": {
    "jp-MarkdownHeadingCollapsed": true
   },
   "source": [
    "#### Config"
   ]
  },
  {
   "cell_type": "code",
   "execution_count": 31,
   "id": "059ad9b0-f5f8-4b33-ad2f-f8fda075e743",
   "metadata": {},
   "outputs": [],
   "source": [
    "np.set_printoptions(linewidth=1000)"
   ]
  },
  {
   "cell_type": "code",
   "execution_count": 32,
   "id": "03a7bd49-f35e-4b5e-a4ef-2b4cd7bbbdcf",
   "metadata": {},
   "outputs": [],
   "source": [
    "plt.set_loglevel('error')"
   ]
  },
  {
   "cell_type": "code",
   "execution_count": 33,
   "id": "8de4af04-4d9f-4bef-bd7d-eb1cef5536c5",
   "metadata": {},
   "outputs": [],
   "source": [
    "logging.basicConfig(level=logging.DEBUG)"
   ]
  },
  {
   "cell_type": "code",
   "execution_count": 34,
   "id": "93e9cb68-ccd0-436f-a4db-c13586ce1bb2",
   "metadata": {},
   "outputs": [],
   "source": [
    "logging.getLogger('imagelib').setLevel(logging.DEBUG)"
   ]
  },
  {
   "cell_type": "code",
   "execution_count": 22,
   "id": "4fb64715-415b-4b8f-95c7-6a19b6aeaad8",
   "metadata": {},
   "outputs": [],
   "source": [
    "logging.getLogger('rollout').setLevel(logging.DEBUG)"
   ]
  },
  {
   "cell_type": "code",
   "execution_count": null,
   "id": "b5810f54-cc07-4ba0-bb83-de56c4cd7448",
   "metadata": {},
   "outputs": [],
   "source": [
    "logging.getLogger('inference').setLevel(logging.DEBUG)"
   ]
  },
  {
   "cell_type": "markdown",
   "id": "264fbcb4-29d3-47b1-b43c-edda25d68d76",
   "metadata": {},
   "source": [
    "---"
   ]
  },
  {
   "cell_type": "code",
   "execution_count": 35,
   "id": "200cda28-7a01-4b11-ac2d-cdd4c2676881",
   "metadata": {},
   "outputs": [],
   "source": [
    "if DEVICE == 'cuda':\n",
    "    # Empty cache and collect garbage\n",
    "    logging.debug(\"> INIT / Clearing CUDA cache and collecting garbage.\")\n",
    "    torch.cuda.empty_cache()\n",
    "    gc.collect()\n",
    "    torch.cuda.memory_summary('cuda', abbreviated=True)"
   ]
  },
  {
   "cell_type": "markdown",
   "id": "3909c9c7-7b7e-4e46-b682-99c27ab152f4",
   "metadata": {
    "jp-MarkdownHeadingCollapsed": true
   },
   "source": [
    "#### Model"
   ]
  },
  {
   "cell_type": "code",
   "execution_count": 36,
   "id": "cf7b3b52-745a-43a3-9d3c-a682b8ba4e71",
   "metadata": {},
   "outputs": [
    {
     "name": "stderr",
     "output_type": "stream",
     "text": [
      "DEBUG:root:> Model loading to cpu successful.\n"
     ]
    }
   ],
   "source": [
    "# Load Model\n",
    "try:\n",
    "    if MODEL_NAME == 'clip':\n",
    "        import clip as Model\n",
    "    elif MODEL_NAME == 'flatnet':\n",
    "        from flatnet import FlatNet as Model\n",
    "    elif MODEL_NAME == 'flatnetlite':\n",
    "        from flatnet import FlatNetLite as Model\n",
    "    else:\n",
    "        raise ValueError(f'> Invalid model name {MODEL_NAME}.')\n",
    "\n",
    "    model, preprocess = Model.load(MODEL_VERSION, device=DEVICE)\n",
    "    model.eval()\n",
    "except RuntimeError as e:\n",
    "    logging.error(f'> Model loading to {DEVICE} failed.')\n",
    "    if device == 'cuda':\n",
    "        logging.debug('> Clearing CUDA cache and collecting garbage.')\n",
    "        torch.cuda.empty_cache()\n",
    "        gc.collect()\n",
    "        torch.cuda.memory_summary('cuda', abbreviated=True)\n",
    "    raise RuntimeError(e)\n",
    "else:\n",
    "    logging.debug(f'> Model loading to {DEVICE} successful.')"
   ]
  },
  {
   "cell_type": "markdown",
   "id": "1f836571-501f-4e09-ac22-0e25566315a6",
   "metadata": {},
   "source": [
    "# Main"
   ]
  },
  {
   "cell_type": "code",
   "execution_count": 1,
   "id": "8ec23861-d612-42b9-a123-1905a5dd301c",
   "metadata": {},
   "outputs": [
    {
     "ename": "NameError",
     "evalue": "name 'logging' is not defined",
     "output_type": "error",
     "traceback": [
      "\u001b[0;31m---------------------------------------------------------------------------\u001b[0m",
      "\u001b[0;31mNameError\u001b[0m                                 Traceback (most recent call last)",
      "Cell \u001b[0;32mIn[1], line 3\u001b[0m\n\u001b[1;32m      1\u001b[0m \u001b[38;5;28;01mfrom\u001b[39;00m \u001b[38;5;21;01mtorchvision\u001b[39;00m \u001b[38;5;28;01mimport\u001b[39;00m datasets\n\u001b[1;32m      2\u001b[0m \u001b[38;5;28;01mfrom\u001b[39;00m \u001b[38;5;21;01mclassifier\u001b[39;00m \u001b[38;5;28;01mimport\u001b[39;00m RandomDataset, MNISTDataset\n\u001b[0;32m----> 3\u001b[0m \u001b[43mlogging\u001b[49m\u001b[38;5;241m.\u001b[39mgetLogger(\u001b[38;5;124m'\u001b[39m\u001b[38;5;124mimagelib\u001b[39m\u001b[38;5;124m'\u001b[39m)\u001b[38;5;241m.\u001b[39msetLevel(logging\u001b[38;5;241m.\u001b[39mINFO)\n",
      "\u001b[0;31mNameError\u001b[0m: name 'logging' is not defined"
     ]
    }
   ],
   "source": [
    "from torchvision import datasets\n",
    "logging.getLogger('imagelib').setLevel(logging.INFO)"
   ]
  },
  {
   "cell_type": "code",
   "execution_count": null,
   "id": "1796ad43-b517-4d1a-8d7b-c7959d614602",
   "metadata": {},
   "outputs": [],
   "source": [
    "i = 0"
   ]
  },
  {
   "cell_type": "code",
   "execution_count": 89,
   "id": "66184545-82ed-486f-8c9e-67fe4b6c203f",
   "metadata": {},
   "outputs": [
    {
     "data": {
      "text/html": [
       "<pre style=\"white-space:pre;overflow-x:auto;line-height:normal;font-family:Menlo,'DejaVu Sans Mono',consolas,'Courier New',monospace\"></pre>\n"
      ],
      "text/plain": []
     },
     "metadata": {},
     "output_type": "display_data"
    },
    {
     "data": {
      "image/png": "[encoded data removed]",
      "text/plain": [
       "\u001b[1m<\u001b[0m\u001b[1;95mFigure\u001b[0m\u001b[39m size 64\u001b[0m\u001b[1;36m0x480\u001b[0m\u001b[39m with \u001b[0m\u001b[1;36m3\u001b[0m\u001b[39m Axes\u001b[0m\u001b[1m>\u001b[0m"
      ]
     },
     "metadata": {},
     "output_type": "display_data"
    }
   ],
   "source": [
    "s = 28\n",
    "original_image, label = datasets.MNIST(root='data/auto')[i]\n",
    "image, _ = MNISTDataset(skeleton=True, invert=True)[i]\n",
    "grid_image, _ = MNISTDataset(grid=True, invert=True, grid_width=s, grid_height=s, gridcell_size=8, render_w_grid=False)[i]\n",
    "i += 1\n",
    "plt.subplot(131); plt.axis('off'); plt.title(f'Original')\n",
    "plt.imshow(original_image.resize((s * 8, s * 8), Image.BICUBIC), cmap='gray')\n",
    "plt.subplot(132); plt.axis('off'); plt.title(f'Extracted')\n",
    "plt.imshow(image.resize((s * 8, s * 8), Image.BICUBIC), cmap='gray')\n",
    "plt.subplot(133); plt.axis('off'); plt.title(f'Registered')\n",
    "plt.imshow(grid_image, cmap='gray')\n",
    "plt.suptitle(label, y=0.8)\n",
    "plt.tight_layout()"
   ]
  },
  {
   "cell_type": "code",
   "execution_count": 718,
   "id": "e95481ad-ab34-4fd0-8195-1fe09a5fb09f",
   "metadata": {},
   "outputs": [],
   "source": [
    "i -= 2"
   ]
  },
  {
   "cell_type": "markdown",
   "id": "d476d070-4383-4e56-bbb1-0b726abff18c",
   "metadata": {},
   "source": [
    "---"
   ]
  },
  {
   "cell_type": "code",
   "execution_count": 111,
   "id": "4a00d4b6-94c1-49e2-bc81-fbed0a43a7c5",
   "metadata": {
    "scrolled": true
   },
   "outputs": [
    {
     "data": {
      "application/vnd.jupyter.widget-view+json": {
       "model_id": "4b85ff7718814d48bd2f18503a06686d",
       "version_major": 2,
       "version_minor": 0
      },
      "text/plain": [
       "  0%|          | 0/500 [00:00<?, ?it/s]"
      ]
     },
     "metadata": {},
     "output_type": "display_data"
    },
    {
     "data": {
      "text/html": [
       "<pre style=\"white-space:pre;overflow-x:auto;line-height:normal;font-family:Menlo,'DejaVu Sans Mono',consolas,'Courier New',monospace\"></pre>\n"
      ],
      "text/plain": []
     },
     "metadata": {},
     "output_type": "display_data"
    },
    {
     "data": {
      "text/plain": [
       "\u001b[1;36m1124.748\u001b[0m"
      ]
     },
     "execution_count": 111,
     "metadata": {},
     "output_type": "execute_result"
    }
   ],
   "source": [
    "sum = 0\n",
    "for i in tqdm(range((n := 500))):\n",
    "    sum += np.array(MNISTDataset()[i][0].resize((160, 160))).sum()\n",
    "sum /= n\n",
    "sum"
   ]
  },
  {
   "cell_type": "code",
   "execution_count": 112,
   "id": "91d7e758-65a4-4c06-9f15-6f786f0ca6cd",
   "metadata": {
    "scrolled": true
   },
   "outputs": [
    {
     "data": {
      "application/vnd.jupyter.widget-view+json": {
       "model_id": "c11ec6e7f38045eda939afba915601e1",
       "version_major": 2,
       "version_minor": 0
      },
      "text/plain": [
       "  0%|          | 0/500 [00:00<?, ?it/s]"
      ]
     },
     "metadata": {},
     "output_type": "display_data"
    },
    {
     "data": {
      "text/html": [
       "<pre style=\"white-space:pre;overflow-x:auto;line-height:normal;font-family:Menlo,'DejaVu Sans Mono',consolas,'Courier New',monospace\"></pre>\n"
      ],
      "text/plain": []
     },
     "metadata": {},
     "output_type": "display_data"
    },
    {
     "data": {
      "text/plain": [
       "\u001b[1;36m1138.312\u001b[0m"
      ]
     },
     "execution_count": 112,
     "metadata": {},
     "output_type": "execute_result"
    }
   ],
   "source": [
    "sum = 0\n",
    "for i in tqdm(range(n)):\n",
    "    sum += np.array(RandomDataset(p=0.045)[i][0].resize((160, 160))).sum()\n",
    "sum /= n\n",
    "sum"
   ]
  },
  {
   "cell_type": "code",
   "execution_count": 113,
   "id": "77c39766-267a-48aa-bc80-217436f964ac",
   "metadata": {
    "scrolled": true
   },
   "outputs": [
    {
     "data": {
      "application/vnd.jupyter.widget-view+json": {
       "model_id": "06fb19ada5fb4cd3932769537d721937",
       "version_major": 2,
       "version_minor": 0
      },
      "text/plain": [
       "  0%|          | 0/500 [00:00<?, ?it/s]"
      ]
     },
     "metadata": {},
     "output_type": "display_data"
    },
    {
     "data": {
      "text/html": [
       "<pre style=\"white-space:pre;overflow-x:auto;line-height:normal;font-family:Menlo,'DejaVu Sans Mono',consolas,'Courier New',monospace\"></pre>\n"
      ],
      "text/plain": []
     },
     "metadata": {},
     "output_type": "display_data"
    },
    {
     "data": {
      "text/plain": [
       "\u001b[1;36m1999.53\u001b[0m"
      ]
     },
     "execution_count": 113,
     "metadata": {},
     "output_type": "execute_result"
    }
   ],
   "source": [
    "sum = 0\n",
    "for i in tqdm(range(n)):\n",
    "    sum += np.array(MNISTDataset(grid=True, grid_width=20, grid_height=20, gridcell_size=8, render_w_grid=False)[i][0]).sum()\n",
    "sum /= n\n",
    "sum"
   ]
  },
  {
   "cell_type": "code",
   "execution_count": 114,
   "id": "6986b5c2-800d-41bb-b3ea-e29d1781442b",
   "metadata": {
    "scrolled": true
   },
   "outputs": [
    {
     "data": {
      "application/vnd.jupyter.widget-view+json": {
       "model_id": "e31d801418e64329942f00f8c85a8893",
       "version_major": 2,
       "version_minor": 0
      },
      "text/plain": [
       "  0%|          | 0/500 [00:00<?, ?it/s]"
      ]
     },
     "metadata": {},
     "output_type": "display_data"
    },
    {
     "data": {
      "text/html": [
       "<pre style=\"white-space:pre;overflow-x:auto;line-height:normal;font-family:Menlo,'DejaVu Sans Mono',consolas,'Courier New',monospace\"></pre>\n"
      ],
      "text/plain": []
     },
     "metadata": {},
     "output_type": "display_data"
    },
    {
     "data": {
      "text/plain": [
       "\u001b[1;36m2014.56\u001b[0m"
      ]
     },
     "execution_count": 114,
     "metadata": {},
     "output_type": "execute_result"
    }
   ],
   "source": [
    "sum = 0\n",
    "for i in tqdm(range(n)):\n",
    "    sum += np.array(RandomDataset(p=0.028, grid=True, grid_width=20, grid_height=20, gridcell_size=8, render_w_grid=False)[i][0]).sum()\n",
    "sum /= n\n",
    "sum"
   ]
  },
  {
   "cell_type": "markdown",
   "id": "0ec3578e-d97f-4681-b319-41381637bf1f",
   "metadata": {},
   "source": [
    "---"
   ]
  },
  {
   "cell_type": "raw",
   "id": "3731b2ec-37b6-4eae-9bbf-11976e90d28a",
   "metadata": {},
   "source": [
    "from classifier import MNISTDataset, RandomDataset\n",
    "image = MNISTDataset(length=100, train=False, grid=True, invert=False, grid_width=13, grid_height=13, gridcell_size=20, render_w_grid=False)[3][0]\n",
    "image.resize((28, 28), Image.BICUBIC)"
   ]
  },
  {
   "attachments": {},
   "cell_type": "raw",
   "id": "1e1bc7d3-5bf3-4976-8112-48d6a3eef09e",
   "metadata": {},
   "source": [
    "# f = lambda image, kernel=np.ones((2, 2), np.uint8): Image.fromarray(cv2.erode(np.array(image.convert('L')), kernel))\n",
    "f = lambda image: Image.fromarray(skimage.morphology.skeletonize(np.array(image.convert('L'))))\n",
    "# f = lambda image, **kwargs: image\n",
    "\n",
    "print(Im.regularity((image := Im('./data/mnist/8/1074.png', convert='L')).apply(skimage.morphology.skeletonize, array=True).register(13, 13, 8, threshold_ratio=0, render_w_grid=False).objects))\n",
    "fig, axs = plt.subplots(1, 2)\n",
    "axs[0].imshow(image.image, cmap='gray')\n",
    "axs[1].imshow(image.grid_image, cmap='gray')"
   ]
  },
  {
   "cell_type": "markdown",
   "id": "b45ad243-33fd-46e8-a94f-61034b44278f",
   "metadata": {},
   "source": [
    "---"
   ]
  },
  {
   "cell_type": "code",
   "execution_count": null,
   "id": "7190ff94-582c-4f3c-b7e5-2abb302d65a3",
   "metadata": {},
   "outputs": [],
   "source": []
  }
 ],
 "metadata": {
  "kernelspec": {
   "display_name": "Python 3 (ipykernel)",
   "language": "python",
   "name": "python3"
  },
  "language_info": {
   "codemirror_mode": {
    "name": "ipython",
    "version": 3
   },
   "file_extension": ".py",
   "mimetype": "text/x-python",
   "name": "python",
   "nbconvert_exporter": "python",
   "pygments_lexer": "ipython3",
   "version": "3.8.10"
  }
 },
 "nbformat": 4,
 "nbformat_minor": 5
}
