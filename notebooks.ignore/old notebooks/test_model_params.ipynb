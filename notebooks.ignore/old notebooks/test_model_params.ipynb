{
 "cells": [
  {
   "cell_type": "code",
   "execution_count": 1,
   "id": "af5b23df-6628-4030-8cec-4d2dae40e59b",
   "metadata": {},
   "outputs": [],
   "source": [
    "DEVICE = 'cpu' # 'cuda' if torch.cuda.is_available() else 'cpu'"
   ]
  },
  {
   "cell_type": "markdown",
   "id": "9cdede83-477a-4deb-bae5-e3c3a9622481",
   "metadata": {
    "jp-MarkdownHeadingCollapsed": true
   },
   "source": [
    "### Imports"
   ]
  },
  {
   "cell_type": "markdown",
   "id": "ae065de7-b26a-45b1-afca-33c89b6668b1",
   "metadata": {
    "jp-MarkdownHeadingCollapsed": true
   },
   "source": [
    "#### Standard Imports"
   ]
  },
  {
   "cell_type": "code",
   "execution_count": 2,
   "id": "7bdf0cd0-1dc6-47bd-9f46-33b853bd7496",
   "metadata": {},
   "outputs": [],
   "source": [
    "import os\n",
    "import sys"
   ]
  },
  {
   "cell_type": "code",
   "execution_count": 3,
   "id": "3dbd9f60-839c-48fc-ba37-03b48761ad84",
   "metadata": {},
   "outputs": [],
   "source": [
    "import logging"
   ]
  },
  {
   "cell_type": "code",
   "execution_count": 4,
   "id": "9180fce1-22fb-4ae6-b61d-d616ed0d10e0",
   "metadata": {},
   "outputs": [],
   "source": [
    "from pathlib import Path"
   ]
  },
  {
   "cell_type": "code",
   "execution_count": 5,
   "id": "6ea15c66-4b2f-452e-ac11-3aadc2dbb7f7",
   "metadata": {},
   "outputs": [],
   "source": [
    "import gc"
   ]
  },
  {
   "cell_type": "code",
   "execution_count": 6,
   "id": "6004bb40-ab67-48cf-bde6-fbd09b32b096",
   "metadata": {},
   "outputs": [],
   "source": [
    "import pickle"
   ]
  },
  {
   "cell_type": "code",
   "execution_count": 7,
   "id": "9e921bb7-5dd9-4e5a-b5ab-939031c8d633",
   "metadata": {},
   "outputs": [],
   "source": [
    "from itertools import product\n",
    "from functools import reduce"
   ]
  },
  {
   "cell_type": "code",
   "execution_count": 8,
   "id": "7f67efd0-099a-43fa-963b-3af92e4a6f47",
   "metadata": {},
   "outputs": [],
   "source": [
    "import numpy as np"
   ]
  },
  {
   "cell_type": "code",
   "execution_count": 9,
   "id": "32b5322f-47df-4a52-a757-8a73febf4847",
   "metadata": {},
   "outputs": [],
   "source": [
    "import matplotlib.pyplot as plt"
   ]
  },
  {
   "cell_type": "code",
   "execution_count": 10,
   "id": "5ff57b96-ab89-41bb-9e66-ea606431d484",
   "metadata": {},
   "outputs": [],
   "source": [
    "import torch"
   ]
  },
  {
   "cell_type": "code",
   "execution_count": 11,
   "id": "f2fa669f-2e82-4914-b442-8bec96bd6e0b",
   "metadata": {},
   "outputs": [],
   "source": [
    "from PIL import Image, ImageDraw, ImageOps\n",
    "import skimage"
   ]
  },
  {
   "cell_type": "code",
   "execution_count": 12,
   "id": "1ecca009-109f-4135-9f33-b1d56712ebdd",
   "metadata": {},
   "outputs": [],
   "source": [
    "from tqdm.notebook import tqdm"
   ]
  },
  {
   "cell_type": "code",
   "execution_count": 13,
   "id": "72eb8422-4168-4335-9e1c-4aaa506b51ba",
   "metadata": {},
   "outputs": [],
   "source": [
    "from prettytable import PrettyTable"
   ]
  },
  {
   "cell_type": "markdown",
   "id": "b5dc7a4d-9213-4f7a-baad-8d38c75bb85b",
   "metadata": {},
   "source": [
    "---"
   ]
  },
  {
   "cell_type": "code",
   "execution_count": 14,
   "id": "7b3b1900-b21e-41c7-8f6b-4eec5fd6e09a",
   "metadata": {},
   "outputs": [],
   "source": [
    "%load_ext rich"
   ]
  },
  {
   "cell_type": "markdown",
   "id": "54b58f65-e1f8-4ca0-bbc7-ab2c1b5bd0f7",
   "metadata": {
    "jp-MarkdownHeadingCollapsed": true
   },
   "source": [
    "#### Custom Imports"
   ]
  },
  {
   "cell_type": "code",
   "execution_count": 15,
   "id": "60ee3554-7019-4559-92c0-1bd501e59b12",
   "metadata": {},
   "outputs": [],
   "source": [
    "sys.path.append('..')"
   ]
  },
  {
   "cell_type": "markdown",
   "id": "f5a0b268-1b07-42d5-b835-df4faa6e7272",
   "metadata": {},
   "source": [
    "---"
   ]
  },
  {
   "cell_type": "code",
   "execution_count": 16,
   "id": "450e3ef6-1d1f-4629-ae63-ad963688cf0a",
   "metadata": {},
   "outputs": [],
   "source": [
    "# Autoreload Custom Modules\n",
    "%load_ext autoreload\n",
    "%autoreload 1"
   ]
  },
  {
   "cell_type": "markdown",
   "id": "ac7d3b92-5954-46ef-a30c-223e1e5c7f3b",
   "metadata": {},
   "source": [
    "---"
   ]
  },
  {
   "cell_type": "code",
   "execution_count": 17,
   "id": "133d4581-a27f-45cd-b427-995cdf2c8946",
   "metadata": {},
   "outputs": [],
   "source": [
    "from imagelib import Im\n",
    "%aimport imagelib"
   ]
  },
  {
   "cell_type": "code",
   "execution_count": 18,
   "id": "c48f9cf5-af6e-42c7-b34b-46b25adec676",
   "metadata": {},
   "outputs": [],
   "source": [
    "from rollout import Rollout, rollout\n",
    "%aimport rollout"
   ]
  },
  {
   "cell_type": "code",
   "execution_count": 19,
   "id": "7fe5deaf-1e6f-4e24-bc0b-c92f4cda773c",
   "metadata": {},
   "outputs": [],
   "source": [
    "from inference import infer\n",
    "%aimport inference"
   ]
  },
  {
   "cell_type": "markdown",
   "id": "1c92137c-1c86-407b-8d84-301f91f8f5d4",
   "metadata": {
    "jp-MarkdownHeadingCollapsed": true
   },
   "source": [
    "#### Config"
   ]
  },
  {
   "cell_type": "code",
   "execution_count": 20,
   "id": "059ad9b0-f5f8-4b33-ad2f-f8fda075e743",
   "metadata": {},
   "outputs": [],
   "source": [
    "np.set_printoptions(linewidth=1000)"
   ]
  },
  {
   "cell_type": "code",
   "execution_count": 21,
   "id": "03a7bd49-f35e-4b5e-a4ef-2b4cd7bbbdcf",
   "metadata": {},
   "outputs": [],
   "source": [
    "plt.set_loglevel('error')"
   ]
  },
  {
   "cell_type": "code",
   "execution_count": 22,
   "id": "8de4af04-4d9f-4bef-bd7d-eb1cef5536c5",
   "metadata": {},
   "outputs": [],
   "source": [
    "logging.basicConfig(level=logging.DEBUG)"
   ]
  },
  {
   "cell_type": "code",
   "execution_count": 23,
   "id": "93e9cb68-ccd0-436f-a4db-c13586ce1bb2",
   "metadata": {},
   "outputs": [],
   "source": [
    "logging.getLogger('imagelib').setLevel(logging.DEBUG)"
   ]
  },
  {
   "cell_type": "code",
   "execution_count": 24,
   "id": "4fb64715-415b-4b8f-95c7-6a19b6aeaad8",
   "metadata": {},
   "outputs": [],
   "source": [
    "logging.getLogger('rollout').setLevel(logging.DEBUG)"
   ]
  },
  {
   "cell_type": "code",
   "execution_count": 25,
   "id": "b5810f54-cc07-4ba0-bb83-de56c4cd7448",
   "metadata": {},
   "outputs": [],
   "source": [
    "logging.getLogger('inference').setLevel(logging.DEBUG)"
   ]
  },
  {
   "cell_type": "markdown",
   "id": "264fbcb4-29d3-47b1-b43c-edda25d68d76",
   "metadata": {},
   "source": [
    "---"
   ]
  },
  {
   "cell_type": "code",
   "execution_count": 26,
   "id": "200cda28-7a01-4b11-ac2d-cdd4c2676881",
   "metadata": {},
   "outputs": [],
   "source": [
    "if DEVICE == 'cuda':\n",
    "    # Empty cache and collect garbage\n",
    "    logging.debug(\"> INIT / Clearing CUDA cache and collecting garbage.\")\n",
    "    torch.cuda.empty_cache()\n",
    "    gc.collect()\n",
    "    torch.cuda.memory_summary('cuda', abbreviated=True)"
   ]
  },
  {
   "cell_type": "markdown",
   "id": "1f836571-501f-4e09-ac22-0e25566315a6",
   "metadata": {
    "jp-MarkdownHeadingCollapsed": true
   },
   "source": [
    "### Functions"
   ]
  },
  {
   "cell_type": "code",
   "execution_count": 27,
   "id": "9e3f5ca7-7c26-4b89-a56b-682e722f396f",
   "metadata": {},
   "outputs": [],
   "source": [
    "# Load Model\n",
    "def load_model(model_name, model_version, *, device=DEVICE):\n",
    "    try:\n",
    "        if model_name == 'clip':\n",
    "            import clip as Model\n",
    "        elif model_name == 'flatnet':\n",
    "            from flatnet import FlatNet as Model\n",
    "        elif model_name == 'flatnetlite':\n",
    "            from flatnet import FlatNetLite as Model\n",
    "        else:\n",
    "            raise ValueError(f'> Invalid model name {model_name}.')\n",
    "\n",
    "        model, preprocess = Model.load(model_version, device=device)\n",
    "        model.eval()\n",
    "\n",
    "        # logging.debug(f'> Model loading to {device} successful.')\n",
    "        return model, preprocess\n",
    "    except RuntimeError as e:\n",
    "        logging.error(f'> Model loading to {device} failed.')\n",
    "        if device == 'cuda':\n",
    "            logging.debug('> Clearing CUDA cache and collecting garbage.')\n",
    "            torch.cuda.empty_cache()\n",
    "            gc.collect()\n",
    "            torch.cuda.memory_summary('cuda', abbreviated=True)\n",
    "        raise RuntimeError(e)"
   ]
  },
  {
   "cell_type": "code",
   "execution_count": 28,
   "id": "65c25709-759d-4413-820d-546b8004d0c9",
   "metadata": {},
   "outputs": [],
   "source": [
    "def count_parameters(model_name, model_version, **kwargs):\n",
    "    model, *_ = load_model(model_name, model_version, **kwargs)\n",
    "    table = PrettyTable([\"Modules\", \"Parameters\"])\n",
    "    total_params = 0\n",
    "    for name, parameter in model.named_parameters():\n",
    "        if not parameter.requires_grad:\n",
    "            continue\n",
    "        params = parameter.numel()\n",
    "        table.add_row([name, params])\n",
    "        total_params += params\n",
    "    # print(table)\n",
    "    # print(f\"Total Trainable Params: {total_params}\")\n",
    "    print(f'{model_name:<12} {total_params:>12} {model_version}')"
   ]
  },
  {
   "cell_type": "markdown",
   "id": "1fbf2069-f94f-4881-82d7-fa8c70c47c68",
   "metadata": {},
   "source": [
    "## Main"
   ]
  },
  {
   "cell_type": "code",
   "execution_count": 29,
   "id": "17665f9a-2d6c-45c5-8d18-9a5cb8df2238",
   "metadata": {},
   "outputs": [],
   "source": [
    "clip_vit_14 = ('clip', 'ViT-L/14')\n",
    "clip_resnet = ('clip', 'RN50x16')\n",
    "flatnetlite = ('flatnetlite', '../results/__models/1_mnist_flatnetlite_60000-10000-0-0-0-10000-0-0-128-256-8-0.001-0.2-True-0.045-5-True-True-8-28-28-0.0-False-circles/mnist_flatnetlite_60000-10000-0-0-0-10000-0-0-128-256-8-0.001-0.2-True-0.045-5-True-True-8-28-28-0.0-False-circles.pt')"
   ]
  },
  {
   "cell_type": "code",
   "execution_count": 30,
   "id": "c3a13b6b-0698-46e0-b077-e4df580b3cc3",
   "metadata": {},
   "outputs": [],
   "source": [
    "flatnet2  = ('flatnet', '../results/__models/2_mnist_cnn_60000-10000-0-0-0-10000-0-0-random-128-256-8-0.001-0.2-False-0.045-5-True-True-8-28-28-0.0-False-circles-False-True-False/mnist_cnn_60000-10000-0-0-0-10000-0-0-random-128-256-8-0.001-0.2-False-0.045-5-True-True-8-28-28-0.0-False-circles-False-True-False.pt')\n",
    "flatnet7  = ('flatnet', '../results/__models/7_mnist_cnn_60000-10000-0-0-10000-10000-0-0-random-128-256-8-0.001-0.0-False-0.045-5-True-True-8-28-28-0.0-False-circles-False-True-False/mnist_cnn_60000-10000-0-0-10000-10000-0-0-random-128-256-8-0.001-0.0-False-0.045-5-True-True-8-28-28-0.0-False-circles-False-True-False.pt')"
   ]
  },
  {
   "cell_type": "code",
   "execution_count": 31,
   "id": "50012dda-07dc-4198-bc8c-66dfe0cc887f",
   "metadata": {},
   "outputs": [
    {
     "name": "stdout",
     "output_type": "stream",
     "text": [
      "clip            427616513 ViT-L/14\n",
      "clip            290979217 RN50x16\n"
     ]
    }
   ],
   "source": [
    "count_parameters(*clip_vit_14)\n",
    "count_parameters(*clip_resnet)"
   ]
  },
  {
   "cell_type": "code",
   "execution_count": 32,
   "id": "69299835-d4bd-44a3-9694-14be63b773d2",
   "metadata": {},
   "outputs": [
    {
     "name": "stdout",
     "output_type": "stream",
     "text": [
      "flatnetlite      23912330 ../results/__models/1_mnist_flatnetlite_60000-10000-0-0-0-10000-0-0-128-256-8-0.001-0.2-True-0.045-5-True-True-8-28-28-0.0-False-circles/mnist_flatnetlite_60000-10000-0-0-0-10000-0-0-128-256-8-0.001-0.2-True-0.045-5-True-True-8-28-28-0.0-False-circles.pt\n"
     ]
    }
   ],
   "source": [
    "count_parameters(*flatnetlite)"
   ]
  },
  {
   "cell_type": "code",
   "execution_count": 33,
   "id": "e07617cc-a3b1-411d-9446-d05170b8c760",
   "metadata": {},
   "outputs": [
    {
     "name": "stdout",
     "output_type": "stream",
     "text": [
      "flatnet          95835914 ../results/__models/2_mnist_cnn_60000-10000-0-0-0-10000-0-0-random-128-256-8-0.001-0.2-False-0.045-5-True-True-8-28-28-0.0-False-circles-False-True-False/mnist_cnn_60000-10000-0-0-0-10000-0-0-random-128-256-8-0.001-0.2-False-0.045-5-True-True-8-28-28-0.0-False-circles-False-True-False.pt\n",
      "flatnet          95835914 ../results/__models/7_mnist_cnn_60000-10000-0-0-10000-10000-0-0-random-128-256-8-0.001-0.0-False-0.045-5-True-True-8-28-28-0.0-False-circles-False-True-False/mnist_cnn_60000-10000-0-0-10000-10000-0-0-random-128-256-8-0.001-0.0-False-0.045-5-True-True-8-28-28-0.0-False-circles-False-True-False.pt\n"
     ]
    }
   ],
   "source": [
    "count_parameters(*flatnet2)\n",
    "count_parameters(*flatnet7)"
   ]
  },
  {
   "cell_type": "code",
   "execution_count": null,
   "id": "7190ff94-582c-4f3c-b7e5-2abb302d65a3",
   "metadata": {},
   "outputs": [],
   "source": []
  }
 ],
 "metadata": {
  "kernelspec": {
   "display_name": "Python 3 (ipykernel)",
   "language": "python",
   "name": "python3"
  },
  "language_info": {
   "codemirror_mode": {
    "name": "ipython",
    "version": 3
   },
   "file_extension": ".py",
   "mimetype": "text/x-python",
   "name": "python",
   "nbconvert_exporter": "python",
   "pygments_lexer": "ipython3",
   "version": "3.8.10"
  }
 },
 "nbformat": 4,
 "nbformat_minor": 5
}
