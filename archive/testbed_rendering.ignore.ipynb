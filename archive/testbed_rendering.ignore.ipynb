{
 "cells": [
  {
   "cell_type": "code",
   "execution_count": 1,
   "metadata": {},
   "outputs": [],
   "source": [
    "import matplotlib.pyplot as plt\n",
    "import numpy as np\n",
    "import torch"
   ]
  },
  {
   "cell_type": "code",
   "execution_count": 2,
   "metadata": {},
   "outputs": [],
   "source": [
    "from PIL import Image\n",
    "from skimage.draw import polygon as sk_polygon\n",
    "from cv2 import fillPoly, fillConvexPoly"
   ]
  },
  {
   "cell_type": "code",
   "execution_count": 3,
   "metadata": {},
   "outputs": [],
   "source": [
    "%load_ext rich\n",
    "%load_ext autoreload\n",
    "%autoreload 1"
   ]
  },
  {
   "cell_type": "code",
   "execution_count": 4,
   "metadata": {},
   "outputs": [],
   "source": [
    "from mbrl.environments.tangram.tangram import Tangram\n",
    "%aimport mbrl.environments.tangram.tangram"
   ]
  },
  {
   "cell_type": "markdown",
   "metadata": {},
   "source": [
    "---"
   ]
  },
  {
   "cell_type": "code",
   "execution_count": 5,
   "metadata": {},
   "outputs": [],
   "source": [
    "HOUSE = np.array([[0.505, 0.49333333], [0.63, 0.36833333], [0.38, 0.36833333], [0.4625, 0.62083333], [0.5875, 0.49583333], [0.3375, 0.49583333], [0.63166667, 0.49416667], [0.63166667, 0.36916667], [0.50666667, 0.49416667], [0.441, 0.43133333], [0.3785, 0.49383333], [0.5035, 0.49383333], [0.44016667, 0.4305], [0.37766667, 0.368], [0.37766667, 0.493], [0.50030583, 0.58530583], [0.50030583, 0.67369417], [0.58869417, 0.67369417], [0.58869417, 0.58530583], [0.5885, 0.58469417], [0.50011165, 0.58469417], [0.5885, 0.49630583], [0.67688835, 0.49630583]])\n",
    "TREE = np.array([[0.50392557, 0.50607443], [0.32714887, 0.50607443], [0.50392557, 0.68285113], [0.50607443, 0.50607443], [0.50607443, 0.68285113], [0.68285113, 0.50607443], [0.41, 0.49392557], [0.49838835, 0.40553722], [0.32161165, 0.40553722], [0.50553722, 0.40753722], [0.50553722, 0.49592557], [0.59392557, 0.40753722], [0.50446278, 0.49446278], [0.50446278, 0.40607443], [0.41607443, 0.49446278], [0.45580583, 0.31580583], [0.45580583, 0.40419417], [0.54419417, 0.40419417], [0.54419417, 0.31580583], [0.6, 0.49419417], [0.51161165, 0.49419417], [0.6, 0.40580583], [0.68838835, 0.40580583]])"
   ]
  },
  {
   "cell_type": "code",
   "execution_count": 6,
   "metadata": {},
   "outputs": [
    {
     "data": {
      "text/html": [
       "<pre style=\"white-space:pre;overflow-x:auto;line-height:normal;font-family:Menlo,'DejaVu Sans Mono',consolas,'Courier New',monospace\"></pre>\n"
      ],
      "text/plain": []
     },
     "metadata": {},
     "output_type": "display_data"
    },
    {
     "data": {
      "image/jpeg": "[encoded data removed]",
      "image/png": "[encoded data removed]",
      "text/plain": [
       "\u001b[1m<\u001b[0m\u001b[1;95mPIL.Image.Image\u001b[0m\u001b[39m image \u001b[0m\u001b[33mmode\u001b[0m\u001b[39m=\u001b[0m\u001b[35mRGB\u001b[0m\u001b[39m \u001b[0m\u001b[33msize\u001b[0m\u001b[39m=\u001b[0m\u001b[35m224x224\u001b[0m\u001b[39m at \u001b[0m\u001b[1;36m0x7FB3A155DCD0\u001b[0m\u001b[1m>\u001b[0m"
      ]
     },
     "metadata": {},
     "output_type": "display_data"
    }
   ],
   "source": [
    "tangram = Tangram(x_size=12, x_step=3, max_dist=-1)  # staging_boundaries=[[0, 0], [0.6, 0.6]])  # control_boundaries=[[0, 0], [0.5, 0.5]]\n",
    "# triangle-large-red triangle-large-orange triangle-medium-yellow triangle-small-lightgreen triangle-small-darkgreen square-small-blue parallelogram-small-purple\n",
    "tangram.positions = [(0.445, 0.565), (0.565, 0.565), (0.41, 0.435), (0.535, 0.437), (0.475, 0.465), (0.5, 0.36), (0.6, 0.45)]\n",
    "tangram.angles = [0.5, 0., -0.75, 0., 1, 0., 0.75]\n",
    "tangram.flips = [0, 0, 0, 0, 0, 0, 1]\n",
    "tangram.mask()\n",
    "tangram.checkpoint()\n",
    "tangram.reorder()\n",
    "# tangram.reset()\n",
    "# tangram"
   ]
  },
  {
   "cell_type": "markdown",
   "metadata": {},
   "source": [
    "---"
   ]
  },
  {
   "cell_type": "code",
   "execution_count": 7,
   "metadata": {},
   "outputs": [
    {
     "name": "stdout",
     "output_type": "stream",
     "text": [
      "14.7 ms ± 221 µs per loop (mean ± std. dev. of 7 runs, 100 loops each)\n"
     ]
    }
   ],
   "source": [
    "%%timeit\n",
    "tangram.render_image(fast=False)"
   ]
  },
  {
   "cell_type": "code",
   "execution_count": 8,
   "metadata": {},
   "outputs": [
    {
     "name": "stdout",
     "output_type": "stream",
     "text": [
      "350 µs ± 4.42 µs per loop (mean ± std. dev. of 7 runs, 1,000 loops each)\n"
     ]
    }
   ],
   "source": [
    "%%timeit\n",
    "tangram.render_image()"
   ]
  },
  {
   "cell_type": "markdown",
   "metadata": {},
   "source": [
    "---"
   ]
  },
  {
   "cell_type": "code",
   "execution_count": 9,
   "metadata": {},
   "outputs": [],
   "source": [
    "xy2rc = lambda xy, shape: np.floor(xy * shape[-2::-1]).astype(int) * [1, -1] + [0, shape[0] - 1]"
   ]
  },
  {
   "cell_type": "markdown",
   "metadata": {},
   "source": [
    "### Matplotlib"
   ]
  },
  {
   "cell_type": "code",
   "execution_count": 10,
   "metadata": {},
   "outputs": [
    {
     "name": "stdout",
     "output_type": "stream",
     "text": [
      "14.4 ms ± 153 µs per loop (mean ± std. dev. of 7 runs, 100 loops each)\n"
     ]
    }
   ],
   "source": [
    "%%timeit\n",
    "img = tangram.render(fast=False)\n",
    "# Image.fromarray(img)"
   ]
  },
  {
   "cell_type": "code",
   "execution_count": 11,
   "metadata": {},
   "outputs": [
    {
     "name": "stdout",
     "output_type": "stream",
     "text": [
      "14.2 ms ± 156 µs per loop (mean ± std. dev. of 7 runs, 100 loops each)\n"
     ]
    }
   ],
   "source": [
    "%%timeit\n",
    "img = tangram.render(fast=False, color=False)\n",
    "# Image.fromarray(img)"
   ]
  },
  {
   "cell_type": "markdown",
   "metadata": {},
   "source": [
    "### scikit-image"
   ]
  },
  {
   "cell_type": "code",
   "execution_count": 12,
   "metadata": {},
   "outputs": [
    {
     "name": "stdout",
     "output_type": "stream",
     "text": [
      "1.08 ms ± 6.96 µs per loop (mean ± std. dev. of 7 runs, 1,000 loops each)\n"
     ]
    }
   ],
   "source": [
    "%%timeit\n",
    "img = np.full((size := 224, size, 3), 255)\n",
    "for polygon in tangram:\n",
    "    img[(*sk_polygon(*xy2rc(polygon.vertices, shape=img.shape[:-1]).T[::-1], img.shape),)] = polygon.color\n",
    "# Image.fromarray(img.astype(np.uint8))"
   ]
  },
  {
   "cell_type": "code",
   "execution_count": 13,
   "metadata": {},
   "outputs": [
    {
     "name": "stdout",
     "output_type": "stream",
     "text": [
      "1.03 ms ± 9.49 µs per loop (mean ± std. dev. of 7 runs, 1,000 loops each)\n"
     ]
    }
   ],
   "source": [
    "%%timeit\n",
    "img = np.full((size := 224, size, 3), 255, dtype=np.uint8)\n",
    "for polygon in tangram:\n",
    "    img[(*sk_polygon(*xy2rc(polygon.vertices, shape=img.shape[:-1]).T[::-1], img.shape),)] = polygon.color\n",
    "# Image.fromarray(img)"
   ]
  },
  {
   "cell_type": "code",
   "execution_count": 14,
   "metadata": {},
   "outputs": [
    {
     "name": "stdout",
     "output_type": "stream",
     "text": [
      "1.03 ms ± 11 µs per loop (mean ± std. dev. of 7 runs, 1,000 loops each)\n"
     ]
    }
   ],
   "source": [
    "%%timeit\n",
    "img = np.full((size := 224, size, 3), 255)\n",
    "for polygon in tangram:\n",
    "    # img[(*sk_polygon(*xy2rc(polygon.vertices, shape=img.shape[:-1]).T[::-1], img.shape),)] = polygon.color\n",
    "    cc, rr = sk_polygon(*(polygon.vertices * img.shape[:-1]).T, img.shape)\n",
    "    img[size - rr, cc] = polygon.color\n",
    "# Image.fromarray(img.astype(np.uint8))"
   ]
  },
  {
   "cell_type": "code",
   "execution_count": 15,
   "metadata": {},
   "outputs": [
    {
     "name": "stdout",
     "output_type": "stream",
     "text": [
      "978 µs ± 10.8 µs per loop (mean ± std. dev. of 7 runs, 1,000 loops each)\n"
     ]
    }
   ],
   "source": [
    "%%timeit\n",
    "img = np.full((size := 224, size, 3), 255, dtype=np.uint8)\n",
    "for polygon in tangram:\n",
    "    # img[(*sk_polygon(*xy2rc(polygon.vertices, shape=img.shape[:-1]).T[::-1], img.shape),)] = polygon.color\n",
    "    cc, rr = sk_polygon(*(polygon.vertices * img.shape[:-1]).T, img.shape)\n",
    "    img[size - rr, cc] = polygon.color\n",
    "# Image.fromarray(img)"
   ]
  },
  {
   "cell_type": "markdown",
   "metadata": {},
   "source": [
    "### OpenCV"
   ]
  },
  {
   "cell_type": "markdown",
   "metadata": {},
   "source": [
    "#### Colored"
   ]
  },
  {
   "cell_type": "code",
   "execution_count": 16,
   "metadata": {},
   "outputs": [
    {
     "name": "stdout",
     "output_type": "stream",
     "text": [
      "90 µs ± 1.29 µs per loop (mean ± std. dev. of 7 runs, 10,000 loops each)\n"
     ]
    }
   ],
   "source": [
    "%%timeit\n",
    "img = np.full((size := 224, size, 3), 255, dtype=np.uint8)\n",
    "for polygon in tangram:\n",
    "    fillPoly(img, [xy2rc(polygon.vertices, shape=img.shape[:-1])], color=polygon.color)\n",
    "# Image.fromarray(img)"
   ]
  },
  {
   "cell_type": "code",
   "execution_count": 17,
   "metadata": {},
   "outputs": [
    {
     "name": "stdout",
     "output_type": "stream",
     "text": [
      "86.8 µs ± 1.19 µs per loop (mean ± std. dev. of 7 runs, 10,000 loops each)\n"
     ]
    }
   ],
   "source": [
    "%%timeit\n",
    "img = np.full((size := 224, size, 3), 255, dtype=np.uint8)\n",
    "for polygon in tangram:\n",
    "    fillConvexPoly(img, xy2rc(polygon.vertices, shape=img.shape[:-1]), color=polygon.color)\n",
    "# Image.fromarray(img)"
   ]
  },
  {
   "cell_type": "code",
   "execution_count": 18,
   "metadata": {},
   "outputs": [
    {
     "name": "stdout",
     "output_type": "stream",
     "text": [
      "68.2 µs ± 1.08 µs per loop (mean ± std. dev. of 7 runs, 10,000 loops each)\n"
     ]
    }
   ],
   "source": [
    "%%timeit\n",
    "img = np.full((size := 224, size, 3), 255, dtype=np.uint8)\n",
    "for polygon in tangram:\n",
    "    # fillPoly(img, [xy2rc(polygon.vertices, shape=img.shape[:-1])], color=polygon.color)\n",
    "    fillPoly(img, [[0, size] + (polygon.vertices * [size, -size]).astype(int)], color=polygon.color)\n",
    "# Image.fromarray(img)"
   ]
  },
  {
   "cell_type": "markdown",
   "metadata": {},
   "source": [
    "> Winner (below) - Colored"
   ]
  },
  {
   "cell_type": "code",
   "execution_count": 19,
   "metadata": {},
   "outputs": [
    {
     "name": "stdout",
     "output_type": "stream",
     "text": [
      "66.3 µs ± 855 ns per loop (mean ± std. dev. of 7 runs, 10,000 loops each)\n"
     ]
    }
   ],
   "source": [
    "%%timeit\n",
    "img = np.full((size := 224, size, 3), 255, dtype=np.uint8)\n",
    "for polygon in tangram:\n",
    "    # fillPoly(img, [xy2rc(polygon.vertices, shape=img.shape[:-1])], color=polygon.color)\n",
    "    fillConvexPoly(img, [0, size] + (polygon.vertices * [size, -size]).astype(int), color=polygon.color)\n",
    "# Image.fromarray(img)"
   ]
  },
  {
   "cell_type": "markdown",
   "metadata": {},
   "source": [
    "#### Grayscale"
   ]
  },
  {
   "cell_type": "code",
   "execution_count": 20,
   "metadata": {},
   "outputs": [
    {
     "name": "stdout",
     "output_type": "stream",
     "text": [
      "78.4 µs ± 981 ns per loop (mean ± std. dev. of 7 runs, 10,000 loops each)\n"
     ]
    }
   ],
   "source": [
    "%%timeit\n",
    "img = np.full((size := 224, size, 3), 255, dtype=np.uint8)\n",
    "fillPoly(img, [xy2rc(polygon.vertices, shape=img.shape) for polygon in tangram.polygons], color=0)\n",
    "# Image.fromarray(img)"
   ]
  },
  {
   "cell_type": "code",
   "execution_count": 21,
   "metadata": {},
   "outputs": [
    {
     "name": "stdout",
     "output_type": "stream",
     "text": [
      "71.4 µs ± 414 ns per loop (mean ± std. dev. of 7 runs, 10,000 loops each)\n"
     ]
    }
   ],
   "source": [
    "%%timeit\n",
    "img = np.full((size := 224, size), 255, dtype=np.uint8)\n",
    "fillPoly(img, [xy2rc(polygon.vertices, shape=img.shape) for polygon in tangram.polygons], color=0)\n",
    "# Image.fromarray(img)"
   ]
  },
  {
   "cell_type": "code",
   "execution_count": 22,
   "metadata": {},
   "outputs": [
    {
     "name": "stdout",
     "output_type": "stream",
     "text": [
      "57.7 µs ± 493 ns per loop (mean ± std. dev. of 7 runs, 10,000 loops each)\n"
     ]
    }
   ],
   "source": [
    "%%timeit\n",
    "img = np.full((size := 224, size, 3), 255, dtype=np.uint8)\n",
    "fillPoly(img, [[0, size] + (polygon.vertices * [size, -size]).astype(int) for polygon in tangram.polygons], color=0)\n",
    "# Image.fromarray(img)"
   ]
  },
  {
   "cell_type": "markdown",
   "metadata": {},
   "source": [
    "> Winner (below) - Grayscale"
   ]
  },
  {
   "cell_type": "code",
   "execution_count": 23,
   "metadata": {},
   "outputs": [
    {
     "name": "stdout",
     "output_type": "stream",
     "text": [
      "52.2 µs ± 1.04 µs per loop (mean ± std. dev. of 7 runs, 10,000 loops each)\n"
     ]
    }
   ],
   "source": [
    "%%timeit\n",
    "img = np.full((size := 224, size), 255, dtype=np.uint8)\n",
    "fillPoly(img, [[0, size] + (polygon.vertices * [size, -size]).astype(int) for polygon in tangram.polygons], color=0)\n",
    "# Image.fromarray(img)"
   ]
  },
  {
   "cell_type": "code",
   "execution_count": null,
   "metadata": {},
   "outputs": [],
   "source": []
  }
 ],
 "metadata": {
  "kernelspec": {
   "display_name": "mbrl_venv",
   "language": "python",
   "name": "python3"
  },
  "language_info": {
   "codemirror_mode": {
    "name": "ipython",
    "version": 3
   },
   "file_extension": ".py",
   "mimetype": "text/x-python",
   "name": "python",
   "nbconvert_exporter": "python",
   "pygments_lexer": "ipython3",
   "version": "3.8.10"
  }
 },
 "nbformat": 4,
 "nbformat_minor": 2
}
