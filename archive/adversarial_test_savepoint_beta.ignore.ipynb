{
 "cells": [
  {
   "cell_type": "code",
   "execution_count": 1,
   "metadata": {},
   "outputs": [],
   "source": [
    "import gc\n",
    "\n",
    "import numpy as np\n",
    "import matplotlib.pyplot as plt\n",
    "import seaborn as sns\n",
    "\n",
    "import torch\n",
    "import clip\n",
    "\n",
    "from ipywidgets import interact, widgets\n",
    "from tqdm import tqdm\n",
    "\n",
    "from PIL import Image\n",
    "from skimage.io import imread_collection\n",
    "from skimage.util import img_as_ubyte\n",
    "from skimage.transform import AffineTransform, warp"
   ]
  },
  {
   "cell_type": "code",
   "execution_count": 2,
   "metadata": {},
   "outputs": [
    {
     "data": {
      "text/plain": [
       "<torch.autograd.grad_mode.set_grad_enabled at 0x7fb22029b880>"
      ]
     },
     "execution_count": 2,
     "metadata": {},
     "output_type": "execute_result"
    }
   ],
   "source": [
    "torch.set_grad_enabled(False)"
   ]
  },
  {
   "cell_type": "code",
   "execution_count": 3,
   "metadata": {},
   "outputs": [],
   "source": [
    "images = [*(pictures := imread_collection(\"./house_adversarial.ignore/*.png\"))]\n",
    "\n",
    "shift_y, shift_x = np.array(pictures[0].shape[:2]) / 2.\n",
    "tf_rotate = AffineTransform(rotation=np.deg2rad(90))\n",
    "tf_shear = AffineTransform(shear=(0.15, 0.15))\n",
    "tf_shift = AffineTransform(translation=[-shift_x, -shift_y])\n",
    "tf_shift_inv = AffineTransform(translation=[shift_x, shift_y])\n",
    "\n",
    "images.extend([img_as_ubyte(warp(picture, (tf_shift + (tf_rotate + tf_shift_inv)).inverse)) for picture in pictures])\n",
    "images.extend([img_as_ubyte(warp(picture, (tf_shift + (tf_rotate + tf_rotate + tf_shift_inv)).inverse)) for picture in pictures])\n",
    "images.extend([img_as_ubyte(warp(picture, (tf_shift + (tf_rotate + tf_rotate + tf_rotate + tf_shift_inv)).inverse)) for picture in pictures])\n",
    "images.extend([img_as_ubyte(warp(picture, tf_shear)) for picture in pictures])\n",
    "\n",
    "operations = ['original', '90', '180', '270', 'shear']"
   ]
  },
  {
   "cell_type": "code",
   "execution_count": 4,
   "metadata": {},
   "outputs": [],
   "source": [
    "categories = [\"house\", \"bird\", \"fish\", \"tree\", \"cat\", \"dog\", \"horse\", \"rabbit\", \"goat\", \"shirt\", \"chair\"]  # , \"boat\"]\n",
    "prefixes = [\n",
    "    [\"\", \"A\", \"An\", \"An abstract\"],\n",
    "    [\"\", \"A Tangram representation of\", \"A Tangram puzzle of\", \"A geometric depiction of\", \"A Tangram-inspired\", \"A Tangram-like\"]\n",
    "]\n",
    "suffixes = [\n",
    "    [\"\", \"made of tangrams\", \"formed from tangrams\", \"consisting of tangrams\", \"assembled from tangrams\", \"created with tangrams\"],\n",
    "    [\"\", \"pattern\", \"configuration\", \"shape\", \"arrangement\", \"composition\"]\n",
    "]\n",
    "\n",
    "negative_prefixes = [\n",
    "    [\"Not\", \"Not a\", \"Not an\", \"Not an abstract\"],\n",
    "    [\"Not\", \"Not a Tangram representation of\", \"Not a Tangram puzzle of\", \"Not a geometric depiction of\", \"Not a Tangram-inspired\", \"Not a Tangram-like\"]\n",
    "]"
   ]
  },
  {
   "cell_type": "code",
   "execution_count": 5,
   "metadata": {},
   "outputs": [],
   "source": [
    "model, preprocess = clip.load(\"ViT-L/14\", device='cuda')\n",
    "model_temperature = 1.  # do a search over as a hyperparameter\n",
    "model.eval();"
   ]
  },
  {
   "cell_type": "code",
   "execution_count": 6,
   "metadata": {},
   "outputs": [],
   "source": [
    "image_features = model.encode_image(torch.cat([preprocess(Image.fromarray(image)).to('cuda') for image in images]).view(-1, 3, 224, 224))\n",
    "image_features /= image_features.norm(dim=-1, keepdim=True)"
   ]
  },
  {
   "cell_type": "code",
   "execution_count": 7,
   "metadata": {},
   "outputs": [],
   "source": [
    "baseline_features = image_features[len(pictures) - 1]"
   ]
  },
  {
   "cell_type": "code",
   "execution_count": 8,
   "metadata": {},
   "outputs": [
    {
     "data": {
      "application/vnd.jupyter.widget-view+json": {
       "model_id": "24ea3205a2e54b648af01fa2e94aecd0",
       "version_major": 2,
       "version_minor": 0
      },
      "text/plain": [
       "interactive(children=(IntSlider(value=50, description='i', min=1), Output()), _dom_classes=('widget-interact',…"
      ]
     },
     "metadata": {},
     "output_type": "display_data"
    }
   ],
   "source": [
    "def plot_target_similarity(i):\n",
    "    plt.plot((model.logit_scale.exp() * image_features @ image_features[0] / i).softmax(dim=-1).cpu().numpy())\n",
    "\n",
    "interact(plot_target_similarity, i=widgets.IntSlider(value=50, min=1));"
   ]
  },
  {
   "cell_type": "code",
   "execution_count": 9,
   "metadata": {},
   "outputs": [],
   "source": [
    "import string\n",
    "import random\n",
    "get_random_string = lambda length: random.choice(string.ascii_lowercase) + ''.join(random.choice(string.ascii_lowercase + ' ' * 2) for _ in range(length - 1))"
   ]
  },
  {
   "cell_type": "code",
   "execution_count": 10,
   "metadata": {},
   "outputs": [],
   "source": [
    "alpha = 0.1\n",
    "beta = 0.5"
   ]
  },
  {
   "cell_type": "code",
   "execution_count": 11,
   "metadata": {},
   "outputs": [],
   "source": [
    "text_features_list = []\n",
    "neg_text_features_list = []\n",
    "ps_list = []\n",
    "for post_suffix in ['', 'uiih rfvfgbblae ghwyrfyegf', None]:\n",
    "    for prefixs, suffixs, neg_prefixs in zip(prefixes, suffixes, negative_prefixes):\n",
    "        for prefix, neg_prefix in zip(prefixs, neg_prefixs):\n",
    "            for suffix in suffixs:\n",
    "                ps = post_suffix if post_suffix is not None else get_random_string(20)\n",
    "                ps_list.append((prefix, neg_prefix, suffix, ps))\n",
    "\n",
    "                labels = [f'{prefix} {label} {suffix} {ps}' for label in categories]\n",
    "                text_features = model.encode_text(clip.tokenize(labels).to('cuda'))\n",
    "                text_features /= text_features.norm(dim=-1, keepdim=True)\n",
    "                text_features_list.append(text_features)\n",
    "\n",
    "                neg_labels = [f'{neg_prefix} {label} {suffix} {ps}' for label in categories]\n",
    "                neg_text_features = model.encode_text(clip.tokenize(neg_labels).to('cuda'))\n",
    "                neg_text_features /= neg_text_features.norm(dim=-1, keepdim=True)\n",
    "                neg_text_features_list.append(neg_text_features)"
   ]
  },
  {
   "cell_type": "code",
   "execution_count": 12,
   "metadata": {},
   "outputs": [],
   "source": [
    "logits_per_text_list_per_image = []\n",
    "for text_features in text_features_list:\n",
    "    logits_per_text_list_per_image.append(model.logit_scale.exp() * image_features @ text_features.T)\n",
    "logits_per_text_list_per_image = torch.stack(logits_per_text_list_per_image)"
   ]
  },
  {
   "cell_type": "code",
   "execution_count": 13,
   "metadata": {},
   "outputs": [],
   "source": [
    "results = np.array((logits_per_text_list_per_image / model_temperature).softmax(dim=-1).cpu().numpy())\n",
    "entropies = -(results * np.log(results)).sum(axis=-1).T"
   ]
  },
  {
   "cell_type": "code",
   "execution_count": 14,
   "metadata": {},
   "outputs": [
    {
     "data": {
      "application/vnd.jupyter.widget-view+json": {
       "model_id": "fa56261af68147f0a4e9769c7936c07a",
       "version_major": 2,
       "version_minor": 0
      },
      "text/plain": [
       "interactive(children=(FloatSlider(value=0.1, description='alpha', max=0.1, step=0.01), Output()), _dom_classes…"
      ]
     },
     "metadata": {},
     "output_type": "display_data"
    }
   ],
   "source": [
    "def update_heatmap(alpha):\n",
    "    logits_per_text_list_per_image = []\n",
    "    for text_features, neg_text_features in zip(text_features_list, neg_text_features_list):\n",
    "        logits_per_text_list_per_image.append(model.logit_scale.exp() * image_features @ (text_features - alpha * neg_text_features).T)\n",
    "    logits_per_text_list_per_image = torch.stack(logits_per_text_list_per_image)\n",
    "    results = np.array((logits_per_text_list_per_image / model_temperature).softmax(dim=-1).cpu().numpy())\n",
    "    entropies = -(results * np.log(results)).sum(axis=-1).T\n",
    "    plt.figure(figsize=(50, 4))\n",
    "    sns.heatmap(entropies[:len(pictures)], xticklabels=ps_list)\n",
    "\n",
    "interact(update_heatmap, alpha=widgets.FloatSlider(value=alpha, min=0, max=0.1, step=0.01));"
   ]
  },
  {
   "cell_type": "code",
   "execution_count": 15,
   "metadata": {},
   "outputs": [
    {
     "data": {
      "application/vnd.jupyter.widget-view+json": {
       "model_id": "54efea5586784c5f8b8dcfdd470deaca",
       "version_major": 2,
       "version_minor": 0
      },
      "text/plain": [
       "interactive(children=(FloatSlider(value=0.5, description='beta', max=1.0, step=0.01), Output()), _dom_classes=…"
      ]
     },
     "metadata": {},
     "output_type": "display_data"
    }
   ],
   "source": [
    "def update_heatmap(beta):\n",
    "    logits_per_text_list_per_image = []\n",
    "    for text_features in text_features_list:\n",
    "        logits_per_text_list_per_image.append(model.logit_scale.exp() * (image_features - beta * baseline_features) @ text_features.T)\n",
    "    logits_per_text_list_per_image = torch.stack(logits_per_text_list_per_image)\n",
    "    results = np.array((logits_per_text_list_per_image / model_temperature).softmax(dim=-1).cpu().numpy())\n",
    "    entropies = -(results * np.log(results)).sum(axis=-1).T\n",
    "    plt.figure(figsize=(50, 4))\n",
    "    sns.heatmap(entropies[:len(pictures)], xticklabels=ps_list)\n",
    "\n",
    "interact(update_heatmap, beta=widgets.FloatSlider(value=beta, min=0, max=1, step=0.01));"
   ]
  },
  {
   "cell_type": "markdown",
   "metadata": {},
   "source": [
    "> Best label \"Tangram representation of <> pattern\""
   ]
  },
  {
   "cell_type": "code",
   "execution_count": 16,
   "metadata": {},
   "outputs": [
    {
     "data": {
      "application/vnd.jupyter.widget-view+json": {
       "model_id": "1f9e5a50970b4544977dae8795f032f8",
       "version_major": 2,
       "version_minor": 0
      },
      "text/plain": [
       "interactive(children=(IntSlider(value=0, description='i', max=10), Output()), _dom_classes=('widget-interact',…"
      ]
     },
     "metadata": {},
     "output_type": "display_data"
    }
   ],
   "source": [
    "def update_heatmap(i):\n",
    "    fig = plt.subplots(figsize=(50, 4))\n",
    "    grid = plt.GridSpec(1, 100, fig)\n",
    "    axs = [plt.subplot(grid[0, :10]), plt.subplot(grid[0, 10:])]\n",
    "    axs[0].imshow(images[i])\n",
    "    axs[0].set_axis_off()\n",
    "    sns.heatmap(entropies[i::len(pictures)], yticklabels=operations, ax=axs[1])\n",
    "    # plt.tight_layout()\n",
    "\n",
    "interact(update_heatmap, i=widgets.IntSlider(max=len(pictures)-1));"
   ]
  },
  {
   "cell_type": "code",
   "execution_count": 17,
   "metadata": {},
   "outputs": [
    {
     "data": {
      "application/vnd.jupyter.widget-view+json": {
       "model_id": "913be2925e57424887311b70a75abcec",
       "version_major": 2,
       "version_minor": 0
      },
      "text/plain": [
       "interactive(children=(IntSlider(value=0, description='i', max=54), Output()), _dom_classes=('widget-interact',…"
      ]
     },
     "metadata": {},
     "output_type": "display_data"
    }
   ],
   "source": [
    "def update_heatmap(i):\n",
    "    fig = plt.subplots(figsize=(50, 4))\n",
    "    grid = plt.GridSpec(1, 100, fig)\n",
    "    axs = [plt.subplot(grid[0, :10]), plt.subplot(grid[0, 10:])]\n",
    "    axs[0].imshow(images[i])\n",
    "    axs[0].set_axis_off()\n",
    "    sns.heatmap(results[:, i, :].T, yticklabels=categories, ax=axs[1])\n",
    "    # plt.tight_layout()\n",
    "\n",
    "interact(update_heatmap, i=widgets.IntSlider(max=len(images)-1));"
   ]
  }
 ],
 "metadata": {
  "kernelspec": {
   "display_name": "mbrl_venv",
   "language": "python",
   "name": "python3"
  },
  "language_info": {
   "codemirror_mode": {
    "name": "ipython",
    "version": 3
   },
   "file_extension": ".py",
   "mimetype": "text/x-python",
   "name": "python",
   "nbconvert_exporter": "python",
   "pygments_lexer": "ipython3",
   "version": "3.8.10"
  }
 },
 "nbformat": 4,
 "nbformat_minor": 2
}
