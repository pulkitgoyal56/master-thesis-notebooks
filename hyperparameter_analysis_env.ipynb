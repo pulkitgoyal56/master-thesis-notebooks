{
 "cells": [
  {
   "cell_type": "code",
   "execution_count": 25,
   "metadata": {},
   "outputs": [],
   "source": [
    "import os\n",
    "from pathlib import Path\n",
    "\n",
    "import hickle\n",
    "\n",
    "import numpy as np\n",
    "import matplotlib.pyplot as plt\n",
    "\n",
    "import pandas as pd\n",
    "import seaborn as sns\n",
    "\n",
    "from ipywidgets import interact, widgets\n",
    "from tqdm.notebook import tqdm\n",
    "\n",
    "import smart_settings\n",
    "from mbrl.environments.tangram import constants"
   ]
  },
  {
   "cell_type": "code",
   "execution_count": 2,
   "metadata": {},
   "outputs": [],
   "source": [
    "FOLDERS = {\n",
    "    \"house\": \"house_repair_closeness_200_inner3_control0066_nomaxdist__1\",\n",
    "    \"tree\": \"tree_repair_closeness_200_inner3_control0066_nomaxdist\",\n",
    "    \"tree_128\": \"closeness_100_inner3_128_control0066_nomaxdist_best\",\n",
    "    \"tree_x3_256\": \"closeness_100_inner3_256_control0066_nomaxdist_best_x3\",\n",
    "    \"tree_e20_128\": \"closeness_100_inner3_e20_128_control0066_nomaxdist_best\",\n",
    "    \"tree_e20_256\": \"closeness_100_inner3_e20_256_control0066_nomaxdist_best\"\n",
    "}\n",
    "FRAMES = 60"
   ]
  },
  {
   "cell_type": "code",
   "execution_count": 3,
   "metadata": {},
   "outputs": [],
   "source": [
    "def extract_settings(params):\n",
    "    return (\n",
    "        params.controller_params.compression,\n",
    "        # params.controller_params.render_kwargs.invert,\n",
    "        # params.controller_params.render_kwargs.color,\n",
    "        # params.controller_params.semantics_baseline,\n",
    "        params.controller_params.action_sampler_params.opt_iterations,\n",
    "        params.controller_params.action_sampler_params.init_std,\n",
    "        params.controller_params.action_sampler_params.elites_size,\n",
    "        params.controller_params.num_simulated_trajectories,\n",
    "        params.controller_params.horizon,\n",
    "        params.env_params.x_size,\n",
    "        params.env_params.get(\"r_size\", 4),\n",
    "        params.env_params.x_step,\n",
    "        params.controller_params.get('compression_precision', params.controller_params.get('precision')),\n",
    "        # str(params.env_params.get(\"staging_boundaries\", [[0, 0], [1., 1.]])),\n",
    "        params.env_params.object_persistency,\n",
    "        # params.controller_params.semantics_model_temperature,\n",
    "        # params.controller_params.semantics_alpha_target,\n",
    "        # params.controller_params.semantics_beta_image,\n",
    "        params.controller_params.cost_along_trajectory,\n",
    "        params.controller_params.closeness_reward_scale,\n",
    "        params.controller_params.closeness_reward_threshold,\n",
    "        params.get(\"seed\", params.env_params.get(\"seed\", None))\n",
    "    )\n",
    "\n",
    "results = pd.DataFrame(columns=[\n",
    "    \"shape\",\n",
    "    \"rair\",\n",
    "    # \"inversion\",\n",
    "    # \"color\",\n",
    "    # \"baseline\",\n",
    "    \"opt_iterations\",\n",
    "    \"init_std\",\n",
    "    \"elites_size\",\n",
    "    \"num_simulated_trajectories\",\n",
    "    \"horizon\",\n",
    "    \"x_size\",\n",
    "    \"r_size\",\n",
    "    \"x_step\",\n",
    "    \"compression_precision\",\n",
    "    # \"staging_boundaries\",\n",
    "    \"object_persistency\",\n",
    "    # \"temperature\",\n",
    "    # \"alpha_target\",\n",
    "    # \"beta_image\",\n",
    "    \"cost_along_trajectory\",\n",
    "    \"closeness_reward_scale\",\n",
    "    \"closeness_reward_threshold\",\n",
    "    \"seed\",\n",
    "    \"completed\",\n",
    "    \"sum_closeness_costs\",\n",
    "    \"final_closeness_cost\"\n",
    "])"
   ]
  },
  {
   "cell_type": "code",
   "execution_count": 4,
   "metadata": {},
   "outputs": [],
   "source": [
    "def model_closeness_costs(all_observations, params: dict):\n",
    "    distance_vector = np.abs(all_observations[:, :-2 if params.env_params.object_persistency else None].reshape(FRAMES, -1, 2) - np.array(params.controller_params.closeness_target) * params.env_params.get(\"scale\", constants.DEFAULT_SCALE))\n",
    "    if params.controller_params.closeness_reward_threshold > 0:  # Sparse thresholded\n",
    "        closeness_cost_values = (distance_vector > params.controller_params.closeness_reward_threshold).all(axis=-1).sum(axis=-1)\n",
    "    else:\n",
    "        distance = np.linalg.norm(distance_vector, axis=-1)\n",
    "        if params.controller_params.closeness_reward_threshold < 0:  # Sparse incremental\n",
    "            closeness_cost_values = np.where(distance > -params.controller_params.closeness_reward_threshold, 1, distance / -params.controller_params.closeness_reward_threshold).sum(axis=-1)\n",
    "        else:  # Dense\n",
    "            closeness_cost_values = distance.sum(axis=-1)\n",
    "    return closeness_cost_values  # .sum()  # / max(closeness_cost_values)"
   ]
  },
  {
   "cell_type": "code",
   "execution_count": 5,
   "metadata": {},
   "outputs": [
    {
     "data": {
      "application/vnd.jupyter.widget-view+json": {
       "model_id": "38cd3ae09cdd46eba963d852c20b1bcd",
       "version_major": 2,
       "version_minor": 0
      },
      "text/plain": [
       "  0%|          | 0/2010 [00:00<?, ?it/s]"
      ]
     },
     "metadata": {},
     "output_type": "display_data"
    },
    {
     "data": {
      "application/vnd.jupyter.widget-view+json": {
       "model_id": "af8d8004a138486daa9060f4b7b46ac6",
       "version_major": 2,
       "version_minor": 0
      },
      "text/plain": [
       "  0%|          | 0/1283 [00:00<?, ?it/s]"
      ]
     },
     "metadata": {},
     "output_type": "display_data"
    },
    {
     "data": {
      "application/vnd.jupyter.widget-view+json": {
       "model_id": "91a82199d56944d0b0b496dedc44367c",
       "version_major": 2,
       "version_minor": 0
      },
      "text/plain": [
       "  0%|          | 0/1920 [00:00<?, ?it/s]"
      ]
     },
     "metadata": {},
     "output_type": "display_data"
    },
    {
     "data": {
      "application/vnd.jupyter.widget-view+json": {
       "model_id": "5eace8d00bd348109594aabeb61eb48c",
       "version_major": 2,
       "version_minor": 0
      },
      "text/plain": [
       "  0%|          | 0/1920 [00:00<?, ?it/s]"
      ]
     },
     "metadata": {},
     "output_type": "display_data"
    },
    {
     "data": {
      "application/vnd.jupyter.widget-view+json": {
       "model_id": "d91ce4f0af2a44a9afb67a206b54110f",
       "version_major": 2,
       "version_minor": 0
      },
      "text/plain": [
       "  0%|          | 0/1920 [00:00<?, ?it/s]"
      ]
     },
     "metadata": {},
     "output_type": "display_data"
    },
    {
     "data": {
      "application/vnd.jupyter.widget-view+json": {
       "model_id": "e2cf237b0a1744f18f6cc331ff35f41d",
       "version_major": 2,
       "version_minor": 0
      },
      "text/plain": [
       "  0%|          | 0/1920 [00:00<?, ?it/s]"
      ]
     },
     "metadata": {},
     "output_type": "display_data"
    }
   ],
   "source": [
    "closeness_costs = dict()\n",
    "for id, folder in FOLDERS.items():\n",
    "    for job in tqdm(os.listdir(folder)):\n",
    "        params = smart_settings.load(os.path.join(folder, job, \"settings.json\"), make_immutable=False)\n",
    "        try:\n",
    "            buffers = hickle.load(os.path.join(folder, job, \"checkpoints_latest/rollouts\"))\n",
    "        except FileNotFoundError:\n",
    "            completed = False\n",
    "            closeness_costs[f'{id}_{job}'] = None\n",
    "        else:\n",
    "            completed = True\n",
    "            for i in range(len(buffers)):\n",
    "                closeness_costs[(index := f'{id}_{job}' + (f'_{i}' if i else ''))] = model_closeness_costs(buffers[i][\"next_observations\"][:FRAMES], params)  # np.r_[buffer[0][\"observations\"][:1], buffer[0][\"observations\"]]\n",
    "                results.loc[index] = [id.split('_')[0], *extract_settings(params), completed, closeness_costs[index].sum() if completed else np.nan, closeness_costs[index][-1] if completed else np.nan]"
   ]
  },
  {
   "cell_type": "code",
   "execution_count": 6,
   "metadata": {},
   "outputs": [],
   "source": [
    "compute = lambda f, closeness_costs=closeness_costs, alt=np.nan: pd.Series(map(lambda x: (alt if x is None else f(x)), closeness_costs.values()), closeness_costs.keys())"
   ]
  },
  {
   "cell_type": "code",
   "execution_count": 7,
   "metadata": {},
   "outputs": [],
   "source": [
    "results['sum_closeness_costs_normalized'] = compute(lambda x: x.sum() / x.max())\n",
    "results['sum_closeness_costs_centered'] = compute(lambda x: (x - x.max()).sum())\n",
    "results['reached'] = compute(lambda x: (x < 1).any(), alt=False)"
   ]
  },
  {
   "cell_type": "code",
   "execution_count": 8,
   "metadata": {},
   "outputs": [],
   "source": [
    "results.sort_values(\"sum_closeness_costs\", inplace=True)\n",
    "results[\"complexity\"] = results[\"horizon\"] * results[\"num_simulated_trajectories\"]"
   ]
  },
  {
   "cell_type": "markdown",
   "metadata": {},
   "source": [
    "``` sh\n",
    "gram tree_repair_closeness_200_inner3_control0066_nomaxdist/$1 --save-path results/tangram_videos/new/tree_repair_closeness_200_inner3_control0066_nomaxdist/$1\n",
    "```"
   ]
  },
  {
   "cell_type": "code",
   "execution_count": 9,
   "metadata": {},
   "outputs": [
    {
     "data": {
      "text/plain": [
       "shape                             closeness\n",
       "rair                                   True\n",
       "opt_iterations                            3\n",
       "init_std                                2.0\n",
       "elites_size                              20\n",
       "num_simulated_trajectories              256\n",
       "horizon                                  24\n",
       "x_size                                    1\n",
       "r_size                                    4\n",
       "x_step                                    5\n",
       "compression_precision                    28\n",
       "object_persistency                        0\n",
       "cost_along_trajectory                  best\n",
       "closeness_reward_scale                  5.0\n",
       "closeness_reward_threshold            0.051\n",
       "seed                                      5\n",
       "completed                              True\n",
       "sum_closeness_costs                    35.0\n",
       "final_closeness_cost                    0.0\n",
       "sum_closeness_costs_normalized     2.916667\n",
       "sum_closeness_costs_centered         -685.0\n",
       "reached                                True\n",
       "complexity                             6144\n",
       "Name: tree_e20_256_1896, dtype: object"
      ]
     },
     "execution_count": 9,
     "metadata": {},
     "output_type": "execute_result"
    }
   ],
   "source": [
    "# Best performing\n",
    "results.iloc[0]"
   ]
  },
  {
   "cell_type": "code",
   "execution_count": 10,
   "metadata": {},
   "outputs": [],
   "source": [
    "# Best performing with minimum complexity\n",
    "# results[results[\"complexity\"] == results[\"complexity\"].min()].iloc[0]"
   ]
  },
  {
   "cell_type": "code",
   "execution_count": 11,
   "metadata": {},
   "outputs": [
    {
     "data": {
      "text/plain": [
       "shape                             closeness\n",
       "rair                                   True\n",
       "opt_iterations                            3\n",
       "init_std                                2.0\n",
       "elites_size                              20\n",
       "num_simulated_trajectories              256\n",
       "horizon                                  24\n",
       "x_size                                    1\n",
       "r_size                                    4\n",
       "x_step                                    5\n",
       "compression_precision                    28\n",
       "object_persistency                        0\n",
       "cost_along_trajectory                  best\n",
       "closeness_reward_scale                  5.0\n",
       "closeness_reward_threshold            0.051\n",
       "seed                                      5\n",
       "completed                              True\n",
       "sum_closeness_costs                    35.0\n",
       "final_closeness_cost                    0.0\n",
       "sum_closeness_costs_normalized     2.916667\n",
       "sum_closeness_costs_centered         -685.0\n",
       "reached                                True\n",
       "complexity                             6144\n",
       "Name: tree_e20_256_1896, dtype: object"
      ]
     },
     "execution_count": 11,
     "metadata": {},
     "output_type": "execute_result"
    }
   ],
   "source": [
    "# Only for sparse incremental rewards\n",
    "results[(results[\"closeness_reward_threshold\"] != 0)].iloc[0]  #  & (results[\"complexity\"] == results[\"complexity\"].min())"
   ]
  },
  {
   "cell_type": "code",
   "execution_count": 12,
   "metadata": {},
   "outputs": [],
   "source": [
    "# plt.scatter(range(len(results)), results[\"sum_closeness_costs\"], s=0.05)  # c=results[\"cost_along_trajectory\"].replace({\"best\": \"r\", \"sum\": \"b\"})"
   ]
  },
  {
   "cell_type": "code",
   "execution_count": 13,
   "metadata": {},
   "outputs": [],
   "source": [
    "# results[\"XIC\"] = np.log(results[\"sum_closeness_costs\"]) + results[\"complexity\"]\n",
    "# results.sort_values(\"XIC\")"
   ]
  },
  {
   "cell_type": "code",
   "execution_count": 14,
   "metadata": {},
   "outputs": [
    {
     "data": {
      "text/html": [
       "<div>\n",
       "<style scoped>\n",
       "    .dataframe tbody tr th:only-of-type {\n",
       "        vertical-align: middle;\n",
       "    }\n",
       "\n",
       "    .dataframe tbody tr th {\n",
       "        vertical-align: top;\n",
       "    }\n",
       "\n",
       "    .dataframe thead th {\n",
       "        text-align: right;\n",
       "    }\n",
       "</style>\n",
       "<table border=\"1\" class=\"dataframe\">\n",
       "  <thead>\n",
       "    <tr style=\"text-align: right;\">\n",
       "      <th></th>\n",
       "      <th>shape</th>\n",
       "      <th>rair</th>\n",
       "      <th>opt_iterations</th>\n",
       "      <th>init_std</th>\n",
       "      <th>elites_size</th>\n",
       "      <th>num_simulated_trajectories</th>\n",
       "      <th>horizon</th>\n",
       "      <th>x_size</th>\n",
       "      <th>r_size</th>\n",
       "      <th>x_step</th>\n",
       "      <th>...</th>\n",
       "      <th>closeness_reward_scale</th>\n",
       "      <th>closeness_reward_threshold</th>\n",
       "      <th>seed</th>\n",
       "      <th>completed</th>\n",
       "      <th>sum_closeness_costs</th>\n",
       "      <th>final_closeness_cost</th>\n",
       "      <th>sum_closeness_costs_normalized</th>\n",
       "      <th>sum_closeness_costs_centered</th>\n",
       "      <th>reached</th>\n",
       "      <th>complexity</th>\n",
       "    </tr>\n",
       "  </thead>\n",
       "  <tbody>\n",
       "    <tr>\n",
       "      <th>tree_e20_256_1896</th>\n",
       "      <td>closeness</td>\n",
       "      <td>True</td>\n",
       "      <td>3</td>\n",
       "      <td>2.0</td>\n",
       "      <td>20</td>\n",
       "      <td>256</td>\n",
       "      <td>24</td>\n",
       "      <td>1</td>\n",
       "      <td>4</td>\n",
       "      <td>5</td>\n",
       "      <td>...</td>\n",
       "      <td>5.0</td>\n",
       "      <td>0.051</td>\n",
       "      <td>5</td>\n",
       "      <td>True</td>\n",
       "      <td>35.000000</td>\n",
       "      <td>0.000000</td>\n",
       "      <td>2.916667</td>\n",
       "      <td>-685.000000</td>\n",
       "      <td>True</td>\n",
       "      <td>6144</td>\n",
       "    </tr>\n",
       "    <tr>\n",
       "      <th>tree_e20_256_712</th>\n",
       "      <td>closeness</td>\n",
       "      <td>True</td>\n",
       "      <td>3</td>\n",
       "      <td>0.6</td>\n",
       "      <td>20</td>\n",
       "      <td>256</td>\n",
       "      <td>16</td>\n",
       "      <td>1</td>\n",
       "      <td>4</td>\n",
       "      <td>5</td>\n",
       "      <td>...</td>\n",
       "      <td>0.5</td>\n",
       "      <td>0.051</td>\n",
       "      <td>5</td>\n",
       "      <td>True</td>\n",
       "      <td>39.000000</td>\n",
       "      <td>0.000000</td>\n",
       "      <td>2.600000</td>\n",
       "      <td>-861.000000</td>\n",
       "      <td>True</td>\n",
       "      <td>4096</td>\n",
       "    </tr>\n",
       "    <tr>\n",
       "      <th>tree_1119</th>\n",
       "      <td>tree</td>\n",
       "      <td>False</td>\n",
       "      <td>3</td>\n",
       "      <td>0.6</td>\n",
       "      <td>10</td>\n",
       "      <td>256</td>\n",
       "      <td>15</td>\n",
       "      <td>28</td>\n",
       "      <td>4</td>\n",
       "      <td>5</td>\n",
       "      <td>...</td>\n",
       "      <td>100.0</td>\n",
       "      <td>0.000</td>\n",
       "      <td>5</td>\n",
       "      <td>True</td>\n",
       "      <td>39.954337</td>\n",
       "      <td>0.347001</td>\n",
       "      <td>9.909289</td>\n",
       "      <td>-201.966178</td>\n",
       "      <td>True</td>\n",
       "      <td>3840</td>\n",
       "    </tr>\n",
       "    <tr>\n",
       "      <th>tree_e20_128_996</th>\n",
       "      <td>closeness</td>\n",
       "      <td>True</td>\n",
       "      <td>3</td>\n",
       "      <td>0.2</td>\n",
       "      <td>20</td>\n",
       "      <td>128</td>\n",
       "      <td>24</td>\n",
       "      <td>1</td>\n",
       "      <td>4</td>\n",
       "      <td>3</td>\n",
       "      <td>...</td>\n",
       "      <td>1.0</td>\n",
       "      <td>0.051</td>\n",
       "      <td>5</td>\n",
       "      <td>True</td>\n",
       "      <td>41.000000</td>\n",
       "      <td>0.000000</td>\n",
       "      <td>3.153846</td>\n",
       "      <td>-739.000000</td>\n",
       "      <td>True</td>\n",
       "      <td>3072</td>\n",
       "    </tr>\n",
       "    <tr>\n",
       "      <th>tree_x3_256_1768</th>\n",
       "      <td>closeness</td>\n",
       "      <td>True</td>\n",
       "      <td>3</td>\n",
       "      <td>1.0</td>\n",
       "      <td>10</td>\n",
       "      <td>256</td>\n",
       "      <td>24</td>\n",
       "      <td>1</td>\n",
       "      <td>4</td>\n",
       "      <td>5</td>\n",
       "      <td>...</td>\n",
       "      <td>5.0</td>\n",
       "      <td>0.051</td>\n",
       "      <td>5</td>\n",
       "      <td>True</td>\n",
       "      <td>42.000000</td>\n",
       "      <td>0.000000</td>\n",
       "      <td>3.000000</td>\n",
       "      <td>-798.000000</td>\n",
       "      <td>True</td>\n",
       "      <td>6144</td>\n",
       "    </tr>\n",
       "    <tr>\n",
       "      <th>...</th>\n",
       "      <td>...</td>\n",
       "      <td>...</td>\n",
       "      <td>...</td>\n",
       "      <td>...</td>\n",
       "      <td>...</td>\n",
       "      <td>...</td>\n",
       "      <td>...</td>\n",
       "      <td>...</td>\n",
       "      <td>...</td>\n",
       "      <td>...</td>\n",
       "      <td>...</td>\n",
       "      <td>...</td>\n",
       "      <td>...</td>\n",
       "      <td>...</td>\n",
       "      <td>...</td>\n",
       "      <td>...</td>\n",
       "      <td>...</td>\n",
       "      <td>...</td>\n",
       "      <td>...</td>\n",
       "      <td>...</td>\n",
       "      <td>...</td>\n",
       "    </tr>\n",
       "    <tr>\n",
       "      <th>tree_e20_128_424</th>\n",
       "      <td>closeness</td>\n",
       "      <td>True</td>\n",
       "      <td>3</td>\n",
       "      <td>0.6</td>\n",
       "      <td>20</td>\n",
       "      <td>128</td>\n",
       "      <td>24</td>\n",
       "      <td>1</td>\n",
       "      <td>4</td>\n",
       "      <td>5</td>\n",
       "      <td>...</td>\n",
       "      <td>0.2</td>\n",
       "      <td>0.051</td>\n",
       "      <td>5</td>\n",
       "      <td>True</td>\n",
       "      <td>1244.000000</td>\n",
       "      <td>22.000000</td>\n",
       "      <td>54.086957</td>\n",
       "      <td>-136.000000</td>\n",
       "      <td>False</td>\n",
       "      <td>3072</td>\n",
       "    </tr>\n",
       "    <tr>\n",
       "      <th>tree_e20_256_333</th>\n",
       "      <td>closeness</td>\n",
       "      <td>True</td>\n",
       "      <td>3</td>\n",
       "      <td>0.2</td>\n",
       "      <td>20</td>\n",
       "      <td>256</td>\n",
       "      <td>16</td>\n",
       "      <td>1</td>\n",
       "      <td>4</td>\n",
       "      <td>7</td>\n",
       "      <td>...</td>\n",
       "      <td>0.2</td>\n",
       "      <td>0.051</td>\n",
       "      <td>5</td>\n",
       "      <td>True</td>\n",
       "      <td>1257.000000</td>\n",
       "      <td>22.000000</td>\n",
       "      <td>57.136364</td>\n",
       "      <td>-63.000000</td>\n",
       "      <td>False</td>\n",
       "      <td>4096</td>\n",
       "    </tr>\n",
       "    <tr>\n",
       "      <th>tree_e20_128_420</th>\n",
       "      <td>closeness</td>\n",
       "      <td>True</td>\n",
       "      <td>3</td>\n",
       "      <td>0.6</td>\n",
       "      <td>20</td>\n",
       "      <td>128</td>\n",
       "      <td>24</td>\n",
       "      <td>1</td>\n",
       "      <td>4</td>\n",
       "      <td>3</td>\n",
       "      <td>...</td>\n",
       "      <td>0.2</td>\n",
       "      <td>0.051</td>\n",
       "      <td>5</td>\n",
       "      <td>True</td>\n",
       "      <td>1326.000000</td>\n",
       "      <td>23.000000</td>\n",
       "      <td>57.652174</td>\n",
       "      <td>-54.000000</td>\n",
       "      <td>False</td>\n",
       "      <td>3072</td>\n",
       "    </tr>\n",
       "    <tr>\n",
       "      <th>tree_x3_256_520_2</th>\n",
       "      <td>closeness</td>\n",
       "      <td>True</td>\n",
       "      <td>3</td>\n",
       "      <td>1.5</td>\n",
       "      <td>10</td>\n",
       "      <td>256</td>\n",
       "      <td>16</td>\n",
       "      <td>1</td>\n",
       "      <td>4</td>\n",
       "      <td>5</td>\n",
       "      <td>...</td>\n",
       "      <td>0.2</td>\n",
       "      <td>0.051</td>\n",
       "      <td>5</td>\n",
       "      <td>True</td>\n",
       "      <td>1327.000000</td>\n",
       "      <td>23.000000</td>\n",
       "      <td>57.695652</td>\n",
       "      <td>-53.000000</td>\n",
       "      <td>False</td>\n",
       "      <td>4096</td>\n",
       "    </tr>\n",
       "    <tr>\n",
       "      <th>tree_e20_256_620</th>\n",
       "      <td>closeness</td>\n",
       "      <td>True</td>\n",
       "      <td>3</td>\n",
       "      <td>2.0</td>\n",
       "      <td>20</td>\n",
       "      <td>256</td>\n",
       "      <td>24</td>\n",
       "      <td>1</td>\n",
       "      <td>4</td>\n",
       "      <td>7</td>\n",
       "      <td>...</td>\n",
       "      <td>0.2</td>\n",
       "      <td>0.051</td>\n",
       "      <td>5</td>\n",
       "      <td>True</td>\n",
       "      <td>1356.000000</td>\n",
       "      <td>23.000000</td>\n",
       "      <td>58.956522</td>\n",
       "      <td>-24.000000</td>\n",
       "      <td>False</td>\n",
       "      <td>6144</td>\n",
       "    </tr>\n",
       "  </tbody>\n",
       "</table>\n",
       "<p>14808 rows × 23 columns</p>\n",
       "</div>"
      ],
      "text/plain": [
       "                       shape   rair  opt_iterations  init_std  elites_size  \\\n",
       "tree_e20_256_1896  closeness   True               3       2.0           20   \n",
       "tree_e20_256_712   closeness   True               3       0.6           20   \n",
       "tree_1119               tree  False               3       0.6           10   \n",
       "tree_e20_128_996   closeness   True               3       0.2           20   \n",
       "tree_x3_256_1768   closeness   True               3       1.0           10   \n",
       "...                      ...    ...             ...       ...          ...   \n",
       "tree_e20_128_424   closeness   True               3       0.6           20   \n",
       "tree_e20_256_333   closeness   True               3       0.2           20   \n",
       "tree_e20_128_420   closeness   True               3       0.6           20   \n",
       "tree_x3_256_520_2  closeness   True               3       1.5           10   \n",
       "tree_e20_256_620   closeness   True               3       2.0           20   \n",
       "\n",
       "                   num_simulated_trajectories  horizon  x_size  r_size  \\\n",
       "tree_e20_256_1896                         256       24       1       4   \n",
       "tree_e20_256_712                          256       16       1       4   \n",
       "tree_1119                                 256       15      28       4   \n",
       "tree_e20_128_996                          128       24       1       4   \n",
       "tree_x3_256_1768                          256       24       1       4   \n",
       "...                                       ...      ...     ...     ...   \n",
       "tree_e20_128_424                          128       24       1       4   \n",
       "tree_e20_256_333                          256       16       1       4   \n",
       "tree_e20_128_420                          128       24       1       4   \n",
       "tree_x3_256_520_2                         256       16       1       4   \n",
       "tree_e20_256_620                          256       24       1       4   \n",
       "\n",
       "                   x_step  ...  closeness_reward_scale  \\\n",
       "tree_e20_256_1896       5  ...                     5.0   \n",
       "tree_e20_256_712        5  ...                     0.5   \n",
       "tree_1119               5  ...                   100.0   \n",
       "tree_e20_128_996        3  ...                     1.0   \n",
       "tree_x3_256_1768        5  ...                     5.0   \n",
       "...                   ...  ...                     ...   \n",
       "tree_e20_128_424        5  ...                     0.2   \n",
       "tree_e20_256_333        7  ...                     0.2   \n",
       "tree_e20_128_420        3  ...                     0.2   \n",
       "tree_x3_256_520_2       5  ...                     0.2   \n",
       "tree_e20_256_620        7  ...                     0.2   \n",
       "\n",
       "                   closeness_reward_threshold seed  completed  \\\n",
       "tree_e20_256_1896                       0.051    5       True   \n",
       "tree_e20_256_712                        0.051    5       True   \n",
       "tree_1119                               0.000    5       True   \n",
       "tree_e20_128_996                        0.051    5       True   \n",
       "tree_x3_256_1768                        0.051    5       True   \n",
       "...                                       ...  ...        ...   \n",
       "tree_e20_128_424                        0.051    5       True   \n",
       "tree_e20_256_333                        0.051    5       True   \n",
       "tree_e20_128_420                        0.051    5       True   \n",
       "tree_x3_256_520_2                       0.051    5       True   \n",
       "tree_e20_256_620                        0.051    5       True   \n",
       "\n",
       "                   sum_closeness_costs  final_closeness_cost  \\\n",
       "tree_e20_256_1896            35.000000              0.000000   \n",
       "tree_e20_256_712             39.000000              0.000000   \n",
       "tree_1119                    39.954337              0.347001   \n",
       "tree_e20_128_996             41.000000              0.000000   \n",
       "tree_x3_256_1768             42.000000              0.000000   \n",
       "...                                ...                   ...   \n",
       "tree_e20_128_424           1244.000000             22.000000   \n",
       "tree_e20_256_333           1257.000000             22.000000   \n",
       "tree_e20_128_420           1326.000000             23.000000   \n",
       "tree_x3_256_520_2          1327.000000             23.000000   \n",
       "tree_e20_256_620           1356.000000             23.000000   \n",
       "\n",
       "                   sum_closeness_costs_normalized  \\\n",
       "tree_e20_256_1896                        2.916667   \n",
       "tree_e20_256_712                         2.600000   \n",
       "tree_1119                                9.909289   \n",
       "tree_e20_128_996                         3.153846   \n",
       "tree_x3_256_1768                         3.000000   \n",
       "...                                           ...   \n",
       "tree_e20_128_424                        54.086957   \n",
       "tree_e20_256_333                        57.136364   \n",
       "tree_e20_128_420                        57.652174   \n",
       "tree_x3_256_520_2                       57.695652   \n",
       "tree_e20_256_620                        58.956522   \n",
       "\n",
       "                   sum_closeness_costs_centered  reached  complexity  \n",
       "tree_e20_256_1896                   -685.000000     True        6144  \n",
       "tree_e20_256_712                    -861.000000     True        4096  \n",
       "tree_1119                           -201.966178     True        3840  \n",
       "tree_e20_128_996                    -739.000000     True        3072  \n",
       "tree_x3_256_1768                    -798.000000     True        6144  \n",
       "...                                         ...      ...         ...  \n",
       "tree_e20_128_424                    -136.000000    False        3072  \n",
       "tree_e20_256_333                     -63.000000    False        4096  \n",
       "tree_e20_128_420                     -54.000000    False        3072  \n",
       "tree_x3_256_520_2                    -53.000000    False        4096  \n",
       "tree_e20_256_620                     -24.000000    False        6144  \n",
       "\n",
       "[14808 rows x 23 columns]"
      ]
     },
     "execution_count": 14,
     "metadata": {},
     "output_type": "execute_result"
    }
   ],
   "source": [
    "results"
   ]
  },
  {
   "cell_type": "code",
   "execution_count": 37,
   "metadata": {},
   "outputs": [
    {
     "data": {
      "application/vnd.jupyter.widget-view+json": {
       "model_id": "4190c2f011c94e288b3d4d415a19736b",
       "version_major": 2,
       "version_minor": 0
      },
      "text/plain": [
       "interactive(children=(Dropdown(description='x', options=('shape', 'rair', 'opt_iterations', 'init_std', 'elite…"
      ]
     },
     "metadata": {},
     "output_type": "display_data"
    },
    {
     "data": {
      "text/plain": [
       "<function __main__.<lambda>(x, y='sum_closeness_costs')>"
      ]
     },
     "execution_count": 37,
     "metadata": {},
     "output_type": "execute_result"
    }
   ],
   "source": [
    "mask = results['completed'] & (results['shape'] == 'closeness') & (results['x_size'] == 1) & (results['object_persistency'] != 0)\n",
    "print(mask.sum())\n",
    "interact(lambda x, y=\"sum_closeness_costs\": sns.boxplot(x=x, y=y, data=results[mask]), x=results.columns, y=results.columns)"
   ]
  },
  {
   "cell_type": "code",
   "execution_count": 16,
   "metadata": {},
   "outputs": [
    {
     "data": {
      "text/plain": [
       "shape                                  house\n",
       "rair                                   False\n",
       "opt_iterations                             3\n",
       "init_std                                 0.6\n",
       "elites_size                               10\n",
       "num_simulated_trajectories               256\n",
       "horizon                                   21\n",
       "x_size                                     1\n",
       "r_size                                     4\n",
       "x_step                                     3\n",
       "compression_precision                      1\n",
       "object_persistency                         0\n",
       "cost_along_trajectory                      1\n",
       "closeness_reward_scale                 100.0\n",
       "closeness_reward_threshold            -0.051\n",
       "seed                                       5\n",
       "completed                               True\n",
       "sum_closeness_costs               932.789638\n",
       "final_closeness_cost               15.011985\n",
       "sum_closeness_costs_normalized     50.411381\n",
       "sum_closeness_costs_centered     -177.423513\n",
       "reached                                False\n",
       "complexity                              5376\n",
       "Name: house_495, dtype: object"
      ]
     },
     "execution_count": 16,
     "metadata": {},
     "output_type": "execute_result"
    }
   ],
   "source": [
    "results.loc['house_495']"
   ]
  },
  {
   "cell_type": "code",
   "execution_count": 17,
   "metadata": {},
   "outputs": [
    {
     "data": {
      "image/png": "[encoded data removed]",
      "text/plain": [
       "<Figure size 640x480 with 1 Axes>"
      ]
     },
     "metadata": {},
     "output_type": "display_data"
    }
   ],
   "source": [
    "for key in ['house_951', 'house_1491', 'house_384']:  # ['house_313', 'house_168', 'house_222']\n",
    "    plt.plot(closeness_costs[key], label=key)\n",
    "plt.xlabel(\"Rollouts\")\n",
    "plt.ylabel(\"Closeness Cost\")\n",
    "plt.legend();"
   ]
  },
  {
   "cell_type": "code",
   "execution_count": 18,
   "metadata": {},
   "outputs": [],
   "source": [
    "# tree_576\n",
    "# house_951"
   ]
  }
 ],
 "metadata": {
  "kernelspec": {
   "display_name": "mbrl_venv",
   "language": "python",
   "name": "python3"
  },
  "language_info": {
   "codemirror_mode": {
    "name": "ipython",
    "version": 3
   },
   "file_extension": ".py",
   "mimetype": "text/x-python",
   "name": "python",
   "nbconvert_exporter": "python",
   "pygments_lexer": "ipython3",
   "version": "3.8.10"
  }
 },
 "nbformat": 4,
 "nbformat_minor": 2
}
