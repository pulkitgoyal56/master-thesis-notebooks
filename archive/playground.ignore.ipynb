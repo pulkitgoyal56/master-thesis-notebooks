{
 "cells": [
  {
   "cell_type": "code",
   "execution_count": 1,
   "metadata": {},
   "outputs": [],
   "source": [
    "from pathlib import Path\n",
    "import numpy as np\n",
    "import matplotlib.pyplot as plt\n",
    "import torch\n",
    "from PIL import Image"
   ]
  },
  {
   "cell_type": "code",
   "execution_count": 2,
   "metadata": {},
   "outputs": [],
   "source": [
    "%load_ext rich\n",
    "%load_ext autoreload\n",
    "%autoreload 1"
   ]
  },
  {
   "cell_type": "code",
   "execution_count": 3,
   "metadata": {},
   "outputs": [],
   "source": [
    "from mbrl.environments.imagelib import Im\n",
    "%aimport mbrl.environments.imagelib\n",
    "# from mbrl.environments.shape_gridworld.shape_gridworld import ShapeGridworld\n",
    "# %aimport mbrl.environments.shape_gridworld.shape_gridworld\n",
    "# from mbrl.environments.tangram.tangram import Tangram\n",
    "# %aimport mbrl.environments.tangram.tangram"
   ]
  }
 ],
 "metadata": {
  "kernelspec": {
   "display_name": "mbrl_venv_cluster",
   "language": "python",
   "name": "python3"
  },
  "language_info": {
   "codemirror_mode": {
    "name": "ipython",
    "version": 3
   },
   "file_extension": ".py",
   "mimetype": "text/x-python",
   "name": "python",
   "nbconvert_exporter": "python",
   "pygments_lexer": "ipython3",
   "version": "3.8.10"
  }
 },
 "nbformat": 4,
 "nbformat_minor": 2
}
