{
 "cells": [
  {
   "cell_type": "code",
   "execution_count": 1,
   "id": "2da148f1-5ad3-4b22-a25f-668b7436d337",
   "metadata": {},
   "outputs": [],
   "source": [
    "DEVICE = 'cpu' # 'cuda' if torch.cuda.is_available() else 'cpu'"
   ]
  },
  {
   "cell_type": "code",
   "execution_count": 2,
   "id": "67f28fa6-362f-4638-add1-6b494ec2b616",
   "metadata": {
    "jupyter": {
     "source_hidden": true
    }
   },
   "outputs": [],
   "source": [
    "import sys\n",
    "sys.path.append('..')"
   ]
  },
  {
   "cell_type": "code",
   "execution_count": 3,
   "id": "975afff5-e141-4540-883d-e675d6ba1649",
   "metadata": {
    "jupyter": {
     "source_hidden": true
    }
   },
   "outputs": [],
   "source": [
    "import numpy as np\n",
    "np.set_printoptions(linewidth=1000)"
   ]
  },
  {
   "cell_type": "code",
   "execution_count": 4,
   "id": "5a4e9eb1-f886-41e9-8348-2e91f3a2ce48",
   "metadata": {
    "jupyter": {
     "source_hidden": true
    }
   },
   "outputs": [],
   "source": [
    "import clip\n",
    "model, preprocess = clip.load('ViT-L/14', device=DEVICE)\n",
    "model.eval();"
   ]
  },
  {
   "cell_type": "code",
   "execution_count": 5,
   "id": "edab7b27-cbfa-4878-bdc3-eea184dd1bc6",
   "metadata": {},
   "outputs": [],
   "source": [
    "from imagelib import Im"
   ]
  },
  {
   "cell_type": "code",
   "execution_count": 6,
   "id": "7b3b1900-b21e-41c7-8f6b-4eec5fd6e09a",
   "metadata": {
    "jupyter": {
     "source_hidden": true
    }
   },
   "outputs": [],
   "source": [
    "%load_ext rich"
   ]
  },
  {
   "cell_type": "code",
   "execution_count": 7,
   "id": "f0820ce0-0e24-4776-b57c-cc983f5abfa8",
   "metadata": {},
   "outputs": [],
   "source": [
    "LABEL_PREFIX = 'sketch of '  # a  # an\n",
    "CATEGORIES = list(map(str, range(10)))\n",
    "LABEL_SUFFIX = ''  # ', a fruit' + ', wu t uope'  # ', in a grid'  # ', wu t uope'  # ', wu t uopeasdiajsi asjda isjd iojaios sf aisjdiasjdi'"
   ]
  },
  {
   "cell_type": "code",
   "execution_count": 8,
   "id": "8bd9e125-3c65-4971-ab7f-2d3694c594f2",
   "metadata": {
    "jupyter": {
     "source_hidden": true
    }
   },
   "outputs": [],
   "source": [
    "labels = [f'{LABEL_PREFIX}{label}{LABEL_SUFFIX}' for label in CATEGORIES]"
   ]
  },
  {
   "cell_type": "code",
   "execution_count": 9,
   "id": "8be97f63-7d98-4f5a-8112-42d88d938466",
   "metadata": {},
   "outputs": [],
   "source": [
    "file = Im('../data/mnist/0/1001.png', convert=None)"
   ]
  },
  {
   "cell_type": "markdown",
   "id": "46bef7f4-c897-4acc-a097-7380273162df",
   "metadata": {},
   "source": [
    "---"
   ]
  },
  {
   "cell_type": "code",
   "execution_count": 10,
   "id": "ce9d40f5-363b-47aa-968b-16a2784ab837",
   "metadata": {
    "jupyter": {
     "source_hidden": true
    }
   },
   "outputs": [
    {
     "name": "stdout",
     "output_type": "stream",
     "text": [
      "718 µs ± 52.6 µs per loop (mean ± std. dev. of 7 runs, 1,000 loops each)\n"
     ]
    }
   ],
   "source": [
    "%%timeit\n",
    "image = preprocess(file.image).unsqueeze(0).to(DEVICE)"
   ]
  },
  {
   "cell_type": "code",
   "execution_count": 11,
   "id": "79d11929-f298-4f05-8a32-96742e0958c0",
   "metadata": {},
   "outputs": [],
   "source": [
    "image = preprocess(file.image).unsqueeze(0).to(DEVICE)"
   ]
  },
  {
   "cell_type": "code",
   "execution_count": 12,
   "id": "7ae26002-dd97-494f-8a68-1fe1a536b593",
   "metadata": {
    "jupyter": {
     "source_hidden": true
    }
   },
   "outputs": [
    {
     "name": "stdout",
     "output_type": "stream",
     "text": [
      "729 µs ± 3.46 µs per loop (mean ± std. dev. of 7 runs, 1,000 loops each)\n"
     ]
    }
   ],
   "source": [
    "%%timeit\n",
    "text = clip.tokenize(labels).to(DEVICE)"
   ]
  },
  {
   "cell_type": "code",
   "execution_count": 13,
   "id": "e6e9249c-f1f8-4f1f-90eb-ae429df480fc",
   "metadata": {},
   "outputs": [],
   "source": [
    "text = clip.tokenize(labels).to(DEVICE)"
   ]
  },
  {
   "cell_type": "code",
   "execution_count": 14,
   "id": "e318b64f-f264-4e11-8f06-934309363207",
   "metadata": {
    "jupyter": {
     "source_hidden": true
    }
   },
   "outputs": [
    {
     "name": "stdout",
     "output_type": "stream",
     "text": [
      "532 ms ± 16.2 ms per loop (mean ± std. dev. of 7 runs, 1 loop each)\n"
     ]
    }
   ],
   "source": [
    "%%timeit\n",
    "image_features = model.encode_image(image)\n",
    "image_features /= image_features.norm(dim=-1, keepdim=True)"
   ]
  },
  {
   "cell_type": "code",
   "execution_count": 15,
   "id": "40aa2c9f-a288-426b-aaac-e59c7ea86e91",
   "metadata": {},
   "outputs": [],
   "source": [
    "image_features = model.encode_image(image)\n",
    "image_features /= image_features.norm(dim=-1, keepdim=True)"
   ]
  },
  {
   "cell_type": "code",
   "execution_count": 16,
   "id": "0e059d60-4b76-4c6a-ae69-f5f65454b843",
   "metadata": {
    "jupyter": {
     "source_hidden": true
    }
   },
   "outputs": [
    {
     "name": "stdout",
     "output_type": "stream",
     "text": [
      "409 ms ± 16.3 ms per loop (mean ± std. dev. of 7 runs, 1 loop each)\n"
     ]
    }
   ],
   "source": [
    "%%timeit\n",
    "text_features = model.encode_text(text)\n",
    "text_features /= text_features.norm(dim=-1, keepdim=True)"
   ]
  },
  {
   "cell_type": "code",
   "execution_count": 17,
   "id": "eafabee8-a610-4ebc-b34c-b6cc2b1bd521",
   "metadata": {},
   "outputs": [],
   "source": [
    "text_features = model.encode_text(text)\n",
    "text_features /= text_features.norm(dim=-1, keepdim=True)"
   ]
  },
  {
   "cell_type": "markdown",
   "id": "fac3d814-6e5b-410b-8e29-1a95dfbe2247",
   "metadata": {},
   "source": [
    "---"
   ]
  },
  {
   "cell_type": "code",
   "execution_count": 18,
   "id": "055e13d2-1dda-4021-a55d-963a9f3c8923",
   "metadata": {
    "jupyter": {
     "source_hidden": true
    }
   },
   "outputs": [
    {
     "name": "stdout",
     "output_type": "stream",
     "text": [
      "28 µs ± 250 ns per loop (mean ± std. dev. of 7 runs, 10,000 loops each)\n"
     ]
    }
   ],
   "source": [
    "%%timeit\n",
    "(100.0 * image_features @ text_features.T).softmax(dim=-1)"
   ]
  },
  {
   "cell_type": "code",
   "execution_count": 19,
   "id": "d4e924c4-c94d-4e6c-97e1-af7a45a80fe7",
   "metadata": {},
   "outputs": [
    {
     "data": {
      "text/html": [
       "<pre style=\"white-space:pre;overflow-x:auto;line-height:normal;font-family:Menlo,'DejaVu Sans Mono',consolas,'Courier New',monospace\"></pre>\n"
      ],
      "text/plain": []
     },
     "metadata": {},
     "output_type": "display_data"
    },
    {
     "data": {
      "text/plain": [
       "\n",
       "\u001b[1;35mtensor\u001b[0m\u001b[1m(\u001b[0m\u001b[1m[\u001b[0m\u001b[1m[\u001b[0m\u001b[1;36m0.1757\u001b[0m, \u001b[1;36m0.0605\u001b[0m, \u001b[1;36m0.0129\u001b[0m, \u001b[1;36m0.0131\u001b[0m, \u001b[1;36m0.0444\u001b[0m, \u001b[1;36m0.0472\u001b[0m, \u001b[1;36m0.1335\u001b[0m, \u001b[1;36m0.0728\u001b[0m, \u001b[1;36m0.1679\u001b[0m,\n",
       "         \u001b[1;36m0.2719\u001b[0m\u001b[1m]\u001b[0m\u001b[1m]\u001b[0m, \u001b[33mgrad_fn\u001b[0m=\u001b[1m<\u001b[0m\u001b[1;95mSoftmaxBackward0\u001b[0m\u001b[1m>\u001b[0m\u001b[1m)\u001b[0m"
      ]
     },
     "execution_count": 19,
     "metadata": {},
     "output_type": "execute_result"
    }
   ],
   "source": [
    "(100.0 * image_features @ text_features.T).softmax(dim=-1)"
   ]
  },
  {
   "cell_type": "code",
   "execution_count": 20,
   "id": "26cef200-12c1-4f03-8b0b-345b810e50eb",
   "metadata": {
    "jupyter": {
     "source_hidden": true
    },
    "scrolled": true
   },
   "outputs": [
    {
     "name": "stdout",
     "output_type": "stream",
     "text": [
      "868 ms ± 25.4 ms per loop (mean ± std. dev. of 7 runs, 1 loop each)\n"
     ]
    }
   ],
   "source": [
    "%%timeit\n",
    "model(image, text)[0].softmax(dim=-1)"
   ]
  },
  {
   "cell_type": "code",
   "execution_count": 21,
   "id": "24dd4d40-2a3f-455c-a3fb-c5180f07da28",
   "metadata": {},
   "outputs": [
    {
     "data": {
      "text/html": [
       "<pre style=\"white-space:pre;overflow-x:auto;line-height:normal;font-family:Menlo,'DejaVu Sans Mono',consolas,'Courier New',monospace\"></pre>\n"
      ],
      "text/plain": []
     },
     "metadata": {},
     "output_type": "display_data"
    },
    {
     "data": {
      "text/plain": [
       "\n",
       "\u001b[1;35mtensor\u001b[0m\u001b[1m(\u001b[0m\u001b[1m[\u001b[0m\u001b[1m[\u001b[0m\u001b[1;36m0.1757\u001b[0m, \u001b[1;36m0.0605\u001b[0m, \u001b[1;36m0.0129\u001b[0m, \u001b[1;36m0.0131\u001b[0m, \u001b[1;36m0.0444\u001b[0m, \u001b[1;36m0.0472\u001b[0m, \u001b[1;36m0.1335\u001b[0m, \u001b[1;36m0.0728\u001b[0m, \u001b[1;36m0.1679\u001b[0m,\n",
       "         \u001b[1;36m0.2719\u001b[0m\u001b[1m]\u001b[0m\u001b[1m]\u001b[0m, \u001b[33mgrad_fn\u001b[0m=\u001b[1m<\u001b[0m\u001b[1;95mSoftmaxBackward0\u001b[0m\u001b[1m>\u001b[0m\u001b[1m)\u001b[0m"
      ]
     },
     "execution_count": 21,
     "metadata": {},
     "output_type": "execute_result"
    }
   ],
   "source": [
    "model(image, text)[0].softmax(dim=-1)"
   ]
  },
  {
   "cell_type": "code",
   "execution_count": null,
   "id": "02f1bb32-5109-43c8-b483-c8f31807849f",
   "metadata": {},
   "outputs": [],
   "source": []
  }
 ],
 "metadata": {
  "kernelspec": {
   "display_name": "Python 3 (ipykernel)",
   "language": "python",
   "name": "python3"
  },
  "language_info": {
   "codemirror_mode": {
    "name": "ipython",
    "version": 3
   },
   "file_extension": ".py",
   "mimetype": "text/x-python",
   "name": "python",
   "nbconvert_exporter": "python",
   "pygments_lexer": "ipython3",
   "version": "3.8.10"
  }
 },
 "nbformat": 4,
 "nbformat_minor": 5
}
