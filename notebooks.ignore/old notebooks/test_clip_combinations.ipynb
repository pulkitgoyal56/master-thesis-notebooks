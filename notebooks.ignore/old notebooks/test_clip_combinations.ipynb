{
 "cells": [
  {
   "cell_type": "markdown",
   "id": "3af157b2-abe5-4ab4-9a47-0bee94d1ec34",
   "metadata": {
    "jp-MarkdownHeadingCollapsed": true
   },
   "source": [
    "# Imports"
   ]
  },
  {
   "cell_type": "code",
   "execution_count": 1,
   "id": "bde53502-ffc1-4b25-a2e6-e294c00a3d27",
   "metadata": {},
   "outputs": [],
   "source": [
    "from time import time, ctime\n",
    "from math import comb\n",
    "from itertools import combinations"
   ]
  },
  {
   "cell_type": "code",
   "execution_count": 2,
   "id": "db029727-1f46-4df6-85e6-2b89d4c49fbc",
   "metadata": {},
   "outputs": [],
   "source": [
    "import logging\n",
    "from pathlib import Path\n",
    "import gc\n",
    "import pickle"
   ]
  },
  {
   "cell_type": "code",
   "execution_count": 3,
   "id": "1e991975-6352-4448-a2c7-689ebe415762",
   "metadata": {},
   "outputs": [],
   "source": [
    "import numpy as np\n",
    "import matplotlib.pyplot as plt\n",
    "from matplotlib.ticker import MultipleLocator, AutoMinorLocator"
   ]
  },
  {
   "cell_type": "code",
   "execution_count": 4,
   "id": "8c5ab401-e17c-4a1a-8a30-ad36ee9d4862",
   "metadata": {},
   "outputs": [],
   "source": [
    "import torch"
   ]
  },
  {
   "cell_type": "code",
   "execution_count": 5,
   "id": "7bb10017-8e03-48dc-bf9c-c903135aa2c7",
   "metadata": {},
   "outputs": [],
   "source": [
    "import clip"
   ]
  },
  {
   "cell_type": "code",
   "execution_count": 6,
   "id": "c267a692-21aa-4df5-bf1a-897d213533e5",
   "metadata": {},
   "outputs": [],
   "source": [
    "from imagelib import Im"
   ]
  },
  {
   "cell_type": "code",
   "execution_count": 7,
   "id": "daf1dd5c-c192-4f4c-9191-ecdbb8d0e608",
   "metadata": {},
   "outputs": [],
   "source": [
    "import test"
   ]
  },
  {
   "cell_type": "code",
   "execution_count": 8,
   "id": "ee305313-5ac8-4741-8441-20c3994a57df",
   "metadata": {},
   "outputs": [],
   "source": [
    "from tqdm.notebook import tqdm"
   ]
  },
  {
   "cell_type": "markdown",
   "id": "f5a947a6-90ab-4ace-bbe6-2d63967135b1",
   "metadata": {},
   "source": [
    "---"
   ]
  },
  {
   "cell_type": "code",
   "execution_count": 9,
   "id": "12833ed0-ce85-4f4c-bce1-19e266d405a9",
   "metadata": {},
   "outputs": [],
   "source": [
    "%load_ext rich"
   ]
  },
  {
   "cell_type": "code",
   "execution_count": 10,
   "id": "2079b0bd-977a-4d40-86b6-aced0b5cc71a",
   "metadata": {},
   "outputs": [],
   "source": [
    "%load_ext autoreload\n",
    "%autoreload 1"
   ]
  },
  {
   "cell_type": "code",
   "execution_count": 11,
   "id": "afceccb0-d0fb-4961-be89-abfae12aae1a",
   "metadata": {},
   "outputs": [],
   "source": [
    "%aimport imagelib"
   ]
  },
  {
   "cell_type": "code",
   "execution_count": 12,
   "id": "670a580d-f463-448a-b2e2-f0e4f996aff0",
   "metadata": {},
   "outputs": [],
   "source": [
    "%aimport test"
   ]
  },
  {
   "cell_type": "markdown",
   "id": "ed6f0fe7-8f4b-44a4-b140-c936d1bec351",
   "metadata": {},
   "source": [
    "## Config"
   ]
  },
  {
   "cell_type": "code",
   "execution_count": 13,
   "id": "6ed857c2-e3a6-4d70-a6cf-e52d80805eb2",
   "metadata": {},
   "outputs": [],
   "source": [
    "np.set_printoptions(linewidth=1000)"
   ]
  },
  {
   "cell_type": "code",
   "execution_count": 14,
   "id": "a63048b1-16a0-4726-b025-82854202e84b",
   "metadata": {},
   "outputs": [],
   "source": [
    "plt.set_loglevel('error')"
   ]
  },
  {
   "cell_type": "code",
   "execution_count": 15,
   "id": "65df9fad-de3e-4c0d-90cc-74447824001e",
   "metadata": {},
   "outputs": [],
   "source": [
    "logging.basicConfig(level=logging.DEBUG)"
   ]
  },
  {
   "cell_type": "code",
   "execution_count": 16,
   "id": "ec328bdd-0081-4d34-a16a-10ac3326cc97",
   "metadata": {},
   "outputs": [],
   "source": [
    "logging.getLogger(\"imagelib\").setLevel(logging.INFO)"
   ]
  },
  {
   "cell_type": "raw",
   "id": "80b27f56-dc8c-47ae-bb85-1cd122ad52f0",
   "metadata": {},
   "source": [
    "logging.getLogger(\"basic_inference\").setLevel(logging.DEBUG)"
   ]
  },
  {
   "cell_type": "code",
   "execution_count": 17,
   "id": "950eb45c-a42b-441a-b5ba-569edf746100",
   "metadata": {},
   "outputs": [],
   "source": [
    "logging.getLogger(\"test\").setLevel(logging.DEBUG)"
   ]
  },
  {
   "cell_type": "markdown",
   "id": "e960057d-6795-49be-a065-9b77fc3e3463",
   "metadata": {},
   "source": [
    "# Main"
   ]
  },
  {
   "cell_type": "code",
   "execution_count": 18,
   "id": "ba1830d7-7550-4c71-80f4-af09b1f64adc",
   "metadata": {},
   "outputs": [],
   "source": [
    "file_name = \"temp.png\"\n",
    "category = \"random\"\n",
    "base_dir = \"data\"\n",
    "\n",
    "target = \"combinations_cuda\"\n",
    "\n",
    "label_prefix = \"sketch of\"\n",
    "\n",
    "gridcell_size = 8\n",
    "grid_width = 28\n",
    "grid_height = 28\n",
    "threshold_ratio = 0.\n",
    "\n",
    "convert = '1'\n",
    "invert = False\n",
    "skeleton = False\n",
    "\n",
    "p = 0.045\n",
    "seed = 5\n",
    "\n",
    "render_w_grid = False\n",
    "render_type = \"circles\"\n",
    "\n",
    "model_name = 'clip'\n",
    "device = \"cuda\"\n",
    "\n",
    "overwrite = False\n",
    "overwrite_plot = False\n",
    "overwrite_animation = False\n",
    "\n",
    "frames = 1000\n",
    "interval = 50"
   ]
  },
  {
   "cell_type": "code",
   "execution_count": 19,
   "id": "6c606975-a609-4a2b-8191-66cbc46c678f",
   "metadata": {},
   "outputs": [
    {
     "data": {
      "text/html": [
       "<pre style=\"white-space:pre;overflow-x:auto;line-height:normal;font-family:Menlo,'DejaVu Sans Mono',consolas,'Courier New',monospace\"></pre>\n"
      ],
      "text/plain": []
     },
     "metadata": {},
     "output_type": "display_data"
    },
    {
     "data": {
      "text/plain": [
       "\u001b[1m[\u001b[0m\u001b[32m'RN50'\u001b[0m, \u001b[32m'RN101'\u001b[0m, \u001b[32m'RN50x4'\u001b[0m, \u001b[32m'RN50x16'\u001b[0m, \u001b[32m'RN50x64'\u001b[0m, \u001b[32m'ViT-B/32'\u001b[0m, \u001b[32m'ViT-B/16'\u001b[0m, \u001b[32m'ViT-L/14'\u001b[0m, \u001b[32m'ViT-L/14@336px'\u001b[0m\u001b[1m]\u001b[0m"
      ]
     },
     "execution_count": 19,
     "metadata": {},
     "output_type": "execute_result"
    }
   ],
   "source": [
    "models_ = clip.available_models()[::-1]\n",
    "models_[::-1]"
   ]
  },
  {
   "cell_type": "markdown",
   "id": "3810ae3f-f247-4107-b49e-5bf3e9bf1cf2",
   "metadata": {},
   "source": [
    "---"
   ]
  },
  {
   "cell_type": "code",
   "execution_count": 20,
   "id": "4b9c68b8-2f13-459e-b235-3c4ecc7a47b8",
   "metadata": {},
   "outputs": [],
   "source": [
    "id = 10"
   ]
  },
  {
   "cell_type": "code",
   "execution_count": 21,
   "id": "16a0168e-00cc-4049-8a22-e864f789fc5c",
   "metadata": {},
   "outputs": [],
   "source": [
    "prefix = Path(file_name.split(\".\")[0])"
   ]
  },
  {
   "cell_type": "markdown",
   "id": "693f553b-5650-4a7c-8b26-f1a52bec8516",
   "metadata": {},
   "source": [
    "---"
   ]
  },
  {
   "cell_type": "code",
   "execution_count": 22,
   "id": "033946bc-3370-447d-ad91-62b10d75e7ec",
   "metadata": {},
   "outputs": [
    {
     "data": {
      "text/html": [
       "<pre style=\"white-space:pre;overflow-x:auto;line-height:normal;font-family:Menlo,'DejaVu Sans Mono',consolas,'Courier New',monospace\"></pre>\n"
      ],
      "text/plain": []
     },
     "metadata": {},
     "output_type": "display_data"
    },
    {
     "data": {
      "text/plain": [
       "\u001b[1m<\u001b[0m\u001b[1;95mshape_gridworld.shape_gridworld.ShapeGridworld\u001b[0m\u001b[39m object at \u001b[0m\u001b[1;36m0x7f881ff093a0\u001b[0m\u001b[1m>\u001b[0m"
      ]
     },
     "execution_count": 22,
     "metadata": {},
     "output_type": "execute_result"
    }
   ],
   "source": [
    "file = Im(file_name, category, base_dir=base_dir, create='random', convert=convert, invert=invert, skeleton=skeleton, p=p, seed=seed)\n",
    "file.register(grid_width, grid_height, gridcell_size, threshold_ratio=threshold_ratio, object_persistency=1, seed=seed, render_w_grid=render_w_grid, render_type=render_type)"
   ]
  },
  {
   "cell_type": "code",
   "execution_count": 23,
   "id": "cf4f8f8c-f8d1-4f05-b9d2-e218a48fe754",
   "metadata": {},
   "outputs": [
    {
     "data": {
      "text/html": [
       "<pre style=\"white-space:pre;overflow-x:auto;line-height:normal;font-family:Menlo,'DejaVu Sans Mono',consolas,'Courier New',monospace\"></pre>\n"
      ],
      "text/plain": []
     },
     "metadata": {},
     "output_type": "display_data"
    },
    {
     "data": {
      "image/png": "[encoded data removed]",
      "text/plain": [
       "\u001b[1m<\u001b[0m\u001b[1;95mFigure\u001b[0m\u001b[39m size 160\u001b[0m\u001b[1;36m0x800\u001b[0m\u001b[39m with \u001b[0m\u001b[1;36m2\u001b[0m\u001b[39m Axes\u001b[0m\u001b[1m>\u001b[0m"
      ]
     },
     "metadata": {},
     "output_type": "display_data"
    }
   ],
   "source": [
    "fig, axs = plt.subplots(1, 2, figsize=(16, 8))\n",
    "for ax, invert_grid in zip(axs, (False, True)):\n",
    "    ax.imshow(file.get_grid_image(invert=invert_grid))\n",
    "    ax.set_title(f\"{invert_grid=}\")\n",
    "plt.show()"
   ]
  },
  {
   "cell_type": "markdown",
   "id": "e39dc414-8f87-4039-ab2f-9844c045681b",
   "metadata": {
    "jp-MarkdownHeadingCollapsed": true
   },
   "source": [
    "## Combinations"
   ]
  },
  {
   "cell_type": "raw",
   "id": "0db10137-e973-46b0-9581-711697cdb6cb",
   "metadata": {},
   "source": [
    "comb_categories = [categories for i in range(1, len(CATEGORIES))for categories in combinations(CATEGORIES, i + 1)]"
   ]
  },
  {
   "cell_type": "code",
   "execution_count": 24,
   "id": "165c8335-3241-4bbf-b0fc-10775e95f7f7",
   "metadata": {},
   "outputs": [],
   "source": [
    "C = {\n",
    "    'letters': ['letter A', 'letter B', 'letter C', 'letter D', 'letter E', 'letter F', 'letter G', 'letter H', 'letter I', 'letter J', 'letter K', 'letter L', 'letter M', 'letter N', 'letter O', 'letter P', 'letter Q', 'letter R', 'letter S', 'letter T', 'letter U', 'letter V', 'letter W', 'letter X', 'letter Y', 'letter Z'],\n",
    "    'numbers': ['number 0', 'number 1', 'number 2', 'number 3', 'number 4', 'number 5', 'number 6', 'number 7', 'number 8', 'number 9'],\n",
    "    'abstract': ['randomness', 'something unknown', 'something abstract'],\n",
    "    'objects': ['star', 'starfish', 'heart', 'house', 'tree', 'apple', 'moon', 'butterfly', 'cloud', 'umbrella', 'bicycle', 'balloon', 'clock', 'arrow', 'smiley face', 'book', 'rocket', 'pencil', 'cat', 'dog', 'fish', 'car', 'table', 'flower', 'number one', 'letter a', 'guitar', 'hat', 'chair', 'sun', 'key', 'cake', 'snowflake', 'ball', 'mushroom', 'glasses', 'laptop', 'candle', 'crown', 'mountain', 'island', 'cactus', 'bird', 'plane', 'lamp', 'leaf', 'shell', 'dolphin', 'sailboat', 'swan']\n",
    "}"
   ]
  },
  {
   "cell_type": "code",
   "execution_count": 25,
   "id": "7a0c8284-128b-4041-9200-c35e5068d7ab",
   "metadata": {},
   "outputs": [],
   "source": [
    "comb_categories = [\n",
    "    C['numbers'],\n",
    "    C['letters'],\n",
    "    C['numbers'] + C['letters'],\n",
    "    # C['abstract'],\n",
    "    # C['numbers'] + C['abstract'],\n",
    "    # C['abstract'] + C['letters'],\n",
    "    C['numbers'] + C['letters'] + C['abstract'],\n",
    "    C['objects'],\n",
    "    # C['objects'] + C['numbers'],\n",
    "    # C['objects'] + C['letters'],\n",
    "    C['objects'] + C['numbers'] + C['letters'],\n",
    "    # C['objects'] + C['abstract'],\n",
    "    # C['objects'] + C['numbers'] + C['letters'] + C['abstract']\n",
    "]"
   ]
  },
  {
   "cell_type": "markdown",
   "id": "8cec01da-c823-4574-91d3-5d9dc6811a51",
   "metadata": {},
   "source": [
    "---"
   ]
  },
  {
   "cell_type": "code",
   "execution_count": 26,
   "id": "32b08724-0c23-46bd-b9a1-adf2cedf660b",
   "metadata": {},
   "outputs": [],
   "source": [
    "def combinations_(items, r):\n",
    "    return (items[i : i + r] for i in range(0, len(items) - r + 1, 1))  # r\n",
    "    # return combinations(items, r)"
   ]
  },
  {
   "cell_type": "code",
   "execution_count": 27,
   "id": "235fb9ce-b701-4cc4-a9e7-957108a0f3b7",
   "metadata": {},
   "outputs": [],
   "source": [
    "def comb_(n, r):\n",
    "    return n - r + 1  # n // r\n",
    "    # return comb(n, r)"
   ]
  },
  {
   "cell_type": "markdown",
   "id": "bb9751b3-5370-4e78-8bd6-fd701ff59882",
   "metadata": {
    "jp-MarkdownHeadingCollapsed": true
   },
   "source": [
    "## Permutations of combinations on different models"
   ]
  },
  {
   "cell_type": "code",
   "execution_count": 29,
   "id": "da77958f-b01b-4f8a-8814-0a8f9fbbb60c",
   "metadata": {
    "scrolled": true
   },
   "outputs": [
    {
     "name": "stdout",
     "output_type": "stream",
     "text": [
      "ViT-L/14@336px\n"
     ]
    },
    {
     "name": "stderr",
     "output_type": "stream",
     "text": [
      "INFO:root:>> ViT-L/14@336px      | Loaded results @ file:///is/sg2/pgoyal/Desktop/Projects/mbrl-semantics/mbrl/environments/results/combinations_cuda/random/temp/results_28_28_8_False_False_circles_clip=ViT-L-14@336px_sketch-of+NA10+5.pickle.\n",
      "INFO:root:>> ViT-L/14@336px      | Loaded inverted results @ file:///is/sg2/pgoyal/Desktop/Projects/mbrl-semantics/mbrl/environments/results/combinations_cuda/random/temp/results_28_28_8_True_False_circles_clip=ViT-L-14@336px_sketch-of+NA10+5.pickle.\n",
      "INFO:root:>> ViT-L/14@336px      | Loaded inference times @ file:///is/sg2/pgoyal/Desktop/Projects/mbrl-semantics/mbrl/environments/results/combinations_cuda/random/temp/times_28_28_8_True_False_circles_clip=ViT-L-14@336px_sketch-of+NA10+5.pickle.\n",
      "INFO:root:>> ViT-L/14@336px      | Loaded preprocessing times @ file:///is/sg2/pgoyal/Desktop/Projects/mbrl-semantics/mbrl/environments/results/combinations_cuda/random/temp/preprocess_times_28_28_8_True_False_circles_clip=ViT-L-14@336px_sketch-of+NA10+5.pickle.\n",
      "INFO:root:>> ViT-L/14@336px      | Loaded tokenize times @ file:///is/sg2/pgoyal/Desktop/Projects/mbrl-semantics/mbrl/environments/results/combinations_cuda/random/temp/tokenize_times_28_28_8_True_False_circles_clip=ViT-L-14@336px_sketch-of+NA10+5.pickle.\n"
     ]
    },
    {
     "name": "stdout",
     "output_type": "stream",
     "text": [
      "ViT-L/14\n"
     ]
    },
    {
     "name": "stderr",
     "output_type": "stream",
     "text": [
      "INFO:root:>> ViT-L/14            | Loaded results @ file:///is/sg2/pgoyal/Desktop/Projects/mbrl-semantics/mbrl/environments/results/combinations_cuda/random/temp/results_28_28_8_False_False_circles_clip=ViT-L-14_sketch-of+NA10+5.pickle.\n",
      "INFO:root:>> ViT-L/14            | Loaded inverted results @ file:///is/sg2/pgoyal/Desktop/Projects/mbrl-semantics/mbrl/environments/results/combinations_cuda/random/temp/results_28_28_8_True_False_circles_clip=ViT-L-14_sketch-of+NA10+5.pickle.\n",
      "INFO:root:>> ViT-L/14            | Loaded inference times @ file:///is/sg2/pgoyal/Desktop/Projects/mbrl-semantics/mbrl/environments/results/combinations_cuda/random/temp/times_28_28_8_True_False_circles_clip=ViT-L-14_sketch-of+NA10+5.pickle.\n",
      "INFO:root:>> ViT-L/14            | Loaded preprocessing times @ file:///is/sg2/pgoyal/Desktop/Projects/mbrl-semantics/mbrl/environments/results/combinations_cuda/random/temp/preprocess_times_28_28_8_True_False_circles_clip=ViT-L-14_sketch-of+NA10+5.pickle.\n",
      "INFO:root:>> ViT-L/14            | Loaded tokenize times @ file:///is/sg2/pgoyal/Desktop/Projects/mbrl-semantics/mbrl/environments/results/combinations_cuda/random/temp/tokenize_times_28_28_8_True_False_circles_clip=ViT-L-14_sketch-of+NA10+5.pickle.\n"
     ]
    },
    {
     "name": "stdout",
     "output_type": "stream",
     "text": [
      "ViT-B/16\n"
     ]
    },
    {
     "name": "stderr",
     "output_type": "stream",
     "text": [
      "INFO:root:>> ViT-B/16            | Loaded results @ file:///is/sg2/pgoyal/Desktop/Projects/mbrl-semantics/mbrl/environments/results/combinations_cuda/random/temp/results_28_28_8_False_False_circles_clip=ViT-B-16_sketch-of+NA10+5.pickle.\n",
      "INFO:root:>> ViT-B/16            | Loaded inverted results @ file:///is/sg2/pgoyal/Desktop/Projects/mbrl-semantics/mbrl/environments/results/combinations_cuda/random/temp/results_28_28_8_True_False_circles_clip=ViT-B-16_sketch-of+NA10+5.pickle.\n",
      "INFO:root:>> ViT-B/16            | Loaded inference times @ file:///is/sg2/pgoyal/Desktop/Projects/mbrl-semantics/mbrl/environments/results/combinations_cuda/random/temp/times_28_28_8_True_False_circles_clip=ViT-B-16_sketch-of+NA10+5.pickle.\n",
      "INFO:root:>> ViT-B/16            | Loaded preprocessing times @ file:///is/sg2/pgoyal/Desktop/Projects/mbrl-semantics/mbrl/environments/results/combinations_cuda/random/temp/preprocess_times_28_28_8_True_False_circles_clip=ViT-B-16_sketch-of+NA10+5.pickle.\n",
      "INFO:root:>> ViT-B/16            | Loaded tokenize times @ file:///is/sg2/pgoyal/Desktop/Projects/mbrl-semantics/mbrl/environments/results/combinations_cuda/random/temp/tokenize_times_28_28_8_True_False_circles_clip=ViT-B-16_sketch-of+NA10+5.pickle.\n"
     ]
    },
    {
     "name": "stdout",
     "output_type": "stream",
     "text": [
      "ViT-B/32\n"
     ]
    },
    {
     "name": "stderr",
     "output_type": "stream",
     "text": [
      "INFO:root:>> ViT-B/32            | Loaded results @ file:///is/sg2/pgoyal/Desktop/Projects/mbrl-semantics/mbrl/environments/results/combinations_cuda/random/temp/results_28_28_8_False_False_circles_clip=ViT-B-32_sketch-of+NA10+5.pickle.\n",
      "INFO:root:>> ViT-B/32            | Loaded inverted results @ file:///is/sg2/pgoyal/Desktop/Projects/mbrl-semantics/mbrl/environments/results/combinations_cuda/random/temp/results_28_28_8_True_False_circles_clip=ViT-B-32_sketch-of+NA10+5.pickle.\n",
      "INFO:root:>> ViT-B/32            | Loaded inference times @ file:///is/sg2/pgoyal/Desktop/Projects/mbrl-semantics/mbrl/environments/results/combinations_cuda/random/temp/times_28_28_8_True_False_circles_clip=ViT-B-32_sketch-of+NA10+5.pickle.\n",
      "INFO:root:>> ViT-B/32            | Loaded preprocessing times @ file:///is/sg2/pgoyal/Desktop/Projects/mbrl-semantics/mbrl/environments/results/combinations_cuda/random/temp/preprocess_times_28_28_8_True_False_circles_clip=ViT-B-32_sketch-of+NA10+5.pickle.\n",
      "INFO:root:>> ViT-B/32            | Loaded tokenize times @ file:///is/sg2/pgoyal/Desktop/Projects/mbrl-semantics/mbrl/environments/results/combinations_cuda/random/temp/tokenize_times_28_28_8_True_False_circles_clip=ViT-B-32_sketch-of+NA10+5.pickle.\n"
     ]
    },
    {
     "name": "stdout",
     "output_type": "stream",
     "text": [
      "RN50x64\n"
     ]
    },
    {
     "data": {
      "text/html": [
       "<pre style=\"white-space:pre;overflow-x:auto;line-height:normal;font-family:Menlo,'DejaVu Sans Mono',consolas,'Courier New',monospace\"><span style=\"color: #800000; text-decoration-color: #800000\">╭─────────────────────────────── </span><span style=\"color: #800000; text-decoration-color: #800000; font-weight: bold\">Traceback </span><span style=\"color: #bf7f7f; text-decoration-color: #bf7f7f; font-weight: bold\">(most recent call last)</span><span style=\"color: #800000; text-decoration-color: #800000\"> ────────────────────────────────╮</span>\n",
       "<span style=\"color: #800000; text-decoration-color: #800000\">│</span> in <span style=\"color: #00ff00; text-decoration-color: #00ff00\">&lt;module&gt;</span>:<span style=\"color: #0000ff; text-decoration-color: #0000ff\">86</span>                                                                                   <span style=\"color: #800000; text-decoration-color: #800000\">│</span>\n",
       "<span style=\"color: #800000; text-decoration-color: #800000\">│</span>                                                                                                  <span style=\"color: #800000; text-decoration-color: #800000\">│</span>\n",
       "<span style=\"color: #800000; text-decoration-color: #800000\">│</span>   <span style=\"color: #7f7f7f; text-decoration-color: #7f7f7f\"> 83 </span><span style=\"color: #7f7f7f; text-decoration-color: #7f7f7f\">│   │   </span>                                                                                   <span style=\"color: #800000; text-decoration-color: #800000\">│</span>\n",
       "<span style=\"color: #800000; text-decoration-color: #800000\">│</span>   <span style=\"color: #7f7f7f; text-decoration-color: #7f7f7f\"> 84 </span><span style=\"color: #7f7f7f; text-decoration-color: #7f7f7f\">│   │   </span><span style=\"color: #0000ff; text-decoration-color: #0000ff\">else</span>:                                                                              <span style=\"color: #800000; text-decoration-color: #800000\">│</span>\n",
       "<span style=\"color: #800000; text-decoration-color: #800000\">│</span>   <span style=\"color: #7f7f7f; text-decoration-color: #7f7f7f\"> 85 </span><span style=\"color: #7f7f7f; text-decoration-color: #7f7f7f\">│   │   │   </span><span style=\"color: #0000ff; text-decoration-color: #0000ff\">with</span> <span style=\"color: #00ffff; text-decoration-color: #00ffff\">open</span>(resultpath, <span style=\"color: #808000; text-decoration-color: #808000\">\"rb\"</span>) <span style=\"color: #0000ff; text-decoration-color: #0000ff\">as</span> picklefile:                                     <span style=\"color: #800000; text-decoration-color: #800000\">│</span>\n",
       "<span style=\"color: #800000; text-decoration-color: #800000\">│</span> <span style=\"color: #800000; text-decoration-color: #800000\">❱ </span> 86 <span style=\"color: #7f7f7f; text-decoration-color: #7f7f7f\">│   │   │   │   </span>results[model_][invert_grid] = pickle.Unpickler(picklefile).load()         <span style=\"color: #800000; text-decoration-color: #800000\">│</span>\n",
       "<span style=\"color: #800000; text-decoration-color: #800000\">│</span>   <span style=\"color: #7f7f7f; text-decoration-color: #7f7f7f\"> 87 </span><span style=\"color: #7f7f7f; text-decoration-color: #7f7f7f\">│   │   │   │   </span>logging.info(<span style=\"color: #808000; text-decoration-color: #808000\">f\"&gt;&gt; {</span>model_<span style=\"color: #808000; text-decoration-color: #808000\">:19} | Loaded {'inverted '</span><span style=\"color: #808080; text-decoration-color: #808080\"> </span><span style=\"color: #0000ff; text-decoration-color: #0000ff\">if</span><span style=\"color: #808080; text-decoration-color: #808080\"> </span>invert_grid<span style=\"color: #808080; text-decoration-color: #808080\"> </span><span style=\"color: #0000ff; text-decoration-color: #0000ff\">else</span><span style=\"color: #808080; text-decoration-color: #808080\"> </span>   <span style=\"color: #800000; text-decoration-color: #800000\">│</span>\n",
       "<span style=\"color: #800000; text-decoration-color: #800000\">│</span>   <span style=\"color: #7f7f7f; text-decoration-color: #7f7f7f\"> 88 </span><span style=\"color: #7f7f7f; text-decoration-color: #7f7f7f\">│   │   │   </span>                                                                               <span style=\"color: #800000; text-decoration-color: #800000\">│</span>\n",
       "<span style=\"color: #800000; text-decoration-color: #800000\">│</span>   <span style=\"color: #7f7f7f; text-decoration-color: #7f7f7f\"> 89 </span><span style=\"color: #7f7f7f; text-decoration-color: #7f7f7f\">│   │   │   </span><span style=\"color: #0000ff; text-decoration-color: #0000ff\">if</span> invert_grid:                                                                <span style=\"color: #800000; text-decoration-color: #800000\">│</span>\n",
       "<span style=\"color: #800000; text-decoration-color: #800000\">│</span>                                                                                                  <span style=\"color: #800000; text-decoration-color: #800000\">│</span>\n",
       "<span style=\"color: #800000; text-decoration-color: #800000\">│</span> <span style=\"color: #bfbf7f; text-decoration-color: #bfbf7f\">/is/sg2/pgoyal/Desktop/Projects/mbrl-semantics/mbrl_venv/lib/python3.8/site-packages/torch/</span><span style=\"color: #808000; text-decoration-color: #808000; font-weight: bold\">stora</span> <span style=\"color: #800000; text-decoration-color: #800000\">│</span>\n",
       "<span style=\"color: #800000; text-decoration-color: #800000\">│</span> <span style=\"color: #808000; text-decoration-color: #808000; font-weight: bold\">ge.py</span>:<span style=\"color: #0000ff; text-decoration-color: #0000ff\">241</span> in <span style=\"color: #00ff00; text-decoration-color: #00ff00\">_load_from_bytes</span>                                                                    <span style=\"color: #800000; text-decoration-color: #800000\">│</span>\n",
       "<span style=\"color: #800000; text-decoration-color: #800000\">│</span>                                                                                                  <span style=\"color: #800000; text-decoration-color: #800000\">│</span>\n",
       "<span style=\"color: #800000; text-decoration-color: #800000\">│</span>   <span style=\"color: #7f7f7f; text-decoration-color: #7f7f7f\"> 238 </span><span style=\"color: #7f7f7f; text-decoration-color: #7f7f7f\">│   │   </span><span style=\"color: #0000ff; text-decoration-color: #0000ff\">return</span> <span style=\"color: #00ffff; text-decoration-color: #00ffff\">self</span>.device.type == <span style=\"color: #808000; text-decoration-color: #808000\">'cuda'</span>                                                 <span style=\"color: #800000; text-decoration-color: #800000\">│</span>\n",
       "<span style=\"color: #800000; text-decoration-color: #800000\">│</span>   <span style=\"color: #7f7f7f; text-decoration-color: #7f7f7f\"> 239 </span>                                                                                          <span style=\"color: #800000; text-decoration-color: #800000\">│</span>\n",
       "<span style=\"color: #800000; text-decoration-color: #800000\">│</span>   <span style=\"color: #7f7f7f; text-decoration-color: #7f7f7f\"> 240 </span><span style=\"color: #0000ff; text-decoration-color: #0000ff\">def</span> <span style=\"color: #00ff00; text-decoration-color: #00ff00\">_load_from_bytes</span>(b):                                                                  <span style=\"color: #800000; text-decoration-color: #800000\">│</span>\n",
       "<span style=\"color: #800000; text-decoration-color: #800000\">│</span> <span style=\"color: #800000; text-decoration-color: #800000\">❱ </span> 241 <span style=\"color: #7f7f7f; text-decoration-color: #7f7f7f\">│   </span><span style=\"color: #0000ff; text-decoration-color: #0000ff\">return</span> torch.load(io.BytesIO(b))                                                      <span style=\"color: #800000; text-decoration-color: #800000\">│</span>\n",
       "<span style=\"color: #800000; text-decoration-color: #800000\">│</span>   <span style=\"color: #7f7f7f; text-decoration-color: #7f7f7f\"> 242 </span>                                                                                          <span style=\"color: #800000; text-decoration-color: #800000\">│</span>\n",
       "<span style=\"color: #800000; text-decoration-color: #800000\">│</span>   <span style=\"color: #7f7f7f; text-decoration-color: #7f7f7f\"> 243 </span>                                                                                          <span style=\"color: #800000; text-decoration-color: #800000\">│</span>\n",
       "<span style=\"color: #800000; text-decoration-color: #800000\">│</span>   <span style=\"color: #7f7f7f; text-decoration-color: #7f7f7f\"> 244 </span>_StorageBase.type = _type  <span style=\"color: #7f7f7f; text-decoration-color: #7f7f7f\"># type: ignore[assignment]</span>                                     <span style=\"color: #800000; text-decoration-color: #800000\">│</span>\n",
       "<span style=\"color: #800000; text-decoration-color: #800000\">│</span>                                                                                                  <span style=\"color: #800000; text-decoration-color: #800000\">│</span>\n",
       "<span style=\"color: #800000; text-decoration-color: #800000\">│</span> <span style=\"color: #bfbf7f; text-decoration-color: #bfbf7f\">/is/sg2/pgoyal/Desktop/Projects/mbrl-semantics/mbrl_venv/lib/python3.8/site-packages/torch/</span><span style=\"color: #808000; text-decoration-color: #808000; font-weight: bold\">seria</span> <span style=\"color: #800000; text-decoration-color: #800000\">│</span>\n",
       "<span style=\"color: #800000; text-decoration-color: #800000\">│</span> <span style=\"color: #808000; text-decoration-color: #808000; font-weight: bold\">lization.py</span>:<span style=\"color: #0000ff; text-decoration-color: #0000ff\">815</span> in <span style=\"color: #00ff00; text-decoration-color: #00ff00\">load</span>                                                                          <span style=\"color: #800000; text-decoration-color: #800000\">│</span>\n",
       "<span style=\"color: #800000; text-decoration-color: #800000\">│</span>                                                                                                  <span style=\"color: #800000; text-decoration-color: #800000\">│</span>\n",
       "<span style=\"color: #800000; text-decoration-color: #800000\">│</span>   <span style=\"color: #7f7f7f; text-decoration-color: #7f7f7f\"> 812 </span><span style=\"color: #7f7f7f; text-decoration-color: #7f7f7f\">│   │   │   │   </span><span style=\"color: #0000ff; text-decoration-color: #0000ff\">return</span> _legacy_load(opened_file, map_location, _weights_only_unpickler,   <span style=\"color: #800000; text-decoration-color: #800000\">│</span>\n",
       "<span style=\"color: #800000; text-decoration-color: #800000\">│</span>   <span style=\"color: #7f7f7f; text-decoration-color: #7f7f7f\"> 813 </span><span style=\"color: #7f7f7f; text-decoration-color: #7f7f7f\">│   │   │   </span><span style=\"color: #0000ff; text-decoration-color: #0000ff\">except</span> <span style=\"color: #00ffff; text-decoration-color: #00ffff\">RuntimeError</span> <span style=\"color: #0000ff; text-decoration-color: #0000ff\">as</span> e:                                                     <span style=\"color: #800000; text-decoration-color: #800000\">│</span>\n",
       "<span style=\"color: #800000; text-decoration-color: #800000\">│</span>   <span style=\"color: #7f7f7f; text-decoration-color: #7f7f7f\"> 814 </span><span style=\"color: #7f7f7f; text-decoration-color: #7f7f7f\">│   │   │   │   </span><span style=\"color: #0000ff; text-decoration-color: #0000ff\">raise</span> pickle.UnpicklingError(UNSAFE_MESSAGE + <span style=\"color: #00ffff; text-decoration-color: #00ffff\">str</span>(e)) <span style=\"color: #0000ff; text-decoration-color: #0000ff\">from</span> <span style=\"color: #0000ff; text-decoration-color: #0000ff\">None</span>           <span style=\"color: #800000; text-decoration-color: #800000\">│</span>\n",
       "<span style=\"color: #800000; text-decoration-color: #800000\">│</span> <span style=\"color: #800000; text-decoration-color: #800000\">❱ </span> 815 <span style=\"color: #7f7f7f; text-decoration-color: #7f7f7f\">│   │   </span><span style=\"color: #0000ff; text-decoration-color: #0000ff\">return</span> _legacy_load(opened_file, map_location, pickle_module, **pickle_load_args  <span style=\"color: #800000; text-decoration-color: #800000\">│</span>\n",
       "<span style=\"color: #800000; text-decoration-color: #800000\">│</span>   <span style=\"color: #7f7f7f; text-decoration-color: #7f7f7f\"> 816 </span>                                                                                          <span style=\"color: #800000; text-decoration-color: #800000\">│</span>\n",
       "<span style=\"color: #800000; text-decoration-color: #800000\">│</span>   <span style=\"color: #7f7f7f; text-decoration-color: #7f7f7f\"> 817 </span>                                                                                          <span style=\"color: #800000; text-decoration-color: #800000\">│</span>\n",
       "<span style=\"color: #800000; text-decoration-color: #800000\">│</span>   <span style=\"color: #7f7f7f; text-decoration-color: #7f7f7f\"> 818 # Register pickling support for layout instances such as</span>                                  <span style=\"color: #800000; text-decoration-color: #800000\">│</span>\n",
       "<span style=\"color: #800000; text-decoration-color: #800000\">│</span>                                                                                                  <span style=\"color: #800000; text-decoration-color: #800000\">│</span>\n",
       "<span style=\"color: #800000; text-decoration-color: #800000\">│</span> <span style=\"color: #bfbf7f; text-decoration-color: #bfbf7f\">/is/sg2/pgoyal/Desktop/Projects/mbrl-semantics/mbrl_venv/lib/python3.8/site-packages/torch/</span><span style=\"color: #808000; text-decoration-color: #808000; font-weight: bold\">seria</span> <span style=\"color: #800000; text-decoration-color: #800000\">│</span>\n",
       "<span style=\"color: #800000; text-decoration-color: #800000\">│</span> <span style=\"color: #808000; text-decoration-color: #808000; font-weight: bold\">lization.py</span>:<span style=\"color: #0000ff; text-decoration-color: #0000ff\">1051</span> in <span style=\"color: #00ff00; text-decoration-color: #00ff00\">_legacy_load</span>                                                                 <span style=\"color: #800000; text-decoration-color: #800000\">│</span>\n",
       "<span style=\"color: #800000; text-decoration-color: #800000\">│</span>                                                                                                  <span style=\"color: #800000; text-decoration-color: #800000\">│</span>\n",
       "<span style=\"color: #800000; text-decoration-color: #800000\">│</span>   <span style=\"color: #7f7f7f; text-decoration-color: #7f7f7f\">1048 </span><span style=\"color: #7f7f7f; text-decoration-color: #7f7f7f\">│   </span><span style=\"color: #0000ff; text-decoration-color: #0000ff\">for</span> key <span style=\"color: #ff00ff; text-decoration-color: #ff00ff\">in</span> deserialized_storage_keys:                                                 <span style=\"color: #800000; text-decoration-color: #800000\">│</span>\n",
       "<span style=\"color: #800000; text-decoration-color: #800000\">│</span>   <span style=\"color: #7f7f7f; text-decoration-color: #7f7f7f\">1049 </span><span style=\"color: #7f7f7f; text-decoration-color: #7f7f7f\">│   │   </span><span style=\"color: #0000ff; text-decoration-color: #0000ff\">assert</span> key <span style=\"color: #ff00ff; text-decoration-color: #ff00ff\">in</span> deserialized_objects                                                <span style=\"color: #800000; text-decoration-color: #800000\">│</span>\n",
       "<span style=\"color: #800000; text-decoration-color: #800000\">│</span>   <span style=\"color: #7f7f7f; text-decoration-color: #7f7f7f\">1050 </span><span style=\"color: #7f7f7f; text-decoration-color: #7f7f7f\">│   │   </span>typed_storage = deserialized_objects[key]                                         <span style=\"color: #800000; text-decoration-color: #800000\">│</span>\n",
       "<span style=\"color: #800000; text-decoration-color: #800000\">│</span> <span style=\"color: #800000; text-decoration-color: #800000\">❱ </span>1051 <span style=\"color: #7f7f7f; text-decoration-color: #7f7f7f\">│   │   </span>typed_storage._untyped_storage._set_from_file(                                    <span style=\"color: #800000; text-decoration-color: #800000\">│</span>\n",
       "<span style=\"color: #800000; text-decoration-color: #800000\">│</span>   <span style=\"color: #7f7f7f; text-decoration-color: #7f7f7f\">1052 </span><span style=\"color: #7f7f7f; text-decoration-color: #7f7f7f\">│   │   │   </span>f, offset, f_should_read_directly,                                            <span style=\"color: #800000; text-decoration-color: #800000\">│</span>\n",
       "<span style=\"color: #800000; text-decoration-color: #800000\">│</span>   <span style=\"color: #7f7f7f; text-decoration-color: #7f7f7f\">1053 </span><span style=\"color: #7f7f7f; text-decoration-color: #7f7f7f\">│   │   │   </span>torch._utils._element_size(typed_storage.dtype))                              <span style=\"color: #800000; text-decoration-color: #800000\">│</span>\n",
       "<span style=\"color: #800000; text-decoration-color: #800000\">│</span>   <span style=\"color: #7f7f7f; text-decoration-color: #7f7f7f\">1054 </span><span style=\"color: #7f7f7f; text-decoration-color: #7f7f7f\">│   │   </span><span style=\"color: #0000ff; text-decoration-color: #0000ff\">if</span> offset <span style=\"color: #ff00ff; text-decoration-color: #ff00ff\">is</span> <span style=\"color: #ff00ff; text-decoration-color: #ff00ff\">not</span> <span style=\"color: #0000ff; text-decoration-color: #0000ff\">None</span>:                                                            <span style=\"color: #800000; text-decoration-color: #800000\">│</span>\n",
       "<span style=\"color: #800000; text-decoration-color: #800000\">╰──────────────────────────────────────────────────────────────────────────────────────────────────╯</span>\n",
       "<span style=\"color: #ff0000; text-decoration-color: #ff0000; font-weight: bold\">KeyboardInterrupt</span>\n",
       "</pre>\n"
      ],
      "text/plain": [
       "\u001b[31m╭─\u001b[0m\u001b[31m──────────────────────────────\u001b[0m\u001b[31m \u001b[0m\u001b[1;31mTraceback \u001b[0m\u001b[1;2;31m(most recent call last)\u001b[0m\u001b[31m \u001b[0m\u001b[31m───────────────────────────────\u001b[0m\u001b[31m─╮\u001b[0m\n",
       "\u001b[31m│\u001b[0m in \u001b[92m<module>\u001b[0m:\u001b[94m86\u001b[0m                                                                                   \u001b[31m│\u001b[0m\n",
       "\u001b[31m│\u001b[0m                                                                                                  \u001b[31m│\u001b[0m\n",
       "\u001b[31m│\u001b[0m   \u001b[2m 83 \u001b[0m\u001b[2m│   │   \u001b[0m                                                                                   \u001b[31m│\u001b[0m\n",
       "\u001b[31m│\u001b[0m   \u001b[2m 84 \u001b[0m\u001b[2m│   │   \u001b[0m\u001b[94melse\u001b[0m:                                                                              \u001b[31m│\u001b[0m\n",
       "\u001b[31m│\u001b[0m   \u001b[2m 85 \u001b[0m\u001b[2m│   │   │   \u001b[0m\u001b[94mwith\u001b[0m \u001b[96mopen\u001b[0m(resultpath, \u001b[33m\"\u001b[0m\u001b[33mrb\u001b[0m\u001b[33m\"\u001b[0m) \u001b[94mas\u001b[0m picklefile:                                     \u001b[31m│\u001b[0m\n",
       "\u001b[31m│\u001b[0m \u001b[31m❱ \u001b[0m 86 \u001b[2m│   │   │   │   \u001b[0mresults[model_][invert_grid] = pickle.Unpickler(picklefile).load()         \u001b[31m│\u001b[0m\n",
       "\u001b[31m│\u001b[0m   \u001b[2m 87 \u001b[0m\u001b[2m│   │   │   │   \u001b[0mlogging.info(\u001b[33mf\u001b[0m\u001b[33m\"\u001b[0m\u001b[33m>> \u001b[0m\u001b[33m{\u001b[0mmodel_\u001b[33m:\u001b[0m\u001b[33m19\u001b[0m\u001b[33m}\u001b[0m\u001b[33m | Loaded \u001b[0m\u001b[33m{\u001b[0m\u001b[33m'\u001b[0m\u001b[33minverted \u001b[0m\u001b[33m'\u001b[0m\u001b[90m \u001b[0m\u001b[94mif\u001b[0m\u001b[90m \u001b[0minvert_grid\u001b[90m \u001b[0m\u001b[94melse\u001b[0m\u001b[90m \u001b[0m   \u001b[31m│\u001b[0m\n",
       "\u001b[31m│\u001b[0m   \u001b[2m 88 \u001b[0m\u001b[2m│   │   │   \u001b[0m                                                                               \u001b[31m│\u001b[0m\n",
       "\u001b[31m│\u001b[0m   \u001b[2m 89 \u001b[0m\u001b[2m│   │   │   \u001b[0m\u001b[94mif\u001b[0m invert_grid:                                                                \u001b[31m│\u001b[0m\n",
       "\u001b[31m│\u001b[0m                                                                                                  \u001b[31m│\u001b[0m\n",
       "\u001b[31m│\u001b[0m \u001b[2;33m/is/sg2/pgoyal/Desktop/Projects/mbrl-semantics/mbrl_venv/lib/python3.8/site-packages/torch/\u001b[0m\u001b[1;33mstora\u001b[0m \u001b[31m│\u001b[0m\n",
       "\u001b[31m│\u001b[0m \u001b[1;33mge.py\u001b[0m:\u001b[94m241\u001b[0m in \u001b[92m_load_from_bytes\u001b[0m                                                                    \u001b[31m│\u001b[0m\n",
       "\u001b[31m│\u001b[0m                                                                                                  \u001b[31m│\u001b[0m\n",
       "\u001b[31m│\u001b[0m   \u001b[2m 238 \u001b[0m\u001b[2m│   │   \u001b[0m\u001b[94mreturn\u001b[0m \u001b[96mself\u001b[0m.device.type == \u001b[33m'\u001b[0m\u001b[33mcuda\u001b[0m\u001b[33m'\u001b[0m                                                 \u001b[31m│\u001b[0m\n",
       "\u001b[31m│\u001b[0m   \u001b[2m 239 \u001b[0m                                                                                          \u001b[31m│\u001b[0m\n",
       "\u001b[31m│\u001b[0m   \u001b[2m 240 \u001b[0m\u001b[94mdef\u001b[0m \u001b[92m_load_from_bytes\u001b[0m(b):                                                                  \u001b[31m│\u001b[0m\n",
       "\u001b[31m│\u001b[0m \u001b[31m❱ \u001b[0m 241 \u001b[2m│   \u001b[0m\u001b[94mreturn\u001b[0m torch.load(io.BytesIO(b))                                                      \u001b[31m│\u001b[0m\n",
       "\u001b[31m│\u001b[0m   \u001b[2m 242 \u001b[0m                                                                                          \u001b[31m│\u001b[0m\n",
       "\u001b[31m│\u001b[0m   \u001b[2m 243 \u001b[0m                                                                                          \u001b[31m│\u001b[0m\n",
       "\u001b[31m│\u001b[0m   \u001b[2m 244 \u001b[0m_StorageBase.type = _type  \u001b[2m# type: ignore[assignment]\u001b[0m                                     \u001b[31m│\u001b[0m\n",
       "\u001b[31m│\u001b[0m                                                                                                  \u001b[31m│\u001b[0m\n",
       "\u001b[31m│\u001b[0m \u001b[2;33m/is/sg2/pgoyal/Desktop/Projects/mbrl-semantics/mbrl_venv/lib/python3.8/site-packages/torch/\u001b[0m\u001b[1;33mseria\u001b[0m \u001b[31m│\u001b[0m\n",
       "\u001b[31m│\u001b[0m \u001b[1;33mlization.py\u001b[0m:\u001b[94m815\u001b[0m in \u001b[92mload\u001b[0m                                                                          \u001b[31m│\u001b[0m\n",
       "\u001b[31m│\u001b[0m                                                                                                  \u001b[31m│\u001b[0m\n",
       "\u001b[31m│\u001b[0m   \u001b[2m 812 \u001b[0m\u001b[2m│   │   │   │   \u001b[0m\u001b[94mreturn\u001b[0m _legacy_load(opened_file, map_location, _weights_only_unpickler,   \u001b[31m│\u001b[0m\n",
       "\u001b[31m│\u001b[0m   \u001b[2m 813 \u001b[0m\u001b[2m│   │   │   \u001b[0m\u001b[94mexcept\u001b[0m \u001b[96mRuntimeError\u001b[0m \u001b[94mas\u001b[0m e:                                                     \u001b[31m│\u001b[0m\n",
       "\u001b[31m│\u001b[0m   \u001b[2m 814 \u001b[0m\u001b[2m│   │   │   │   \u001b[0m\u001b[94mraise\u001b[0m pickle.UnpicklingError(UNSAFE_MESSAGE + \u001b[96mstr\u001b[0m(e)) \u001b[94mfrom\u001b[0m \u001b[94mNone\u001b[0m           \u001b[31m│\u001b[0m\n",
       "\u001b[31m│\u001b[0m \u001b[31m❱ \u001b[0m 815 \u001b[2m│   │   \u001b[0m\u001b[94mreturn\u001b[0m _legacy_load(opened_file, map_location, pickle_module, **pickle_load_args  \u001b[31m│\u001b[0m\n",
       "\u001b[31m│\u001b[0m   \u001b[2m 816 \u001b[0m                                                                                          \u001b[31m│\u001b[0m\n",
       "\u001b[31m│\u001b[0m   \u001b[2m 817 \u001b[0m                                                                                          \u001b[31m│\u001b[0m\n",
       "\u001b[31m│\u001b[0m   \u001b[2m 818 \u001b[0m\u001b[2m# Register pickling support for layout instances such as\u001b[0m                                  \u001b[31m│\u001b[0m\n",
       "\u001b[31m│\u001b[0m                                                                                                  \u001b[31m│\u001b[0m\n",
       "\u001b[31m│\u001b[0m \u001b[2;33m/is/sg2/pgoyal/Desktop/Projects/mbrl-semantics/mbrl_venv/lib/python3.8/site-packages/torch/\u001b[0m\u001b[1;33mseria\u001b[0m \u001b[31m│\u001b[0m\n",
       "\u001b[31m│\u001b[0m \u001b[1;33mlization.py\u001b[0m:\u001b[94m1051\u001b[0m in \u001b[92m_legacy_load\u001b[0m                                                                 \u001b[31m│\u001b[0m\n",
       "\u001b[31m│\u001b[0m                                                                                                  \u001b[31m│\u001b[0m\n",
       "\u001b[31m│\u001b[0m   \u001b[2m1048 \u001b[0m\u001b[2m│   \u001b[0m\u001b[94mfor\u001b[0m key \u001b[95min\u001b[0m deserialized_storage_keys:                                                 \u001b[31m│\u001b[0m\n",
       "\u001b[31m│\u001b[0m   \u001b[2m1049 \u001b[0m\u001b[2m│   │   \u001b[0m\u001b[94massert\u001b[0m key \u001b[95min\u001b[0m deserialized_objects                                                \u001b[31m│\u001b[0m\n",
       "\u001b[31m│\u001b[0m   \u001b[2m1050 \u001b[0m\u001b[2m│   │   \u001b[0mtyped_storage = deserialized_objects[key]                                         \u001b[31m│\u001b[0m\n",
       "\u001b[31m│\u001b[0m \u001b[31m❱ \u001b[0m1051 \u001b[2m│   │   \u001b[0mtyped_storage._untyped_storage._set_from_file(                                    \u001b[31m│\u001b[0m\n",
       "\u001b[31m│\u001b[0m   \u001b[2m1052 \u001b[0m\u001b[2m│   │   │   \u001b[0mf, offset, f_should_read_directly,                                            \u001b[31m│\u001b[0m\n",
       "\u001b[31m│\u001b[0m   \u001b[2m1053 \u001b[0m\u001b[2m│   │   │   \u001b[0mtorch._utils._element_size(typed_storage.dtype))                              \u001b[31m│\u001b[0m\n",
       "\u001b[31m│\u001b[0m   \u001b[2m1054 \u001b[0m\u001b[2m│   │   \u001b[0m\u001b[94mif\u001b[0m offset \u001b[95mis\u001b[0m \u001b[95mnot\u001b[0m \u001b[94mNone\u001b[0m:                                                            \u001b[31m│\u001b[0m\n",
       "\u001b[31m╰──────────────────────────────────────────────────────────────────────────────────────────────────╯\u001b[0m\n",
       "\u001b[1;91mKeyboardInterrupt\u001b[0m\n"
      ]
     },
     "metadata": {},
     "output_type": "display_data"
    }
   ],
   "source": [
    "results = dict()\n",
    "times = dict()\n",
    "preprocess_times = dict()\n",
    "tokenize_times = dict()\n",
    "\n",
    "for model_ in models_:\n",
    "    if device == \"cuda\":\n",
    "        # Empty cache and collect garbage\n",
    "        torch.cuda.empty_cache()\n",
    "        gc.collect()\n",
    "        torch.cuda.memory_summary(\"cuda\", abbreviated=True)\n",
    "\n",
    "    print(model_)\n",
    "    model, preprocess = clip.load(model_, device=device)\n",
    "\n",
    "    results[model_] = dict()\n",
    "    times[model_] = dict()\n",
    "    preprocess_times[model_] = list()\n",
    "    tokenize_times[model_] = dict()\n",
    "\n",
    "    # model.eval()\n",
    "    for invert_grid in (False, True):\n",
    "        results[model_][invert_grid] = []\n",
    "\n",
    "        results_file = f\"results_{grid_width}_{grid_height}_{gridcell_size}_{invert_grid}_{render_w_grid}_{render_type}_clip={model_.replace('/', '-')}_{label_prefix.replace(' ', '-')}+NA{id}+{seed}.pickle\"\n",
    "\n",
    "        timespath = f\"results/{target + '/' if target else ''}{category}\" / prefix / f\"times_{grid_width}_{grid_height}_{gridcell_size}_{invert_grid}_{render_w_grid}_{render_type}_clip={model_.replace('/', '-')}_{label_prefix.replace(' ', '-')}+NA{id}+{seed}.pickle\"\n",
    "        preprocess_timespath = f\"results/{target + '/' if target else ''}{category}\" / prefix / f\"preprocess_times_{grid_width}_{grid_height}_{gridcell_size}_{invert_grid}_{render_w_grid}_{render_type}_clip={model_.replace('/', '-')}_{label_prefix.replace(' ', '-')}+NA{id}+{seed}.pickle\"\n",
    "        tokenize_timespath = f\"results/{target + '/' if target else ''}{category}\" / prefix / f\"tokenize_times_{grid_width}_{grid_height}_{gridcell_size}_{invert_grid}_{render_w_grid}_{render_type}_clip={model_.replace('/', '-')}_{label_prefix.replace(' ', '-')}+NA{id}+{seed}.pickle\"\n",
    "\n",
    "        if not (resultpath :=  f\"results/{target + '/' if target else ''}{category}\" / prefix / results_file).is_file() or overwrite:\n",
    "            start = time()\n",
    "            image = preprocess(file.get_grid_image(invert=invert_grid)).unsqueeze(0).to(device)\n",
    "            preprocess_times[model_].append(time() - start)\n",
    "\n",
    "            for categories in (pbar := tqdm(comb_categories)):\n",
    "                pbar.set_description(f\"{model_:19}{' | inverted' if invert_grid else ''} | Alphabets | #(categories) = {len(categories):2}\")\n",
    "                if len(categories) not in tokenize_times[model_]:\n",
    "                    tokenize_times[model_][len(categories)] = []\n",
    "                start = time()\n",
    "                text = clip.tokenize([f\"{label_prefix} {label}\" for label in categories]).to(device)\n",
    "                tokenize_times[model_][len(categories)].append(time() - start)\n",
    "\n",
    "                if len(categories) not in times[model_]:\n",
    "                    times[model_][len(categories)] = []\n",
    "                start = time()\n",
    "                with torch.no_grad():\n",
    "                    logits_per_image, logits_per_text = model(image, text)\n",
    "                    probs = logits_per_image.softmax(dim=-1)\n",
    "                    times[model_][len(categories)].append(time() - start)\n",
    "                    results[model_][invert_grid].append(dict(zip(categories, probs.squeeze())))\n",
    "\n",
    "            for i in (pbar := tqdm(range(5, len(C['objects'])))):\n",
    "                pbar.set_description(f\"{model_:19}{' | inverted' if invert_grid else ''} | Objects   | #(categories) = {i:2}\")\n",
    "                for categories in tqdm(combinations_(C['objects'], i), total=comb_(len(C['objects']), i), desc='>', leave=False):\n",
    "                    if len(categories) not in tokenize_times[model_]:\n",
    "                        tokenize_times[model_][len(categories)] = []\n",
    "                    start = time()\n",
    "                    text = clip.tokenize([f\"{label_prefix} {label}\" for label in categories]).to(device)\n",
    "                    tokenize_times[model_][len(categories)].append(time() - start)\n",
    "\n",
    "                    if len(categories) not in times[model_]:\n",
    "                        times[model_][len(categories)] = []\n",
    "                    start = time()\n",
    "                    with torch.no_grad():\n",
    "                        logits_per_image, logits_per_text = model(image, text)\n",
    "                        probs = logits_per_image.softmax(dim=-1)\n",
    "                        times[model_][len(categories)].append(time() - start)\n",
    "                        results[model_][invert_grid].append(dict(zip(categories, probs.squeeze())))\n",
    "\n",
    "            resultpath.parent.mkdir(parents=True, exist_ok=True)\n",
    "            with open(resultpath, \"wb\") as picklefile:\n",
    "                logging.info(f\">> {model_:19} | Saving {'inverted ' if invert_grid else ''}results @ file://{resultpath.resolve()}.\")\n",
    "                pickle.dump(results[model_][invert_grid], picklefile)\n",
    "\n",
    "            if invert_grid:\n",
    "                with open(timespath, \"wb\") as picklefile:\n",
    "                    logging.info(f\">> {model_:19} | Saving inference times @ file://{timespath.resolve()}.\")\n",
    "                    pickle.dump(times[model_], picklefile)\n",
    "\n",
    "                with open(preprocess_timespath, \"wb\") as picklefile:\n",
    "                    logging.info(f\">> {model_:19} | Saving preprocessing times @ file://{preprocess_timespath.resolve()}.\")\n",
    "                    pickle.dump(preprocess_times[model_], picklefile)\n",
    "\n",
    "                with open(tokenize_timespath, \"wb\") as picklefile:\n",
    "                    logging.info(f\">> {model_:19} | Saving tokenize times @ file://{tokenize_timespath.resolve()}.\")\n",
    "                    pickle.dump(tokenize_times[model_], picklefile)\n",
    "\n",
    "        else:\n",
    "            with open(resultpath, \"rb\") as picklefile:\n",
    "                results[model_][invert_grid] = pickle.Unpickler(picklefile).load()\n",
    "                logging.info(f\">> {model_:19} | Loaded {'inverted ' if invert_grid else ''}results @ file://{resultpath.resolve()}.\")\n",
    "\n",
    "            if invert_grid:\n",
    "                with open(timespath, \"rb\") as picklefile:\n",
    "                    times[model_] = pickle.Unpickler(picklefile).load()\n",
    "                    logging.info(f\">> {model_:19} | Loaded inference times @ file://{timespath.resolve()}.\")\n",
    "\n",
    "                with open(preprocess_timespath, \"rb\") as picklefile:\n",
    "                    preprocess_times[model_] = pickle.Unpickler(picklefile).load()\n",
    "                    logging.info(f\">> {model_:19} | Loaded preprocessing times @ file://{preprocess_timespath.resolve()}.\")\n",
    "\n",
    "                with open(tokenize_timespath, \"rb\") as picklefile:\n",
    "                    tokenize_times[model_] = pickle.Unpickler(picklefile).load()\n",
    "                    logging.info(f\">> {model_:19} | Loaded tokenize times @ file://{tokenize_timespath.resolve()}.\")"
   ]
  },
  {
   "cell_type": "markdown",
   "id": "ccb63954-8ccc-42d6-8c69-1e49fdc5d466",
   "metadata": {
    "jp-MarkdownHeadingCollapsed": true
   },
   "source": [
    "### Plots"
   ]
  },
  {
   "cell_type": "code",
   "execution_count": null,
   "id": "e051c0e0-66cf-4cb5-8f84-fc4e341ffacc",
   "metadata": {},
   "outputs": [],
   "source": [
    "for model_ in models_:\n",
    "    print(f'{model_:<19} {1000 * np.mean(preprocess_times[model_]):.3f} ms')"
   ]
  },
  {
   "cell_type": "code",
   "execution_count": null,
   "id": "b9d501fb-32a4-418a-983c-9b153bfc72d1",
   "metadata": {},
   "outputs": [],
   "source": [
    "fig, axs = plt.subplots(1, 2, figsize=(15, 5), sharey=False, sharex=True)\n",
    "\n",
    "# fig, axs = plt.subplots(1, 1, figsize=(15, 5), sharey=False, sharex=True)\n",
    "# axs = [axs]\n",
    "\n",
    "for model_ in models_:\n",
    "    times_m = times[model_]\n",
    "    tokenize_times_m = tokenize_times[model_]\n",
    "\n",
    "    times_ = dict()\n",
    "    for ncat in dict(sorted(times_m.items())):\n",
    "        times_[ncat] = np.mean(times_m[ncat])\n",
    "\n",
    "    tokenize_times_ = dict()\n",
    "    for ncat in dict(sorted(tokenize_times_m.items())):\n",
    "        tokenize_times_[ncat] = np.mean(tokenize_times_m[ncat])\n",
    "\n",
    "    axs[0].scatter(*np.array([[t, v] for t, vs in times_m.items() for v in vs]).T, s=0.1)\n",
    "    axs[0].plot(times_.keys(), times_.values(), label=model_)\n",
    "\n",
    "    axs[1].scatter(*np.array([[t, 1000 * v] for t, vs in tokenize_times_m.items() for v in vs]).T, s=1)\n",
    "    axs[1].plot(tokenize_times_.keys(), 1000 * np.array(list(tokenize_times_.values())), label=model_)\n",
    "\n",
    "axs[0].set_ylim([0, 0.4])\n",
    "axs[0].xaxis.set_major_locator(MultipleLocator(5))\n",
    "axs[0].xaxis.set_major_formatter('{x:.0f}')\n",
    "axs[0].xaxis.set_minor_locator(MultipleLocator(1))\n",
    "axs[0].set_ylabel('Time (s)')\n",
    "axs[0].set_xlabel('Number of Labels')\n",
    "axs[0].set_title(f'Inference times for different CLIP models on {\"CPU\" if device == \"CPU\" else \"GPU\"}')\n",
    "handles, labels = axs[0].get_legend_handles_labels()\n",
    "axs[0].legend(reversed(handles), reversed(labels), loc='upper left')\n",
    "\n",
    "axs[1].set_ylim([0, 20])\n",
    "axs[1].yaxis.set_tick_params(labelleft=True)\n",
    "axs[1].xaxis.set_major_locator(MultipleLocator(5))\n",
    "axs[1].xaxis.set_major_formatter('{x:.0f}')\n",
    "axs[1].xaxis.set_minor_locator(MultipleLocator(1))\n",
    "axs[1].set_ylabel('Time (ms)')\n",
    "axs[1].set_xlabel('Number of Labels')\n",
    "axs[1].set_title(f'Tokenize times for different CLIP models')\n",
    "# axs[1].legend()\n",
    "\n",
    "plt.tight_layout()"
   ]
  },
  {
   "cell_type": "markdown",
   "id": "f83d29a8-fb5a-4e1c-878e-7f6a10bee458",
   "metadata": {
    "jp-MarkdownHeadingCollapsed": true
   },
   "source": [
    "### Combination selection per model"
   ]
  },
  {
   "cell_type": "code",
   "execution_count": null,
   "id": "8603f4c3-4405-47e2-a6fd-8e5c1a0bf933",
   "metadata": {},
   "outputs": [],
   "source": [
    "ENTROPY_THRESHOLD = 0.90  # 0.999"
   ]
  },
  {
   "cell_type": "code",
   "execution_count": null,
   "id": "e2a438f8-2f4e-4202-a3d1-3640a4bfd586",
   "metadata": {},
   "outputs": [],
   "source": [
    "# calc_entropy = lambda l: -np.array(list(l)) @ np.log(list(l)) / np.log(len(l))\n",
    "calc_entropy = lambda l: -(l := np.array(torch.tensor(list(l)).cpu())) @ np.log(l) / np.log(len(l))"
   ]
  },
  {
   "cell_type": "markdown",
   "id": "e7ee8941-9ccb-4170-b06b-05db698df51d",
   "metadata": {},
   "source": [
    "---"
   ]
  },
  {
   "cell_type": "code",
   "execution_count": null,
   "id": "c8778d7b-3d3c-4be8-8717-d612196fce0d",
   "metadata": {},
   "outputs": [],
   "source": [
    "entropy_ratios = {model_: {invert_grid: [calc_entropy(result.values()) for result in results[model_][invert_grid]] for invert_grid in (False, True)} for model_ in models_}"
   ]
  },
  {
   "cell_type": "code",
   "execution_count": null,
   "id": "2a91ce2c-5028-49f9-80c3-ef75a20b6673",
   "metadata": {},
   "outputs": [],
   "source": [
    "selected_categories = {model_: {invert_grid: {tuple(categories.keys()) for entropy_ratio, categories in zip(entropy_ratios[model_][invert_grid], results[model_][invert_grid]) if entropy_ratio > ENTROPY_THRESHOLD} for invert_grid in (False, True)} for model_ in models_}"
   ]
  },
  {
   "cell_type": "code",
   "execution_count": null,
   "id": "f4d60bd6-fde0-4f5c-8b60-1af5bea5a926",
   "metadata": {
    "scrolled": true
   },
   "outputs": [],
   "source": [
    "selected_categories"
   ]
  },
  {
   "cell_type": "markdown",
   "id": "ebfe62af-84bd-43ec-bcb4-05b84789ef65",
   "metadata": {},
   "source": [
    "---"
   ]
  },
  {
   "cell_type": "code",
   "execution_count": 28,
   "id": "37acc274-d866-4450-9c0e-7a8bb3e31eac",
   "metadata": {},
   "outputs": [],
   "source": [
    "models__ = ['RN50', 'RN101', 'RN50x4', 'RN50x16', 'ViT-B/32', 'ViT-B/16', 'ViT-L/14'][::-1]"
   ]
  },
  {
   "cell_type": "code",
   "execution_count": null,
   "id": "6563c2bf-a8fe-4988-be8d-e3086ea7e3e9",
   "metadata": {
    "scrolled": true
   },
   "outputs": [],
   "source": [
    "{model_: {i: k for i, d in times[model_].items() if (k := np.mean(d)) < 1 and i > 9} for model_ in models_ if model_ not in models__}"
   ]
  },
  {
   "cell_type": "code",
   "execution_count": null,
   "id": "59986ee3-1b45-4fc2-b94d-e7e790742c47",
   "metadata": {},
   "outputs": [],
   "source": [
    "# TOTAL - 1,125.899909210013E+12\n",
    "for model_ in models_:\n",
    "    print(f'{model_:19} {str(False):10} {len(selected_categories[model_][False])}')\n",
    "    print(f'{\"\":19} {str(True):10} {len(selected_categories[model_][True])}')"
   ]
  },
  {
   "cell_type": "markdown",
   "id": "db65eef5-fa7f-475c-afa9-5a8da7669b2a",
   "metadata": {},
   "source": [
    "## Rollouts"
   ]
  },
  {
   "cell_type": "code",
   "execution_count": 28,
   "id": "65d2d173-cc7e-4b91-a91c-4ad678e4746c",
   "metadata": {},
   "outputs": [],
   "source": [
    "models__ = ['RN50x16', 'ViT-L/14']"
   ]
  },
  {
   "cell_type": "code",
   "execution_count": 29,
   "id": "857afada-725b-43dc-973e-37e590ac2206",
   "metadata": {},
   "outputs": [
    {
     "data": {
      "text/html": [
       "<pre style=\"white-space:pre;overflow-x:auto;line-height:normal;font-family:Menlo,'DejaVu Sans Mono',consolas,'Courier New',monospace\"></pre>\n"
      ],
      "text/plain": []
     },
     "metadata": {},
     "output_type": "display_data"
    },
    {
     "data": {
      "text/plain": [
       "\u001b[32m'Tue Sep 26 02:46:19 2023'\u001b[0m"
      ]
     },
     "execution_count": 29,
     "metadata": {},
     "output_type": "execute_result"
    }
   ],
   "source": [
    "ctime()"
   ]
  },
  {
   "cell_type": "markdown",
   "id": "be3f4ecb-f32e-456b-a584-23ff050d7308",
   "metadata": {
    "jp-MarkdownHeadingCollapsed": true
   },
   "source": [
    "### Random"
   ]
  },
  {
   "cell_type": "markdown",
   "id": "4f564924-8119-4383-876a-f9609302c387",
   "metadata": {},
   "source": [
    "> Run rollout for the selected categories with corresponding inversion"
   ]
  },
  {
   "cell_type": "raw",
   "id": "fdf61679-709d-470c-b56d-903243e3f11f",
   "metadata": {
    "scrolled": true
   },
   "source": [
    "for model_ in tqdm(models__):\n",
    "    model, preprocess = clip.load(model_, device=device)\n",
    "    for invert_grid in (False, True):\n",
    "        for categories in tqdm(selected_categories[model_][invert_grid], desc=f'{model_} {invert}'):\n",
    "            logging.info(f\"{invert_grid=} | {categories}\")\n",
    "            test.rollout(file_name,\n",
    "                         category=category,\n",
    "                         base_dir=base_dir,\n",
    "                         image=file.get_grid_image(),\n",
    "                         categories=categories,\n",
    "                         label_prefix=label_prefix,\n",
    "                         gridcell_size=gridcell_size,\n",
    "                         grid_width=grid_width,\n",
    "                         grid_height=grid_height,\n",
    "                         threshold_ratio=threshold_ratio,\n",
    "                         convert=convert,\n",
    "                         invert=invert,\n",
    "                         skeleton=skeleton,\n",
    "                         invert_grid=invert_grid,\n",
    "                         render_w_grid=render_w_grid,\n",
    "                         render_type=render_type,\n",
    "                         seed=seed,\n",
    "                         overwrite=True,\n",
    "                         # overwrite_plot=overwrite_plot,\n",
    "                         # overwrite_animation=overwrite_animation,\n",
    "                         model_name=model_name,\n",
    "                         model_version=model_,\n",
    "                         model_=(model, preprocess),\n",
    "                         device=device,\n",
    "                         frames=frames,\n",
    "                         interval=interval,\n",
    "                         target=f\"{target}_{model_.replace('/', '-')}\")"
   ]
  },
  {
   "cell_type": "code",
   "execution_count": 29,
   "id": "e94ebd1d-295d-4856-b965-3dd4d7dd4f06",
   "metadata": {},
   "outputs": [
    {
     "data": {
      "text/html": [
       "<pre style=\"white-space:pre;overflow-x:auto;line-height:normal;font-family:Menlo,'DejaVu Sans Mono',consolas,'Courier New',monospace\"></pre>\n"
      ],
      "text/plain": []
     },
     "metadata": {},
     "output_type": "display_data"
    },
    {
     "data": {
      "text/plain": [
       "\u001b[32m'Tue Sep 26 02:08:36 2023'\u001b[0m"
      ]
     },
     "execution_count": 29,
     "metadata": {},
     "output_type": "execute_result"
    }
   ],
   "source": [
    "ctime()"
   ]
  },
  {
   "cell_type": "markdown",
   "id": "58946d57-f920-42d2-ba69-e21866878463",
   "metadata": {},
   "source": [
    "### 0"
   ]
  },
  {
   "cell_type": "markdown",
   "id": "ed7670a3-0030-4dc3-9861-ae250441410c",
   "metadata": {},
   "source": [
    "> Run rollout for the main combinations of categories on an actual image (mnist/0)"
   ]
  },
  {
   "cell_type": "code",
   "execution_count": null,
   "id": "f27cba39-ed8f-412e-8576-207ec8e15add",
   "metadata": {},
   "outputs": [
    {
     "data": {
      "application/vnd.jupyter.widget-view+json": {
       "model_id": "91878d5a8c894359bf83c7a3932ad077",
       "version_major": 2,
       "version_minor": 0
      },
      "text/plain": [
       "  0%|          | 0/2 [00:00<?, ?it/s]"
      ]
     },
     "metadata": {},
     "output_type": "display_data"
    },
    {
     "data": {
      "application/vnd.jupyter.widget-view+json": {
       "model_id": "cc5c549b78d84f0ea145c2a3d2a3c778",
       "version_major": 2,
       "version_minor": 0
      },
      "text/plain": [
       "RN50x16 False:   0%|          | 0/6 [00:00<?, ?it/s]"
      ]
     },
     "metadata": {},
     "output_type": "display_data"
    },
    {
     "name": "stderr",
     "output_type": "stream",
     "text": [
      "INFO:root:invert_grid=False | ['number 0', 'number 1', 'number 2', 'number 3', 'number 4', 'number 5', 'number 6', 'number 7', 'number 8', 'number 9']\n",
      "INFO:test:>>>>>>>>>>>>>>>>>>>>>>>>>>>>>>>>>>>>>>>>>>>>>>>>>>>>>>>>>>>>>>>>>>>>>>>>>>>>>>>>>>>>>>>>>>>>>>>>>>>>>>>>>>>>>>>>>>>>>>>>>>>>>>>>>>>>>>>>>>>>>>>>>>>>>>>>>>>>>>>>>>>>>>>>>>>>>>>>>>>>>>>>>>>>>>>>>>>>>>>>>>>>>>>>>>>>>>>>>>>>>>>>>>>>>>>>>>>>>>>>>>>>>>>>>>>>>>>>>>>>>>>>>>>>>>>>>>>>>>>>>>>>>>>>>>>>>>>\n",
      "DEBUG:test:> base_dir='data/mnist'\n",
      "DEBUG:test:> model_name='clip' @ model_version='RN50x16'\n",
      "DEBUG:test:> category='0' / file_name='1001.png' ('1') (skeleton) (\"'sketch of' ...number 0?\")\n",
      "DEBUG:test:> categories=['number 0', 'number 1', 'number 2', 'number 3', 'number 4', 'number 5', 'number 6', 'number 7', 'number 8', 'number 9']\n",
      "DEBUG:test:> grid ~ [28 x 28] * 8 > threshold_ratio=0.0\n",
      "DEBUG:test:> invert_grid=False\n",
      "DEBUG:test:> render_w_grid=False\n",
      "DEBUG:test:> render_type='circles'\n",
      "DEBUG:test:> seed=5\n",
      "DEBUG:test:> overwrite=True ; overwrite_plot=True | overwrite_animation=True\n",
      "DEBUG:test:> kwargs={'convert': '1', 'invert': False, 'skeleton': True, 'target': 'combinations_cuda_RN50x16'}\n",
      "DEBUG:test:------------------------------------------------------------------------------------------------------------------------------------------------------------------------------------------------------------------------------------------------------------------------------------------------------\n",
      "DEBUG:test:> GPU Selected; Clearing cache and collecting garbage.\n",
      "DEBUG:test:> Model loading to cuda successful.\n",
      "CRITICAL:imagelib:`skimage.morphology.skeletonize()` crashes with segmentation fault for binary images. Using grayscale instead.\n",
      "DEBUG:test:> Pre-processing images...\n"
     ]
    },
    {
     "data": {
      "application/vnd.jupyter.widget-view+json": {
       "model_id": "bba38f490b854a9db39cc7fa689d854a",
       "version_major": 2,
       "version_minor": 0
      },
      "text/plain": [
       "> Pre-processing images...:   0%|          | 0/1000 [00:00<?, ?it/s]"
      ]
     },
     "metadata": {},
     "output_type": "display_data"
    },
    {
     "name": "stderr",
     "output_type": "stream",
     "text": [
      "DEBUG:test:>> Saved pre-processed images @ file:///is/sg2/pgoyal/Desktop/Projects/mbrl-semantics/mbrl/environments/data/mnist/0/1001/pre-processed_28_28_8_False_False_circles.\n",
      "DEBUG:test:>> Saved processed images @ file:///is/sg2/pgoyal/Desktop/Projects/mbrl-semantics/mbrl/environments/data/mnist/0/1001/processed_28_28_8_False_False_circles_clip=RN50x16.\n",
      "DEBUG:test:>> Saved meta data @ file:///is/sg2/pgoyal/Desktop/Projects/mbrl-semantics/mbrl/environments/data/mnist/0/1001/pre-processed_28_28_8_False_False_circles/meta.pickle.\n",
      "DEBUG:test:> Pre-processing labels...\n",
      "DEBUG:test:> Running inference on clip=RN50x16 model ...\n"
     ]
    },
    {
     "data": {
      "application/vnd.jupyter.widget-view+json": {
       "model_id": "0d4f152d6a2b42c8a4f8e3d96dd360be",
       "version_major": 2,
       "version_minor": 0
      },
      "text/plain": [
       "> Running Inference...:   0%|          | 0/1000 [00:00<?, ?it/s]"
      ]
     },
     "metadata": {},
     "output_type": "display_data"
    },
    {
     "name": "stderr",
     "output_type": "stream",
     "text": [
      "DEBUG:test:>> Saving results @ file:///is/sg2/pgoyal/Desktop/Projects/mbrl-semantics/mbrl/environments/data/mnist/0/1001/results/results_28_28_8_False_False_circles_clip=RN50x16_sketch-of+number 0_number 1_nu++89+5_1000.pickle.\n",
      "INFO:test:> For the original file, entropy/max_entropy=0.95, and entropy/grid_entropy=1.01\n",
      "DEBUG:test:> Plotting results...\n",
      "DEBUG:test:>> Saved plot @ file:///is/sg2/pgoyal/Desktop/Projects/mbrl-semantics/mbrl/environments/results/combinations_cuda_RN50x16/0/plot_1001_28_28_8_False_False_circles_clip=RN50x16_sketch-of+number 0_number 1_nu++89+5_1000.png.\n",
      "DEBUG:test:> Creating animation with interval 50 ms.\n",
      "DEBUG:test:>> Saved animation @ file:///is/sg2/pgoyal/Desktop/Projects/mbrl-semantics/mbrl/environments/results/combinations_cuda_RN50x16/0/animation_1001_28_28_8_False_False_circles_clip=RN50x16_sketch-of+number 0_number 1_nu++89+5_1000_50.mp4.\n",
      "INFO:test:>>~Done~>>>>>>>>>>>>>>>>>>>>>>>>>>>>>>>>>>>>>>>>>>>>>>>>>>>>>>>>>>>>>>>>>>>>>>>>>>>>>>>>>>>>>>>>>>>>>>>>>>>>>>>>>>>>>>>>>>>>>>>>>>>>>>>>>>>>>>>>>>>>>>>>>>>>>>>>>>>>>>>>>>>>>>>>>>>>>>>>>>>>>>>>>>>>>>>>>>>>>>>>>>>>>>>>>>>>>>>>>>>>>>>>>>>>>>>>>>>>>>>>>>>>>>>>>>>>>>>>>>>>>>>>>>>>>>>>>>>>>>>>>>>>>>>\n",
      "\n",
      "INFO:root:invert_grid=False | ['letter A', 'letter B', 'letter C', 'letter D', 'letter E', 'letter F', 'letter G', 'letter H', 'letter I', 'letter J', 'letter K', 'letter L', 'letter M', 'letter N', 'letter O', 'letter P', 'letter Q', 'letter R', 'letter S', 'letter T', 'letter U', 'letter V', 'letter W', 'letter X', 'letter Y', 'letter Z']\n",
      "INFO:test:>>>>>>>>>>>>>>>>>>>>>>>>>>>>>>>>>>>>>>>>>>>>>>>>>>>>>>>>>>>>>>>>>>>>>>>>>>>>>>>>>>>>>>>>>>>>>>>>>>>>>>>>>>>>>>>>>>>>>>>>>>>>>>>>>>>>>>>>>>>>>>>>>>>>>>>>>>>>>>>>>>>>>>>>>>>>>>>>>>>>>>>>>>>>>>>>>>>>>>>>>>>>>>>>>>>>>>>>>>>>>>>>>>>>>>>>>>>>>>>>>>>>>>>>>>>>>>>>>>>>>>>>>>>>>>>>>>>>>>>>>>>>>>>>>>>>>>>\n",
      "DEBUG:test:> base_dir='data/mnist'\n",
      "DEBUG:test:> model_name='clip' @ model_version='RN50x16'\n",
      "DEBUG:test:> category='0' / file_name='1001.png' ('1') (skeleton) (\"'sketch of' ...letter A?\")\n",
      "DEBUG:test:> categories=['letter A', 'letter B', 'letter C', 'letter D', 'letter E', 'letter F', 'letter G', 'letter H', 'letter I', 'letter J', 'letter K', 'letter L', 'letter M', 'letter N', 'letter O', 'letter P', 'letter Q', 'letter R', 'letter S', 'letter T', 'letter U', 'letter V', 'letter W', 'letter X', 'letter Y', 'letter Z']\n",
      "DEBUG:test:> grid ~ [28 x 28] * 8 > threshold_ratio=0.0\n",
      "DEBUG:test:> invert_grid=False\n",
      "DEBUG:test:> render_w_grid=False\n",
      "DEBUG:test:> render_type='circles'\n",
      "DEBUG:test:> seed=5\n",
      "DEBUG:test:> overwrite=True ; overwrite_plot=True | overwrite_animation=True\n",
      "DEBUG:test:> kwargs={'convert': '1', 'invert': False, 'skeleton': True, 'target': 'combinations_cuda_RN50x16'}\n",
      "DEBUG:test:------------------------------------------------------------------------------------------------------------------------------------------------------------------------------------------------------------------------------------------------------------------------------------------------------\n",
      "DEBUG:test:> GPU Selected; Clearing cache and collecting garbage.\n",
      "DEBUG:test:> Model loading to cuda successful.\n",
      "CRITICAL:imagelib:`skimage.morphology.skeletonize()` crashes with segmentation fault for binary images. Using grayscale instead.\n",
      "DEBUG:test:> Pre-processing images...\n"
     ]
    },
    {
     "data": {
      "application/vnd.jupyter.widget-view+json": {
       "model_id": "804da503c77549fe97b5af024478c140",
       "version_major": 2,
       "version_minor": 0
      },
      "text/plain": [
       "> Pre-processing images...:   0%|          | 0/1000 [00:00<?, ?it/s]"
      ]
     },
     "metadata": {},
     "output_type": "display_data"
    }
   ],
   "source": [
    "for model_ in tqdm(models__):\n",
    "    model, preprocess = clip.load(model_, device=device)\n",
    "    for invert_grid in (False, True):\n",
    "        for categories in tqdm(comb_categories, desc=f'{model_} {invert}'):\n",
    "            logging.info(f\"{invert_grid=} | {categories}\")\n",
    "            test.rollout('1001.png',\n",
    "                         category='0',\n",
    "                         base_dir='data/mnist',\n",
    "                         categories=categories,\n",
    "                         label_prefix=label_prefix,\n",
    "                         gridcell_size=gridcell_size,\n",
    "                         grid_width=grid_width,\n",
    "                         grid_height=grid_height,\n",
    "                         threshold_ratio=threshold_ratio,\n",
    "                         convert=convert,\n",
    "                         invert=invert,\n",
    "                         skeleton=True,\n",
    "                         invert_grid=invert_grid,\n",
    "                         render_w_grid=render_w_grid,\n",
    "                         render_type=render_type,\n",
    "                         seed=seed,\n",
    "                         overwrite=True,\n",
    "                         # overwrite_plot=overwrite_plot,\n",
    "                         # overwrite_animation=overwrite_animation,\n",
    "                         model_name=model_name,\n",
    "                         model_version=model_,\n",
    "                         model_=(model, preprocess),\n",
    "                         device=device,\n",
    "                         frames=frames,\n",
    "                         interval=interval,\n",
    "                         target=f\"{target}_{model_.replace('/', '-')}\")"
   ]
  },
  {
   "cell_type": "code",
   "execution_count": null,
   "id": "2421d9d4-374b-422f-9c3b-d0a09dd65785",
   "metadata": {},
   "outputs": [],
   "source": [
    "ctime()"
   ]
  },
  {
   "cell_type": "code",
   "execution_count": null,
   "id": "0775e079-c8b5-44aa-81a8-ea2c7104d101",
   "metadata": {},
   "outputs": [],
   "source": []
  }
 ],
 "metadata": {
  "kernelspec": {
   "display_name": "Python 3 (ipykernel)",
   "language": "python",
   "name": "python3"
  },
  "language_info": {
   "codemirror_mode": {
    "name": "ipython",
    "version": 3
   },
   "file_extension": ".py",
   "mimetype": "text/x-python",
   "name": "python",
   "nbconvert_exporter": "python",
   "pygments_lexer": "ipython3",
   "version": "3.8.10"
  }
 },
 "nbformat": 4,
 "nbformat_minor": 5
}
