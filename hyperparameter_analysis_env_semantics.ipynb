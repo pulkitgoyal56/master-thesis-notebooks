{
 "cells": [
  {
   "cell_type": "code",
   "execution_count": 1,
   "metadata": {},
   "outputs": [],
   "source": [
    "import os\n",
    "from pathlib import Path\n",
    "\n",
    "from glob import glob\n",
    "import pickle\n",
    "\n",
    "import numpy as np\n",
    "import matplotlib.pyplot as plt\n",
    "\n",
    "import pandas as pd\n",
    "import seaborn as sns\n",
    "\n",
    "# import torch\n",
    "# import clip\n",
    "\n",
    "from ipywidgets import interact, widgets\n",
    "from tqdm.notebook import tqdm\n",
    "\n",
    "import smart_settings"
   ]
  },
  {
   "cell_type": "code",
   "execution_count": 2,
   "metadata": {},
   "outputs": [],
   "source": [
    "FOLDERS = [\n",
    "    \"alpha_beta_search__semantics_house_repair_100_inner3_std8_256_h32_size1_step3_control0066_nomaxdist_op3_sum\",\n",
    "    \"alpha_beta_search__semantics_house_repair_a-white-canvas_100_inner3_std8_256_h32_size1_step3_control0066_nomaxdist_op3_best3\",\n",
    "    \"trial__tangram_semantics_rair__60_inner3_std6_e10_256_h08_wb_s15_ff_size28_step7_cp28_control0066_staging1177_nomaxdist_op0_t1_a5_b0_rs1_best\",\n",
    "    \"temperature_search__semantics_house_repair_100_inner3_std8_256_h32_size1_step3_control0066_nomaxdist_op3_a0_b0_sum\",\n",
    "    \"tangram_semantics__categories_inversion_color_staging__60_inner3_std6_e20_256_h16_size1_step5_cp28_control0066_nomaxdist_op3_t1_a5_b0_rs1_best\",\n",
    "    \"tangram__semantics_rair__5_tree_60_inner3_std6_e20_256_h08_wb_sc15_xsize28_rsize4_xstep7_cp28_op0_staging1177_t1_a5_b0_rs1_best_dn_x2\",\n",
    "    \"tangram__semantics__N_tree_30_inner3_std6_e20_256_h08_c_s15_xsize28_rsize4_xstep7_cp28_op0_t1_a5_b0_rs1_best_dn_x3\",\n",
    "    \"tangram__semantics__N_tree_30_inner3_std6_e20_256_h08_c_s15_xsize28_rsize4_xstep7_cp28_op0_staging1199_t1_a5_b0_rs1_best_dn_x3\",\n",
    "    \"tangram__semantics__N_tree_30_inner3_std6_e10_256_h08_c_s15_xsize28_rsize4_xstep7_cp28_op0_t1_a5_b0_rs1_best_dn_x3\",\n",
    "    \"tangram__semantics__N_tree_30_inner3_std6_e10_256_h08_c_s15_xsize28_rsize4_xstep7_cp28_op0_staging1199_t1_a5_b0_rs1_best_dn_x3\",\n",
    "    \"semantics_search_60_inner3_std6_e20_256_control0066_nomaxdist_t1_a5_b0_rs1_best\",  #\n",
    "    \"semantics_search_60_inner3_std6_256_size1_control0066_nomaxdist_b0_best\",  # 1\n",
    "    \"model_search_semantics_60_inner3_std6_e20_256_h16_size1_step5_control0066_nomaxdist_t1_15_b0_rs1_best\",\n",
    "    \"cost_along_traj_search_2__semantics_house_repair_100_inner3_std8_256_h32_size1_step3_control0066_nomaxdist_op3_a0_b0\",\n",
    "    \"cost_along_traj_search__semantics_house_repair_200_inner3_std8_128_h8_size1_step3_control0066_nomaxdist_op3_a0_b0\",\n",
    "    \"controller_init_std_search__semantics_house_repair_100_inner3_256_h32_size1_step3_control0066_nomaxdist_op3_a0_b0_sum\",\n",
    "    \"closeness_100_inner3_256_control0066_nomaxdist_best_x3\",\n",
    "    \"alpha_beta_search__semantics_tree_repair_100_inner3_std8_256_h32_size1_step3_control0066_nomaxdist_op3_sum\"\n",
    "]\n",
    "FOLDERS = dict(zip(range(len(FOLDERS)), FOLDERS))\n",
    "FRAMES = 60"
   ]
  },
  {
   "cell_type": "code",
   "execution_count": 3,
   "metadata": {},
   "outputs": [],
   "source": [
    "def extract_settings(params):\n",
    "    return (\n",
    "        params.controller_params.compression,\n",
    "        params.controller_params.render_kwargs.invert,\n",
    "        params.controller_params.render_kwargs.color,\n",
    "        params.controller_params.semantics_baseline,\n",
    "        params.controller_params.action_sampler_params.opt_iterations,\n",
    "        params.controller_params.action_sampler_params.init_std,\n",
    "        params.controller_params.action_sampler_params.elites_size,\n",
    "        params.controller_params.num_simulated_trajectories,\n",
    "        params.controller_params.horizon,\n",
    "        params.env_params.x_size,\n",
    "        params.env_params.get(\"r_size\", 4),\n",
    "        params.env_params.x_step,\n",
    "        params.controller_params.get('compression_precision', params.controller_params.get('precision')),\n",
    "        str(params.env_params.get(\"staging_boundaries\", [[0, 0], [1., 1.]])),\n",
    "        params.env_params.object_persistency,\n",
    "        params.controller_params.semantics_model_temperature,\n",
    "        params.controller_params.semantics_alpha_target,\n",
    "        params.controller_params.semantics_beta_image,\n",
    "        params.controller_params.semantics_reward_scale,\n",
    "        params.controller_params.cost_along_trajectory,\n",
    "        params.get(\"seed\", params.env_params.get(\"seed\", None))\n",
    "    )\n",
    "\n",
    "results = pd.DataFrame(columns=[\n",
    "    # \"shape\",\n",
    "    \"rair\",\n",
    "    \"inversion\",\n",
    "    \"color\",\n",
    "    \"baseline\",\n",
    "    \"opt_iterations\",\n",
    "    \"init_std\",\n",
    "    \"elites_size\",\n",
    "    \"num_simulated_trajectories\",\n",
    "    \"horizon\",\n",
    "    \"x_size\",\n",
    "    \"r_size\",\n",
    "    \"x_step\",\n",
    "    \"compression_precision\",\n",
    "    \"staging_boundaries\",\n",
    "    \"object_persistency\",\n",
    "    \"temperature\",\n",
    "    \"alpha_target\",\n",
    "    \"beta_image\",\n",
    "    \"reward_scale\",\n",
    "    \"cost_along_trajectory\",\n",
    "    \"seed\",\n",
    "    \"completed\",\n",
    "    \"sum_entropies\",\n",
    "    \"final_entropy\"\n",
    "])"
   ]
  },
  {
   "cell_type": "code",
   "execution_count": 4,
   "metadata": {},
   "outputs": [
    {
     "data": {
      "application/vnd.jupyter.widget-view+json": {
       "model_id": "1b842672ab88415d820b8fabaae121ea",
       "version_major": 2,
       "version_minor": 0
      },
      "text/plain": [
       "  0%|          | 0/6 [00:00<?, ?it/s]"
      ]
     },
     "metadata": {},
     "output_type": "display_data"
    },
    {
     "data": {
      "application/vnd.jupyter.widget-view+json": {
       "model_id": "876684cdee9d4d8a9bb6705fada76fc8",
       "version_major": 2,
       "version_minor": 0
      },
      "text/plain": [
       "  0%|          | 0/4 [00:00<?, ?it/s]"
      ]
     },
     "metadata": {},
     "output_type": "display_data"
    },
    {
     "data": {
      "application/vnd.jupyter.widget-view+json": {
       "model_id": "64e20b07f4ba4ec8bd8d34bcfc99d5d5",
       "version_major": 2,
       "version_minor": 0
      },
      "text/plain": [
       "  0%|          | 0/9 [00:00<?, ?it/s]"
      ]
     },
     "metadata": {},
     "output_type": "display_data"
    },
    {
     "data": {
      "application/vnd.jupyter.widget-view+json": {
       "model_id": "18012f0da2634ea383be1678baafe89f",
       "version_major": 2,
       "version_minor": 0
      },
      "text/plain": [
       "  0%|          | 0/9 [00:00<?, ?it/s]"
      ]
     },
     "metadata": {},
     "output_type": "display_data"
    },
    {
     "data": {
      "application/vnd.jupyter.widget-view+json": {
       "model_id": "c7487f463e28431eab9f7506bee1539f",
       "version_major": 2,
       "version_minor": 0
      },
      "text/plain": [
       "  0%|          | 0/16 [00:00<?, ?it/s]"
      ]
     },
     "metadata": {},
     "output_type": "display_data"
    },
    {
     "data": {
      "application/vnd.jupyter.widget-view+json": {
       "model_id": "2ab97410ad40498e9f9fc79bd7dc0547",
       "version_major": 2,
       "version_minor": 0
      },
      "text/plain": [
       "  0%|          | 0/2 [00:00<?, ?it/s]"
      ]
     },
     "metadata": {},
     "output_type": "display_data"
    },
    {
     "data": {
      "application/vnd.jupyter.widget-view+json": {
       "model_id": "2e88f77bbafd441a977ab7a3ef00aca0",
       "version_major": 2,
       "version_minor": 0
      },
      "text/plain": [
       "  0%|          | 0/3 [00:00<?, ?it/s]"
      ]
     },
     "metadata": {},
     "output_type": "display_data"
    },
    {
     "data": {
      "application/vnd.jupyter.widget-view+json": {
       "model_id": "d8d0842b94804d569306e0cef0dd00a0",
       "version_major": 2,
       "version_minor": 0
      },
      "text/plain": [
       "  0%|          | 0/3 [00:00<?, ?it/s]"
      ]
     },
     "metadata": {},
     "output_type": "display_data"
    },
    {
     "data": {
      "application/vnd.jupyter.widget-view+json": {
       "model_id": "afb0d32533ac4025808e0735efef7e07",
       "version_major": 2,
       "version_minor": 0
      },
      "text/plain": [
       "  0%|          | 0/3 [00:00<?, ?it/s]"
      ]
     },
     "metadata": {},
     "output_type": "display_data"
    },
    {
     "data": {
      "application/vnd.jupyter.widget-view+json": {
       "model_id": "0dfd6bc9b7e14c3d9dc804b1f888d341",
       "version_major": 2,
       "version_minor": 0
      },
      "text/plain": [
       "  0%|          | 0/3 [00:00<?, ?it/s]"
      ]
     },
     "metadata": {},
     "output_type": "display_data"
    },
    {
     "data": {
      "application/vnd.jupyter.widget-view+json": {
       "model_id": "c0d69c716fe4413d886d4705bb1a6a75",
       "version_major": 2,
       "version_minor": 0
      },
      "text/plain": [
       "  0%|          | 0/160 [00:00<?, ?it/s]"
      ]
     },
     "metadata": {},
     "output_type": "display_data"
    },
    {
     "name": "stdout",
     "output_type": "stream",
     "text": [
      "> Results not found for semantics_search_60_inner3_std6_e20_256_control0066_nomaxdist_t1_a5_b0_rs1_best/64\n"
     ]
    },
    {
     "data": {
      "application/vnd.jupyter.widget-view+json": {
       "model_id": "d93a813cd719417d893e79f31a47a4f5",
       "version_major": 2,
       "version_minor": 0
      },
      "text/plain": [
       "  0%|          | 0/288 [00:00<?, ?it/s]"
      ]
     },
     "metadata": {},
     "output_type": "display_data"
    },
    {
     "data": {
      "application/vnd.jupyter.widget-view+json": {
       "model_id": "99c68e3578c248769cf09b0f7b2bf725",
       "version_major": 2,
       "version_minor": 0
      },
      "text/plain": [
       "  0%|          | 0/8 [00:00<?, ?it/s]"
      ]
     },
     "metadata": {},
     "output_type": "display_data"
    },
    {
     "data": {
      "application/vnd.jupyter.widget-view+json": {
       "model_id": "bc393d096acd4d37a71ef60aa1041844",
       "version_major": 2,
       "version_minor": 0
      },
      "text/plain": [
       "  0%|          | 0/7 [00:00<?, ?it/s]"
      ]
     },
     "metadata": {},
     "output_type": "display_data"
    },
    {
     "data": {
      "application/vnd.jupyter.widget-view+json": {
       "model_id": "dcec36abe8c04fe5a039d5a77c008ea0",
       "version_major": 2,
       "version_minor": 0
      },
      "text/plain": [
       "  0%|          | 0/8 [00:00<?, ?it/s]"
      ]
     },
     "metadata": {},
     "output_type": "display_data"
    },
    {
     "data": {
      "application/vnd.jupyter.widget-view+json": {
       "model_id": "5ad317f0fa684bdfb82db347b04d7530",
       "version_major": 2,
       "version_minor": 0
      },
      "text/plain": [
       "  0%|          | 0/9 [00:00<?, ?it/s]"
      ]
     },
     "metadata": {},
     "output_type": "display_data"
    },
    {
     "data": {
      "application/vnd.jupyter.widget-view+json": {
       "model_id": "ac5e7118819e47e5919b28a6f101116f",
       "version_major": 2,
       "version_minor": 0
      },
      "text/plain": [
       "  0%|          | 0/7 [00:00<?, ?it/s]"
      ]
     },
     "metadata": {},
     "output_type": "display_data"
    },
    {
     "name": "stdout",
     "output_type": "stream",
     "text": [
      "> Results not found for closeness_100_inner3_256_control0066_nomaxdist_best_x3/10\n"
     ]
    },
    {
     "data": {
      "application/vnd.jupyter.widget-view+json": {
       "model_id": "7ed2e3de654a45a9aec888c9fe1faf1d",
       "version_major": 2,
       "version_minor": 0
      },
      "text/plain": [
       "  0%|          | 0/6 [00:00<?, ?it/s]"
      ]
     },
     "metadata": {},
     "output_type": "display_data"
    }
   ],
   "source": [
    "# distribution = dict()\n",
    "entropies = dict()\n",
    "for id, folder in FOLDERS.items():\n",
    "    for job in tqdm(os.listdir(folder)):\n",
    "        params = smart_settings.load(os.path.join(folder, job, \"settings.toml\"), make_immutable=False)\n",
    "        try:\n",
    "            with open(glob(os.path.join(folder, job, \"results*.pickle\"))[0], \"rb\") as resultfile:\n",
    "                probs = np.asarray(list(pickle.load(resultfile).values()))\n",
    "        except (IndexError, FileNotFoundError):\n",
    "            print(f\"> Results not found for {folder}/{job}\")\n",
    "            completed = False\n",
    "            entropies[f'{id}_{job}'] = None\n",
    "            # distribution[f'{id}_{job}'] = None\n",
    "        else:\n",
    "            completed = True\n",
    "            entropies[f'{id}_{job}'] = -np.einsum('ij,ji->i', probs, np.log(np.where(probs == 0, 1, probs)).T)\n",
    "            # distribution[f'{id}_{job}'] = probs\n",
    "        results.loc[f'{id}_{job}'] = [*extract_settings(params), completed, entropies[f'{id}_{job}'].sum() if completed else np.nan, entropies[f'{id}_{job}'][-1] if completed else np.nan]"
   ]
  },
  {
   "cell_type": "code",
   "execution_count": 5,
   "metadata": {},
   "outputs": [],
   "source": [
    "compute = lambda f, entropies=entropies, alt=np.nan: pd.Series(map(lambda x: (alt if x is None else f(x)), entropies.values()), entropies.keys())"
   ]
  },
  {
   "cell_type": "code",
   "execution_count": 6,
   "metadata": {},
   "outputs": [],
   "source": [
    "results['sum_entropies_normalized'] = compute(lambda x: x.sum() / x.max())\n",
    "results['sum_entropies_centered'] = compute(lambda x: (x - x.max()).sum())\n",
    "# results['reached'] = compute(lambda x: (x < 1).any(), alt=False)"
   ]
  },
  {
   "cell_type": "code",
   "execution_count": 7,
   "metadata": {},
   "outputs": [],
   "source": [
    "results.sort_values(\"sum_entropies\", inplace=True)\n",
    "# results[\"complexity\"] = results[\"horizon\"] * results[\"num_simulated_trajectories\"]"
   ]
  },
  {
   "cell_type": "markdown",
   "metadata": {},
   "source": [
    "``` sh\n",
    "gram semantics_search_60_inner3_std6_256_size1_control0066_nomaxdist_b0_best/$1 --save-path results/tangram_videos/new_semantics/semantics_search_60_inner3_std6_256_size1_control0066_nomaxdist_b0_best/$1\n",
    "```"
   ]
  },
  {
   "cell_type": "code",
   "execution_count": 8,
   "metadata": {},
   "outputs": [
    {
     "data": {
      "text/plain": [
       "rair                                          True\n",
       "inversion                                    False\n",
       "color                                         True\n",
       "baseline                            A white canvas\n",
       "opt_iterations                                   3\n",
       "init_std                                       0.6\n",
       "elites_size                                     20\n",
       "num_simulated_trajectories                     256\n",
       "horizon                                         24\n",
       "x_size                                          28\n",
       "r_size                                           4\n",
       "x_step                                           7\n",
       "compression_precision                           28\n",
       "staging_boundaries            [[0, 0], [1.0, 1.0]]\n",
       "object_persistency                               0\n",
       "temperature                                    1.0\n",
       "alpha_target                                   0.5\n",
       "beta_image                                     0.0\n",
       "reward_scale                                   1.0\n",
       "cost_along_trajectory                         best\n",
       "seed                                    2208986566\n",
       "completed                                     True\n",
       "sum_entropies                             2.964844\n",
       "final_entropy                              0.01326\n",
       "sum_entropies_normalized                  1.537109\n",
       "sum_entropies_centered                   -114.6875\n",
       "Name: 10_112, dtype: object"
      ]
     },
     "execution_count": 8,
     "metadata": {},
     "output_type": "execute_result"
    }
   ],
   "source": [
    "# Best performing -- 105\n",
    "results.iloc[0]"
   ]
  },
  {
   "cell_type": "code",
   "execution_count": 9,
   "metadata": {},
   "outputs": [],
   "source": [
    "# plt.scatter(range(len(results)), results[\"sum_entropies\"], s=0.05)  # c=results[\"cost_along_trajectory\"].replace({\"best\": \"r\", \"sum\": \"b\"})"
   ]
  },
  {
   "cell_type": "code",
   "execution_count": 10,
   "metadata": {},
   "outputs": [],
   "source": [
    "# results[\"XIC\"] = np.log(results[\"sum_entropies\"]) + results[\"complexity\"]\n",
    "# results.sort_values(\"XIC\")"
   ]
  },
  {
   "cell_type": "code",
   "execution_count": 11,
   "metadata": {},
   "outputs": [
    {
     "data": {
      "text/html": [
       "<div>\n",
       "<style scoped>\n",
       "    .dataframe tbody tr th:only-of-type {\n",
       "        vertical-align: middle;\n",
       "    }\n",
       "\n",
       "    .dataframe tbody tr th {\n",
       "        vertical-align: top;\n",
       "    }\n",
       "\n",
       "    .dataframe thead th {\n",
       "        text-align: right;\n",
       "    }\n",
       "</style>\n",
       "<table border=\"1\" class=\"dataframe\">\n",
       "  <thead>\n",
       "    <tr style=\"text-align: right;\">\n",
       "      <th></th>\n",
       "      <th>rair</th>\n",
       "      <th>inversion</th>\n",
       "      <th>color</th>\n",
       "      <th>baseline</th>\n",
       "      <th>opt_iterations</th>\n",
       "      <th>init_std</th>\n",
       "      <th>elites_size</th>\n",
       "      <th>num_simulated_trajectories</th>\n",
       "      <th>horizon</th>\n",
       "      <th>x_size</th>\n",
       "      <th>...</th>\n",
       "      <th>alpha_target</th>\n",
       "      <th>beta_image</th>\n",
       "      <th>reward_scale</th>\n",
       "      <th>cost_along_trajectory</th>\n",
       "      <th>seed</th>\n",
       "      <th>completed</th>\n",
       "      <th>sum_entropies</th>\n",
       "      <th>final_entropy</th>\n",
       "      <th>sum_entropies_normalized</th>\n",
       "      <th>sum_entropies_centered</th>\n",
       "    </tr>\n",
       "  </thead>\n",
       "  <tbody>\n",
       "    <tr>\n",
       "      <th>10_112</th>\n",
       "      <td>True</td>\n",
       "      <td>False</td>\n",
       "      <td>True</td>\n",
       "      <td>A white canvas</td>\n",
       "      <td>3</td>\n",
       "      <td>0.6</td>\n",
       "      <td>20</td>\n",
       "      <td>256</td>\n",
       "      <td>24</td>\n",
       "      <td>28</td>\n",
       "      <td>...</td>\n",
       "      <td>0.5</td>\n",
       "      <td>0.0</td>\n",
       "      <td>1.0</td>\n",
       "      <td>best</td>\n",
       "      <td>2208986566</td>\n",
       "      <td>True</td>\n",
       "      <td>2.964844</td>\n",
       "      <td>0.013260</td>\n",
       "      <td>1.537109</td>\n",
       "      <td>-114.687500</td>\n",
       "    </tr>\n",
       "    <tr>\n",
       "      <th>7_2</th>\n",
       "      <td>False</td>\n",
       "      <td>False</td>\n",
       "      <td>True</td>\n",
       "      <td>A white canvas</td>\n",
       "      <td>3</td>\n",
       "      <td>0.6</td>\n",
       "      <td>20</td>\n",
       "      <td>256</td>\n",
       "      <td>8</td>\n",
       "      <td>28</td>\n",
       "      <td>...</td>\n",
       "      <td>0.5</td>\n",
       "      <td>0.0</td>\n",
       "      <td>1.0</td>\n",
       "      <td>best</td>\n",
       "      <td>973970085</td>\n",
       "      <td>True</td>\n",
       "      <td>2.998047</td>\n",
       "      <td>0.000672</td>\n",
       "      <td>1.747070</td>\n",
       "      <td>-50.187500</td>\n",
       "    </tr>\n",
       "    <tr>\n",
       "      <th>10_84</th>\n",
       "      <td>True</td>\n",
       "      <td>False</td>\n",
       "      <td>True</td>\n",
       "      <td>A white canvas</td>\n",
       "      <td>3</td>\n",
       "      <td>0.6</td>\n",
       "      <td>20</td>\n",
       "      <td>256</td>\n",
       "      <td>24</td>\n",
       "      <td>1</td>\n",
       "      <td>...</td>\n",
       "      <td>0.5</td>\n",
       "      <td>0.0</td>\n",
       "      <td>1.0</td>\n",
       "      <td>best</td>\n",
       "      <td>2112382376</td>\n",
       "      <td>True</td>\n",
       "      <td>3.822266</td>\n",
       "      <td>0.010246</td>\n",
       "      <td>2.421875</td>\n",
       "      <td>-92.437500</td>\n",
       "    </tr>\n",
       "    <tr>\n",
       "      <th>8_2</th>\n",
       "      <td>False</td>\n",
       "      <td>False</td>\n",
       "      <td>True</td>\n",
       "      <td>A white canvas</td>\n",
       "      <td>3</td>\n",
       "      <td>0.6</td>\n",
       "      <td>10</td>\n",
       "      <td>256</td>\n",
       "      <td>8</td>\n",
       "      <td>28</td>\n",
       "      <td>...</td>\n",
       "      <td>0.5</td>\n",
       "      <td>0.0</td>\n",
       "      <td>1.0</td>\n",
       "      <td>best</td>\n",
       "      <td>100547005</td>\n",
       "      <td>True</td>\n",
       "      <td>4.363281</td>\n",
       "      <td>0.001813</td>\n",
       "      <td>2.447266</td>\n",
       "      <td>-50.875000</td>\n",
       "    </tr>\n",
       "    <tr>\n",
       "      <th>6_2</th>\n",
       "      <td>False</td>\n",
       "      <td>False</td>\n",
       "      <td>True</td>\n",
       "      <td>A white canvas</td>\n",
       "      <td>3</td>\n",
       "      <td>0.6</td>\n",
       "      <td>20</td>\n",
       "      <td>256</td>\n",
       "      <td>8</td>\n",
       "      <td>28</td>\n",
       "      <td>...</td>\n",
       "      <td>0.5</td>\n",
       "      <td>0.0</td>\n",
       "      <td>1.0</td>\n",
       "      <td>best</td>\n",
       "      <td>883529372</td>\n",
       "      <td>True</td>\n",
       "      <td>4.531250</td>\n",
       "      <td>0.000987</td>\n",
       "      <td>3.203125</td>\n",
       "      <td>-39.343750</td>\n",
       "    </tr>\n",
       "    <tr>\n",
       "      <th>...</th>\n",
       "      <td>...</td>\n",
       "      <td>...</td>\n",
       "      <td>...</td>\n",
       "      <td>...</td>\n",
       "      <td>...</td>\n",
       "      <td>...</td>\n",
       "      <td>...</td>\n",
       "      <td>...</td>\n",
       "      <td>...</td>\n",
       "      <td>...</td>\n",
       "      <td>...</td>\n",
       "      <td>...</td>\n",
       "      <td>...</td>\n",
       "      <td>...</td>\n",
       "      <td>...</td>\n",
       "      <td>...</td>\n",
       "      <td>...</td>\n",
       "      <td>...</td>\n",
       "      <td>...</td>\n",
       "      <td>...</td>\n",
       "      <td>...</td>\n",
       "    </tr>\n",
       "    <tr>\n",
       "      <th>17_4</th>\n",
       "      <td>False</td>\n",
       "      <td>False</td>\n",
       "      <td>True</td>\n",
       "      <td>/is/sg2/pgoyal/Desktop/Projects/mbrl-semantics...</td>\n",
       "      <td>3</td>\n",
       "      <td>0.8</td>\n",
       "      <td>10</td>\n",
       "      <td>256</td>\n",
       "      <td>32</td>\n",
       "      <td>1</td>\n",
       "      <td>...</td>\n",
       "      <td>0.5</td>\n",
       "      <td>0.5</td>\n",
       "      <td>6.0</td>\n",
       "      <td>sum</td>\n",
       "      <td>232405654</td>\n",
       "      <td>True</td>\n",
       "      <td>211.625000</td>\n",
       "      <td>2.138672</td>\n",
       "      <td>98.937500</td>\n",
       "      <td>-4.421875</td>\n",
       "    </tr>\n",
       "    <tr>\n",
       "      <th>17_3</th>\n",
       "      <td>False</td>\n",
       "      <td>False</td>\n",
       "      <td>True</td>\n",
       "      <td>/is/sg2/pgoyal/Desktop/Projects/mbrl-semantics...</td>\n",
       "      <td>3</td>\n",
       "      <td>0.8</td>\n",
       "      <td>10</td>\n",
       "      <td>256</td>\n",
       "      <td>32</td>\n",
       "      <td>1</td>\n",
       "      <td>...</td>\n",
       "      <td>0.5</td>\n",
       "      <td>0.0</td>\n",
       "      <td>6.0</td>\n",
       "      <td>sum</td>\n",
       "      <td>2019543195</td>\n",
       "      <td>True</td>\n",
       "      <td>223.375000</td>\n",
       "      <td>2.205078</td>\n",
       "      <td>99.000000</td>\n",
       "      <td>-4.441406</td>\n",
       "    </tr>\n",
       "    <tr>\n",
       "      <th>1_1</th>\n",
       "      <td>False</td>\n",
       "      <td>False</td>\n",
       "      <td>True</td>\n",
       "      <td>A white canvas</td>\n",
       "      <td>3</td>\n",
       "      <td>0.8</td>\n",
       "      <td>10</td>\n",
       "      <td>256</td>\n",
       "      <td>32</td>\n",
       "      <td>1</td>\n",
       "      <td>...</td>\n",
       "      <td>0.5</td>\n",
       "      <td>-0.5</td>\n",
       "      <td>6.0</td>\n",
       "      <td>3</td>\n",
       "      <td>3668780133</td>\n",
       "      <td>True</td>\n",
       "      <td>223.750000</td>\n",
       "      <td>2.242188</td>\n",
       "      <td>97.687500</td>\n",
       "      <td>-7.664062</td>\n",
       "    </tr>\n",
       "    <tr>\n",
       "      <th>10_64</th>\n",
       "      <td>True</td>\n",
       "      <td>False</td>\n",
       "      <td>True</td>\n",
       "      <td>A white canvas</td>\n",
       "      <td>3</td>\n",
       "      <td>0.6</td>\n",
       "      <td>20</td>\n",
       "      <td>256</td>\n",
       "      <td>16</td>\n",
       "      <td>28</td>\n",
       "      <td>...</td>\n",
       "      <td>0.5</td>\n",
       "      <td>0.0</td>\n",
       "      <td>1.0</td>\n",
       "      <td>best</td>\n",
       "      <td>1472629184</td>\n",
       "      <td>False</td>\n",
       "      <td>NaN</td>\n",
       "      <td>NaN</td>\n",
       "      <td>NaN</td>\n",
       "      <td>NaN</td>\n",
       "    </tr>\n",
       "    <tr>\n",
       "      <th>16_10</th>\n",
       "      <td>False</td>\n",
       "      <td>False</td>\n",
       "      <td>True</td>\n",
       "      <td>A white canvas</td>\n",
       "      <td>3</td>\n",
       "      <td>0.2</td>\n",
       "      <td>10</td>\n",
       "      <td>256</td>\n",
       "      <td>16</td>\n",
       "      <td>1</td>\n",
       "      <td>...</td>\n",
       "      <td>0.0</td>\n",
       "      <td>0.0</td>\n",
       "      <td>1.0</td>\n",
       "      <td>best</td>\n",
       "      <td>5</td>\n",
       "      <td>False</td>\n",
       "      <td>NaN</td>\n",
       "      <td>NaN</td>\n",
       "      <td>NaN</td>\n",
       "      <td>NaN</td>\n",
       "    </tr>\n",
       "  </tbody>\n",
       "</table>\n",
       "<p>551 rows × 26 columns</p>\n",
       "</div>"
      ],
      "text/plain": [
       "         rair  inversion  color  \\\n",
       "10_112   True      False   True   \n",
       "7_2     False      False   True   \n",
       "10_84    True      False   True   \n",
       "8_2     False      False   True   \n",
       "6_2     False      False   True   \n",
       "...       ...        ...    ...   \n",
       "17_4    False      False   True   \n",
       "17_3    False      False   True   \n",
       "1_1     False      False   True   \n",
       "10_64    True      False   True   \n",
       "16_10   False      False   True   \n",
       "\n",
       "                                                 baseline  opt_iterations  \\\n",
       "10_112                                     A white canvas               3   \n",
       "7_2                                        A white canvas               3   \n",
       "10_84                                      A white canvas               3   \n",
       "8_2                                        A white canvas               3   \n",
       "6_2                                        A white canvas               3   \n",
       "...                                                   ...             ...   \n",
       "17_4    /is/sg2/pgoyal/Desktop/Projects/mbrl-semantics...               3   \n",
       "17_3    /is/sg2/pgoyal/Desktop/Projects/mbrl-semantics...               3   \n",
       "1_1                                        A white canvas               3   \n",
       "10_64                                      A white canvas               3   \n",
       "16_10                                      A white canvas               3   \n",
       "\n",
       "        init_std  elites_size  num_simulated_trajectories  horizon  x_size  \\\n",
       "10_112       0.6           20                         256       24      28   \n",
       "7_2          0.6           20                         256        8      28   \n",
       "10_84        0.6           20                         256       24       1   \n",
       "8_2          0.6           10                         256        8      28   \n",
       "6_2          0.6           20                         256        8      28   \n",
       "...          ...          ...                         ...      ...     ...   \n",
       "17_4         0.8           10                         256       32       1   \n",
       "17_3         0.8           10                         256       32       1   \n",
       "1_1          0.8           10                         256       32       1   \n",
       "10_64        0.6           20                         256       16      28   \n",
       "16_10        0.2           10                         256       16       1   \n",
       "\n",
       "        ...  alpha_target  beta_image  reward_scale cost_along_trajectory  \\\n",
       "10_112  ...           0.5         0.0           1.0                  best   \n",
       "7_2     ...           0.5         0.0           1.0                  best   \n",
       "10_84   ...           0.5         0.0           1.0                  best   \n",
       "8_2     ...           0.5         0.0           1.0                  best   \n",
       "6_2     ...           0.5         0.0           1.0                  best   \n",
       "...     ...           ...         ...           ...                   ...   \n",
       "17_4    ...           0.5         0.5           6.0                   sum   \n",
       "17_3    ...           0.5         0.0           6.0                   sum   \n",
       "1_1     ...           0.5        -0.5           6.0                     3   \n",
       "10_64   ...           0.5         0.0           1.0                  best   \n",
       "16_10   ...           0.0         0.0           1.0                  best   \n",
       "\n",
       "              seed  completed  sum_entropies  final_entropy  \\\n",
       "10_112  2208986566       True       2.964844       0.013260   \n",
       "7_2      973970085       True       2.998047       0.000672   \n",
       "10_84   2112382376       True       3.822266       0.010246   \n",
       "8_2      100547005       True       4.363281       0.001813   \n",
       "6_2      883529372       True       4.531250       0.000987   \n",
       "...            ...        ...            ...            ...   \n",
       "17_4     232405654       True     211.625000       2.138672   \n",
       "17_3    2019543195       True     223.375000       2.205078   \n",
       "1_1     3668780133       True     223.750000       2.242188   \n",
       "10_64   1472629184      False            NaN            NaN   \n",
       "16_10            5      False            NaN            NaN   \n",
       "\n",
       "        sum_entropies_normalized sum_entropies_centered  \n",
       "10_112                  1.537109            -114.687500  \n",
       "7_2                     1.747070             -50.187500  \n",
       "10_84                   2.421875             -92.437500  \n",
       "8_2                     2.447266             -50.875000  \n",
       "6_2                     3.203125             -39.343750  \n",
       "...                          ...                    ...  \n",
       "17_4                   98.937500              -4.421875  \n",
       "17_3                   99.000000              -4.441406  \n",
       "1_1                    97.687500              -7.664062  \n",
       "10_64                        NaN                    NaN  \n",
       "16_10                        NaN                    NaN  \n",
       "\n",
       "[551 rows x 26 columns]"
      ]
     },
     "execution_count": 11,
     "metadata": {},
     "output_type": "execute_result"
    }
   ],
   "source": [
    "results"
   ]
  },
  {
   "cell_type": "code",
   "execution_count": 17,
   "metadata": {},
   "outputs": [
    {
     "name": "stdout",
     "output_type": "stream",
     "text": [
      "424\n"
     ]
    },
    {
     "data": {
      "application/vnd.jupyter.widget-view+json": {
       "model_id": "1b05f13d11b94062bcda4c9e7f929015",
       "version_major": 2,
       "version_minor": 0
      },
      "text/plain": [
       "interactive(children=(Dropdown(description='x', options=('rair', 'inversion', 'color', 'baseline', 'opt_iterat…"
      ]
     },
     "metadata": {},
     "output_type": "display_data"
    },
    {
     "data": {
      "text/plain": [
       "<function __main__.<lambda>(x, y='sum_entropies')>"
      ]
     },
     "execution_count": 17,
     "metadata": {},
     "output_type": "execute_result"
    }
   ],
   "source": [
    "mask = results['completed'] & (results['x_size'] == 1) & (results['object_persistency'] != 0)\n",
    "print(mask.sum())\n",
    "interact(lambda x, y=\"sum_entropies\": sns.boxplot(x=x, y=y, data=results[mask]), x=results.columns, y=results.columns)"
   ]
  },
  {
   "cell_type": "code",
   "execution_count": 22,
   "metadata": {},
   "outputs": [
    {
     "data": {
      "image/png": "[encoded data removed]",
      "text/plain": [
       "<Figure size 640x480 with 1 Axes>"
      ]
     },
     "metadata": {},
     "output_type": "display_data"
    }
   ],
   "source": [
    "for key, row in results[200:210].iterrows():\n",
    "    plt.plot(entropies[key], label=key)\n",
    "plt.xlabel(\"Rollouts\")\n",
    "plt.ylabel(\"Entropies\")\n",
    "plt.legend();"
   ]
  },
  {
   "cell_type": "code",
   "execution_count": null,
   "metadata": {},
   "outputs": [],
   "source": [
    "# tree_576\n",
    "# house_951"
   ]
  }
 ],
 "metadata": {
  "kernelspec": {
   "display_name": "mbrl_venv",
   "language": "python",
   "name": "python3"
  },
  "language_info": {
   "codemirror_mode": {
    "name": "ipython",
    "version": 3
   },
   "file_extension": ".py",
   "mimetype": "text/x-python",
   "name": "python",
   "nbconvert_exporter": "python",
   "pygments_lexer": "ipython3",
   "version": "3.8.10"
  }
 },
 "nbformat": 4,
 "nbformat_minor": 2
}
