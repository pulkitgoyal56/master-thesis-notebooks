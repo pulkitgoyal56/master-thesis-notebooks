{
 "cells": [
  {
   "cell_type": "code",
   "execution_count": 1,
   "metadata": {},
   "outputs": [],
   "source": [
    "import matplotlib.pyplot as plt\n",
    "import numpy as np\n",
    "import torch"
   ]
  },
  {
   "cell_type": "code",
   "execution_count": 2,
   "metadata": {},
   "outputs": [],
   "source": [
    "from PIL import Image\n",
    "from skimage.draw import polygon as sk_polygon\n",
    "from cv2 import fillPoly, fillConvexPoly"
   ]
  },
  {
   "cell_type": "code",
   "execution_count": 3,
   "metadata": {},
   "outputs": [],
   "source": [
    "%load_ext rich\n",
    "%load_ext autoreload\n",
    "%autoreload 1"
   ]
  },
  {
   "cell_type": "code",
   "execution_count": 4,
   "metadata": {},
   "outputs": [],
   "source": [
    "from mbrl.environments.tangram.tangram import Tangram\n",
    "%aimport mbrl.environments.tangram.tangram"
   ]
  },
  {
   "cell_type": "markdown",
   "metadata": {},
   "source": [
    "---"
   ]
  },
  {
   "cell_type": "code",
   "execution_count": 5,
   "metadata": {},
   "outputs": [],
   "source": [
    "HOUSE = np.array([[0.505, 0.49333333], [0.63, 0.36833333], [0.38, 0.36833333], [0.4625, 0.62083333], [0.5875, 0.49583333], [0.3375, 0.49583333], [0.63166667, 0.49416667], [0.63166667, 0.36916667], [0.50666667, 0.49416667], [0.441, 0.43133333], [0.3785, 0.49383333], [0.5035, 0.49383333], [0.44016667, 0.4305], [0.37766667, 0.368], [0.37766667, 0.493], [0.50030583, 0.58530583], [0.50030583, 0.67369417], [0.58869417, 0.67369417], [0.58869417, 0.58530583], [0.5885, 0.58469417], [0.50011165, 0.58469417], [0.5885, 0.49630583], [0.67688835, 0.49630583]])\n",
    "TREE = np.array([[0.50392557, 0.50607443], [0.32714887, 0.50607443], [0.50392557, 0.68285113], [0.50607443, 0.50607443], [0.50607443, 0.68285113], [0.68285113, 0.50607443], [0.41, 0.49392557], [0.49838835, 0.40553722], [0.32161165, 0.40553722], [0.50553722, 0.40753722], [0.50553722, 0.49592557], [0.59392557, 0.40753722], [0.50446278, 0.49446278], [0.50446278, 0.40607443], [0.41607443, 0.49446278], [0.45580583, 0.31580583], [0.45580583, 0.40419417], [0.54419417, 0.40419417], [0.54419417, 0.31580583], [0.6, 0.49419417], [0.51161165, 0.49419417], [0.6, 0.40580583], [0.68838835, 0.40580583]])"
   ]
  },
  {
   "cell_type": "code",
   "execution_count": 6,
   "metadata": {},
   "outputs": [],
   "source": [
    "tangram = Tangram(x_size=12, x_step=3, max_dist=-1)  # staging_boundaries=[[0, 0], [0.6, 0.6]])  # control_boundaries=[[0, 0], [0.5, 0.5]]\n",
    "# triangle-large-red triangle-large-orange triangle-medium-yellow triangle-small-lightgreen triangle-small-darkgreen square-small-blue parallelogram-small-purple\n",
    "tangram.positions = [(0.445, 0.565), (0.565, 0.565), (0.41, 0.435), (0.535, 0.437), (0.475, 0.465), (0.5, 0.36), (0.6, 0.45)]\n",
    "tangram.angles = [0.5, 0., -0.75, 0., 1, 0., 0.75]\n",
    "tangram.flips = [0, 0, 0, 0, 0, 0, 1]\n",
    "tangram.mask()\n",
    "tangram.checkpoint()\n",
    "tangram.reorder()\n",
    "# tangram.reset()\n",
    "# tangram"
   ]
  },
  {
   "cell_type": "markdown",
   "metadata": {},
   "source": [
    "---"
   ]
  },
  {
   "cell_type": "code",
   "execution_count": 7,
   "metadata": {},
   "outputs": [
    {
     "name": "stdout",
     "output_type": "stream",
     "text": [
      "15.6 ms ± 1.8 ms per loop (mean ± std. dev. of 7 runs, 100 loops each)\n"
     ]
    }
   ],
   "source": [
    "%%timeit\n",
    "tangram.render_image(crop=False, fast=False)"
   ]
  },
  {
   "cell_type": "code",
   "execution_count": 14,
   "metadata": {},
   "outputs": [
    {
     "name": "stdout",
     "output_type": "stream",
     "text": [
      "158 µs ± 85.7 ns per loop (mean ± std. dev. of 7 runs, 10,000 loops each)\n"
     ]
    }
   ],
   "source": [
    "%%timeit\n",
    "tangram.render_image(crop=False)"
   ]
  },
  {
   "cell_type": "code",
   "execution_count": 9,
   "metadata": {},
   "outputs": [
    {
     "name": "stdout",
     "output_type": "stream",
     "text": [
      "90.9 µs ± 2.06 µs per loop (mean ± std. dev. of 7 runs, 10,000 loops each)\n"
     ]
    }
   ],
   "source": [
    "%%timeit\n",
    "tangram.render_image(crop=False, color=False)"
   ]
  },
  {
   "cell_type": "markdown",
   "metadata": {},
   "source": [
    "---"
   ]
  },
  {
   "cell_type": "code",
   "execution_count": 10,
   "metadata": {},
   "outputs": [],
   "source": [
    "xy2rc = lambda xy, shape: np.floor(xy * shape[-2::-1]).astype(int) * [1, -1] + [0, shape[0] - 1]"
   ]
  },
  {
   "cell_type": "markdown",
   "metadata": {},
   "source": [
    "### Matplotlib"
   ]
  },
  {
   "cell_type": "code",
   "execution_count": 11,
   "metadata": {},
   "outputs": [
    {
     "name": "stdout",
     "output_type": "stream",
     "text": [
      "378 µs ± 910 ns per loop (mean ± std. dev. of 7 runs, 1,000 loops each)\n"
     ]
    }
   ],
   "source": [
    "%%timeit\n",
    "img = tangram.render()\n",
    "# Image.fromarray(img)"
   ]
  },
  {
   "cell_type": "code",
   "execution_count": 12,
   "metadata": {},
   "outputs": [
    {
     "name": "stdout",
     "output_type": "stream",
     "text": [
      "476 µs ± 386 ns per loop (mean ± std. dev. of 7 runs, 1,000 loops each)\n"
     ]
    }
   ],
   "source": [
    "%%timeit\n",
    "img = tangram.render_image()"
   ]
  },
  {
   "cell_type": "markdown",
   "metadata": {},
   "source": [
    "### scikit-image"
   ]
  },
  {
   "cell_type": "code",
   "execution_count": 13,
   "metadata": {},
   "outputs": [
    {
     "name": "stdout",
     "output_type": "stream",
     "text": [
      "1.19 ms ± 22.2 µs per loop (mean ± std. dev. of 7 runs, 1,000 loops each)\n"
     ]
    }
   ],
   "source": [
    "%%timeit\n",
    "img = np.full((size := 224, size, 3), 255)\n",
    "for polygon in tangram:\n",
    "    img[(*sk_polygon(*xy2rc(polygon.vertices, shape=img.shape[:-1]).T[::-1], img.shape),)] = polygon.color\n",
    "# Image.fromarray(img.astype(np.uint8))"
   ]
  },
  {
   "cell_type": "code",
   "execution_count": 14,
   "metadata": {},
   "outputs": [
    {
     "name": "stdout",
     "output_type": "stream",
     "text": [
      "1.12 ms ± 24.2 µs per loop (mean ± std. dev. of 7 runs, 1,000 loops each)\n"
     ]
    }
   ],
   "source": [
    "%%timeit\n",
    "img = np.full((size := 224, size, 3), 255, dtype=np.uint8)\n",
    "for polygon in tangram:\n",
    "    img[(*sk_polygon(*xy2rc(polygon.vertices, shape=img.shape[:-1]).T[::-1], img.shape),)] = polygon.color\n",
    "# Image.fromarray(img)"
   ]
  },
  {
   "cell_type": "code",
   "execution_count": 15,
   "metadata": {},
   "outputs": [
    {
     "name": "stdout",
     "output_type": "stream",
     "text": [
      "1.13 ms ± 18.8 µs per loop (mean ± std. dev. of 7 runs, 1,000 loops each)\n"
     ]
    }
   ],
   "source": [
    "%%timeit\n",
    "img = np.full((size := 224, size, 3), 255)\n",
    "for polygon in tangram:\n",
    "    # img[(*sk_polygon(*xy2rc(polygon.vertices, shape=img.shape[:-1]).T[::-1], img.shape),)] = polygon.color\n",
    "    cc, rr = sk_polygon(*(polygon.vertices * img.shape[:-1]).T, img.shape)\n",
    "    img[size - rr, cc] = polygon.color\n",
    "# Image.fromarray(img.astype(np.uint8))"
   ]
  },
  {
   "cell_type": "code",
   "execution_count": 16,
   "metadata": {},
   "outputs": [
    {
     "name": "stdout",
     "output_type": "stream",
     "text": [
      "1.09 ms ± 20.4 µs per loop (mean ± std. dev. of 7 runs, 1,000 loops each)\n"
     ]
    }
   ],
   "source": [
    "%%timeit\n",
    "img = np.full((size := 224, size, 3), 255, dtype=np.uint8)\n",
    "for polygon in tangram:\n",
    "    # img[(*sk_polygon(*xy2rc(polygon.vertices, shape=img.shape[:-1]).T[::-1], img.shape),)] = polygon.color\n",
    "    cc, rr = sk_polygon(*(polygon.vertices * img.shape[:-1]).T, img.shape)\n",
    "    img[size - rr, cc] = polygon.color\n",
    "# Image.fromarray(img)"
   ]
  },
  {
   "cell_type": "markdown",
   "metadata": {},
   "source": [
    "### OpenCV"
   ]
  },
  {
   "cell_type": "markdown",
   "metadata": {},
   "source": [
    "#### Colored"
   ]
  },
  {
   "cell_type": "code",
   "execution_count": 17,
   "metadata": {},
   "outputs": [
    {
     "name": "stdout",
     "output_type": "stream",
     "text": [
      "101 µs ± 456 ns per loop (mean ± std. dev. of 7 runs, 10,000 loops each)\n"
     ]
    }
   ],
   "source": [
    "%%timeit\n",
    "img = np.full((size := 224, size, 3), 255, dtype=np.uint8)\n",
    "for polygon in tangram:\n",
    "    fillPoly(img, [xy2rc(polygon.vertices, shape=img.shape[:-1])], color=polygon.color)\n",
    "# Image.fromarray(img)"
   ]
  },
  {
   "cell_type": "code",
   "execution_count": 18,
   "metadata": {},
   "outputs": [
    {
     "name": "stdout",
     "output_type": "stream",
     "text": [
      "95.2 µs ± 131 ns per loop (mean ± std. dev. of 7 runs, 10,000 loops each)\n"
     ]
    }
   ],
   "source": [
    "%%timeit\n",
    "img = np.full((size := 224, size, 3), 255, dtype=np.uint8)\n",
    "for polygon in tangram:\n",
    "    fillConvexPoly(img, xy2rc(polygon.vertices, shape=img.shape[:-1]), color=polygon.color)\n",
    "# Image.fromarray(img)"
   ]
  },
  {
   "cell_type": "code",
   "execution_count": 19,
   "metadata": {},
   "outputs": [
    {
     "name": "stdout",
     "output_type": "stream",
     "text": [
      "78.2 µs ± 469 ns per loop (mean ± std. dev. of 7 runs, 10,000 loops each)\n"
     ]
    }
   ],
   "source": [
    "%%timeit\n",
    "img = np.full((size := 224, size, 3), 255, dtype=np.uint8)\n",
    "for polygon in tangram:\n",
    "    # fillPoly(img, [xy2rc(polygon.vertices, shape=img.shape[:-1])], color=polygon.color)\n",
    "    fillPoly(img, [[0, size] + (polygon.vertices * [size, -size]).astype(int)], color=polygon.color)\n",
    "# Image.fromarray(img)"
   ]
  },
  {
   "cell_type": "markdown",
   "metadata": {},
   "source": [
    "> Winner (below) - Colored"
   ]
  },
  {
   "cell_type": "code",
   "execution_count": 20,
   "metadata": {},
   "outputs": [
    {
     "name": "stdout",
     "output_type": "stream",
     "text": [
      "74.1 µs ± 207 ns per loop (mean ± std. dev. of 7 runs, 10,000 loops each)\n"
     ]
    }
   ],
   "source": [
    "%%timeit\n",
    "img = np.full((size := 224, size, 3), 255, dtype=np.uint8)\n",
    "for polygon in tangram:\n",
    "    # fillPoly(img, [xy2rc(polygon.vertices, shape=img.shape[:-1])], color=polygon.color)\n",
    "    fillConvexPoly(img, [0, size] + (polygon.vertices * [size, -size]).astype(int), color=polygon.color)\n",
    "# Image.fromarray(img)"
   ]
  },
  {
   "cell_type": "markdown",
   "metadata": {},
   "source": [
    "#### Grayscale"
   ]
  },
  {
   "cell_type": "code",
   "execution_count": 21,
   "metadata": {},
   "outputs": [
    {
     "name": "stdout",
     "output_type": "stream",
     "text": [
      "86.7 µs ± 65.3 ns per loop (mean ± std. dev. of 7 runs, 10,000 loops each)\n"
     ]
    }
   ],
   "source": [
    "%%timeit\n",
    "img = np.full((size := 224, size, 3), 255, dtype=np.uint8)\n",
    "fillPoly(img, [xy2rc(polygon.vertices, shape=img.shape) for polygon in tangram.polygons], color=0)\n",
    "# Image.fromarray(img)"
   ]
  },
  {
   "cell_type": "code",
   "execution_count": 22,
   "metadata": {},
   "outputs": [
    {
     "name": "stdout",
     "output_type": "stream",
     "text": [
      "77.3 µs ± 235 ns per loop (mean ± std. dev. of 7 runs, 10,000 loops each)\n"
     ]
    }
   ],
   "source": [
    "%%timeit\n",
    "img = np.full((size := 224, size), 255, dtype=np.uint8)\n",
    "fillPoly(img, [xy2rc(polygon.vertices, shape=img.shape) for polygon in tangram.polygons], color=0)\n",
    "# Image.fromarray(img)"
   ]
  },
  {
   "cell_type": "code",
   "execution_count": 23,
   "metadata": {},
   "outputs": [
    {
     "name": "stdout",
     "output_type": "stream",
     "text": [
      "65.3 µs ± 159 ns per loop (mean ± std. dev. of 7 runs, 10,000 loops each)\n"
     ]
    }
   ],
   "source": [
    "%%timeit\n",
    "img = np.full((size := 224, size, 3), 255, dtype=np.uint8)\n",
    "fillPoly(img, [[0, size] + (polygon.vertices * [size, -size]).astype(int) for polygon in tangram.polygons], color=0)\n",
    "# Image.fromarray(img)"
   ]
  },
  {
   "cell_type": "markdown",
   "metadata": {},
   "source": [
    "> Winner (below) - Grayscale"
   ]
  },
  {
   "cell_type": "code",
   "execution_count": 24,
   "metadata": {},
   "outputs": [
    {
     "name": "stdout",
     "output_type": "stream",
     "text": [
      "57.1 µs ± 77.5 ns per loop (mean ± std. dev. of 7 runs, 10,000 loops each)\n"
     ]
    }
   ],
   "source": [
    "%%timeit\n",
    "img = np.full((size := 224, size), 255, dtype=np.uint8)\n",
    "fillPoly(img, [[0, size] + (polygon.vertices * [size, -size]).astype(int) for polygon in tangram.polygons], color=0)\n",
    "# Image.fromarray(img)"
   ]
  },
  {
   "cell_type": "code",
   "execution_count": null,
   "metadata": {},
   "outputs": [],
   "source": []
  }
 ],
 "metadata": {
  "kernelspec": {
   "display_name": "mbrl_venv",
   "language": "python",
   "name": "python3"
  },
  "language_info": {
   "codemirror_mode": {
    "name": "ipython",
    "version": 3
   },
   "file_extension": ".py",
   "mimetype": "text/x-python",
   "name": "python",
   "nbconvert_exporter": "python",
   "pygments_lexer": "ipython3",
   "version": "3.8.10"
  }
 },
 "nbformat": 4,
 "nbformat_minor": 2
}
